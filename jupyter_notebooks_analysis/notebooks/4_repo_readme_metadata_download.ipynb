{
 "cells": [
  {
   "cell_type": "markdown",
   "metadata": {
    "comet_cell_id": "5e79b04bd3a5b"
   },
   "source": [
    "# Repository Readme and Metadata Collection\n",
    "\n",
    "This notebook is devoted to understanding how many different repositories contain jupyter notebooks, as well as collecting the preferred readmes and metadata associated with each repository.\n",
    "\n",
    "The downloading of repo readmes occured from 11:42a PST on Thur July 20, 2017 to 2.00a on Sat July 22, 2017.\n",
    "\n",
    "The downloading of repo metadata occured from 9a on Monday July 24, 2017 through 3p on Tuesday July 25, 2017.\n",
    "\n",
    "In total, the downloading of notebooks, notebook metadata, repo metadata, and repo readmes spanned about two weeks."
   ]
  },
  {
   "cell_type": "code",
   "execution_count": 19,
   "metadata": {
    "collapsed": true,
    "comet_cell_id": "3e13e846e39bb"
   },
   "outputs": [],
   "source": [
    "import os\n",
    "import time\n",
    "import json\n",
    "import datetime\n",
    "import requests\n",
    "\n",
    "import numpy as np\n",
    "import pandas as pd\n",
    "import seaborn as sns\n",
    "\n",
    "%matplotlib inline"
   ]
  },
  {
   "cell_type": "markdown",
   "metadata": {
    "comet_cell_id": "e9fc5b7b73dfe"
   },
   "source": [
    "## Create Repository Dataframe\n",
    "\n",
    "First let's make a dataframe with data about each repository."
   ]
  },
  {
   "cell_type": "code",
   "execution_count": 2,
   "metadata": {
    "comet_cell_id": "b240368f47bd9"
   },
   "outputs": [
    {
     "name": "stdout",
     "output_type": "stream",
     "text": [
      "(1253620, 16)\n"
     ]
    },
    {
     "data": {
      "text/html": [
       "<div>\n",
       "<style>\n",
       "    .dataframe thead tr:only-child th {\n",
       "        text-align: right;\n",
       "    }\n",
       "\n",
       "    .dataframe thead th {\n",
       "        text-align: left;\n",
       "    }\n",
       "\n",
       "    .dataframe tbody tr th {\n",
       "        vertical-align: top;\n",
       "    }\n",
       "</style>\n",
       "<table border=\"1\" class=\"dataframe\">\n",
       "  <thead>\n",
       "    <tr style=\"text-align: right;\">\n",
       "      <th></th>\n",
       "      <th>nb_id</th>\n",
       "      <th>html_url</th>\n",
       "      <th>max_filesize</th>\n",
       "      <th>min_filesize</th>\n",
       "      <th>name</th>\n",
       "      <th>owner_html_url</th>\n",
       "      <th>owner_id</th>\n",
       "      <th>owner_login</th>\n",
       "      <th>path</th>\n",
       "      <th>query_page</th>\n",
       "      <th>repo_description</th>\n",
       "      <th>repo_fork</th>\n",
       "      <th>repo_html_url</th>\n",
       "      <th>repo_id</th>\n",
       "      <th>repo_name</th>\n",
       "      <th>repo_private</th>\n",
       "    </tr>\n",
       "  </thead>\n",
       "  <tbody>\n",
       "    <tr>\n",
       "      <th>0</th>\n",
       "      <td>0</td>\n",
       "      <td>https://github.com/dalequark/emotivExperiment/...</td>\n",
       "      <td>10</td>\n",
       "      <td>0</td>\n",
       "      <td>EmotivDataAnalysis.ipynb</td>\n",
       "      <td>https://github.com/dalequark</td>\n",
       "      <td>2328571</td>\n",
       "      <td>dalequark</td>\n",
       "      <td>ipynb/EmotivDataAnalysis.ipynb</td>\n",
       "      <td>1</td>\n",
       "      <td>NaN</td>\n",
       "      <td>False</td>\n",
       "      <td>https://github.com/dalequark/emotivExperiment</td>\n",
       "      <td>26093748</td>\n",
       "      <td>emotivExperiment</td>\n",
       "      <td>False</td>\n",
       "    </tr>\n",
       "    <tr>\n",
       "      <th>1</th>\n",
       "      <td>1</td>\n",
       "      <td>https://github.com/kevcisme/madelon_redux/blob...</td>\n",
       "      <td>10</td>\n",
       "      <td>0</td>\n",
       "      <td>Part_IV_Project_3-checkpoint_BASE_63907.ipynb</td>\n",
       "      <td>https://github.com/kevcisme</td>\n",
       "      <td>24496260</td>\n",
       "      <td>kevcisme</td>\n",
       "      <td>ipynb/.ipynb_checkpoints/Part_IV_Project_3-che...</td>\n",
       "      <td>1</td>\n",
       "      <td>NaN</td>\n",
       "      <td>False</td>\n",
       "      <td>https://github.com/kevcisme/madelon_redux</td>\n",
       "      <td>95729593</td>\n",
       "      <td>madelon_redux</td>\n",
       "      <td>False</td>\n",
       "    </tr>\n",
       "    <tr>\n",
       "      <th>2</th>\n",
       "      <td>2</td>\n",
       "      <td>https://github.com/HaraldoFilho/DLND-Projects/...</td>\n",
       "      <td>10</td>\n",
       "      <td>0</td>\n",
       "      <td>_.ipynb</td>\n",
       "      <td>https://github.com/HaraldoFilho</td>\n",
       "      <td>15271881</td>\n",
       "      <td>HaraldoFilho</td>\n",
       "      <td>_.ipynb</td>\n",
       "      <td>1</td>\n",
       "      <td>Index for the projects of the Udacity's \"Deep ...</td>\n",
       "      <td>False</td>\n",
       "      <td>https://github.com/HaraldoFilho/DLND-Projects</td>\n",
       "      <td>88182909</td>\n",
       "      <td>DLND-Projects</td>\n",
       "      <td>False</td>\n",
       "    </tr>\n",
       "    <tr>\n",
       "      <th>3</th>\n",
       "      <td>3</td>\n",
       "      <td>https://github.com/mhjensen/CPMLS/blob/4a5b37e...</td>\n",
       "      <td>10</td>\n",
       "      <td>0</td>\n",
       "      <td>csexmas2015.ipynb</td>\n",
       "      <td>https://github.com/mhjensen</td>\n",
       "      <td>2732953</td>\n",
       "      <td>mhjensen</td>\n",
       "      <td>doc/pub/CSETalks/csexmas2015/ipynb/csexmas2015...</td>\n",
       "      <td>1</td>\n",
       "      <td>Master program in Computational Science. The l...</td>\n",
       "      <td>False</td>\n",
       "      <td>https://github.com/mhjensen/CPMLS</td>\n",
       "      <td>35169104</td>\n",
       "      <td>CPMLS</td>\n",
       "      <td>False</td>\n",
       "    </tr>\n",
       "    <tr>\n",
       "      <th>4</th>\n",
       "      <td>4</td>\n",
       "      <td>https://github.com/freqn/atom_configuration/bl...</td>\n",
       "      <td>10</td>\n",
       "      <td>0</td>\n",
       "      <td>jupyter.ipynb</td>\n",
       "      <td>https://github.com/freqn</td>\n",
       "      <td>3611075</td>\n",
       "      <td>freqn</td>\n",
       "      <td>packages/file-icons/examples/jupyter.ipynb</td>\n",
       "      <td>1</td>\n",
       "      <td>Atom Config</td>\n",
       "      <td>False</td>\n",
       "      <td>https://github.com/freqn/atom_configuration</td>\n",
       "      <td>57460377</td>\n",
       "      <td>atom_configuration</td>\n",
       "      <td>False</td>\n",
       "    </tr>\n",
       "  </tbody>\n",
       "</table>\n",
       "</div>"
      ],
      "text/plain": [
       "   nb_id                                           html_url  max_filesize  \\\n",
       "0      0  https://github.com/dalequark/emotivExperiment/...            10   \n",
       "1      1  https://github.com/kevcisme/madelon_redux/blob...            10   \n",
       "2      2  https://github.com/HaraldoFilho/DLND-Projects/...            10   \n",
       "3      3  https://github.com/mhjensen/CPMLS/blob/4a5b37e...            10   \n",
       "4      4  https://github.com/freqn/atom_configuration/bl...            10   \n",
       "\n",
       "   min_filesize                                           name  \\\n",
       "0             0                       EmotivDataAnalysis.ipynb   \n",
       "1             0  Part_IV_Project_3-checkpoint_BASE_63907.ipynb   \n",
       "2             0                                        _.ipynb   \n",
       "3             0                              csexmas2015.ipynb   \n",
       "4             0                                  jupyter.ipynb   \n",
       "\n",
       "                    owner_html_url  owner_id   owner_login  \\\n",
       "0     https://github.com/dalequark   2328571     dalequark   \n",
       "1      https://github.com/kevcisme  24496260      kevcisme   \n",
       "2  https://github.com/HaraldoFilho  15271881  HaraldoFilho   \n",
       "3      https://github.com/mhjensen   2732953      mhjensen   \n",
       "4         https://github.com/freqn   3611075         freqn   \n",
       "\n",
       "                                                path  query_page  \\\n",
       "0                     ipynb/EmotivDataAnalysis.ipynb           1   \n",
       "1  ipynb/.ipynb_checkpoints/Part_IV_Project_3-che...           1   \n",
       "2                                            _.ipynb           1   \n",
       "3  doc/pub/CSETalks/csexmas2015/ipynb/csexmas2015...           1   \n",
       "4         packages/file-icons/examples/jupyter.ipynb           1   \n",
       "\n",
       "                                    repo_description  repo_fork  \\\n",
       "0                                                NaN      False   \n",
       "1                                                NaN      False   \n",
       "2  Index for the projects of the Udacity's \"Deep ...      False   \n",
       "3  Master program in Computational Science. The l...      False   \n",
       "4                                        Atom Config      False   \n",
       "\n",
       "                                   repo_html_url   repo_id  \\\n",
       "0  https://github.com/dalequark/emotivExperiment  26093748   \n",
       "1      https://github.com/kevcisme/madelon_redux  95729593   \n",
       "2  https://github.com/HaraldoFilho/DLND-Projects  88182909   \n",
       "3              https://github.com/mhjensen/CPMLS  35169104   \n",
       "4    https://github.com/freqn/atom_configuration  57460377   \n",
       "\n",
       "            repo_name  repo_private  \n",
       "0    emotivExperiment         False  \n",
       "1       madelon_redux         False  \n",
       "2       DLND-Projects         False  \n",
       "3               CPMLS         False  \n",
       "4  atom_configuration         False  "
      ]
     },
     "execution_count": 2,
     "metadata": {},
     "output_type": "execute_result"
    }
   ],
   "source": [
    "df = pd.read_csv('../data/csv/nb_metadata.csv')\n",
    "df.rename(columns = {'Unnamed: 0':'nb_id'}, inplace = True)\n",
    "print(df.shape)\n",
    "df.head()"
   ]
  },
  {
   "cell_type": "code",
   "execution_count": 3,
   "metadata": {
    "comet_cell_id": "08e84ec5fcde2"
   },
   "outputs": [
    {
     "name": "stdout",
     "output_type": "stream",
     "text": [
      "(193616, 1)\n"
     ]
    },
    {
     "data": {
      "text/html": [
       "<div>\n",
       "<style>\n",
       "    .dataframe thead tr:only-child th {\n",
       "        text-align: right;\n",
       "    }\n",
       "\n",
       "    .dataframe thead th {\n",
       "        text-align: left;\n",
       "    }\n",
       "\n",
       "    .dataframe tbody tr th {\n",
       "        vertical-align: top;\n",
       "    }\n",
       "</style>\n",
       "<table border=\"1\" class=\"dataframe\">\n",
       "  <thead>\n",
       "    <tr style=\"text-align: right;\">\n",
       "      <th></th>\n",
       "      <th>num_nb</th>\n",
       "    </tr>\n",
       "  </thead>\n",
       "  <tbody>\n",
       "    <tr>\n",
       "      <th>13769471</th>\n",
       "      <td>10950</td>\n",
       "    </tr>\n",
       "    <tr>\n",
       "      <th>79205031</th>\n",
       "      <td>4483</td>\n",
       "    </tr>\n",
       "    <tr>\n",
       "      <th>91523680</th>\n",
       "      <td>4004</td>\n",
       "    </tr>\n",
       "    <tr>\n",
       "      <th>68774322</th>\n",
       "      <td>3636</td>\n",
       "    </tr>\n",
       "    <tr>\n",
       "      <th>55120679</th>\n",
       "      <td>3074</td>\n",
       "    </tr>\n",
       "  </tbody>\n",
       "</table>\n",
       "</div>"
      ],
      "text/plain": [
       "          num_nb\n",
       "13769471   10950\n",
       "79205031    4483\n",
       "91523680    4004\n",
       "68774322    3636\n",
       "55120679    3074"
      ]
     },
     "execution_count": 3,
     "metadata": {},
     "output_type": "execute_result"
    }
   ],
   "source": [
    "repo_counts = df['repo_id'].value_counts()\n",
    "df_repos = repo_counts.to_frame(\"num_nb\")\n",
    "print(df_repos.shape)\n",
    "df_repos.head()"
   ]
  },
  {
   "cell_type": "markdown",
   "metadata": {
    "comet_cell_id": "d42fad3e8da1f"
   },
   "source": [
    "There appear to be 193,616 unique repositories. That puts us at about 6 notebooks per repository on average, though the mode or median is likely a better measure of central tendency given how skewed I expect this data to be.\n",
    "\n",
    "Let's now get the owner name and repo name for each repo by merging it with our notebooks table."
   ]
  },
  {
   "cell_type": "code",
   "execution_count": 4,
   "metadata": {
    "comet_cell_id": "2b5cd27d2a78b"
   },
   "outputs": [
    {
     "name": "stdout",
     "output_type": "stream",
     "text": [
      "(193616, 2)\n"
     ]
    },
    {
     "data": {
      "text/html": [
       "<div>\n",
       "<style>\n",
       "    .dataframe thead tr:only-child th {\n",
       "        text-align: right;\n",
       "    }\n",
       "\n",
       "    .dataframe thead th {\n",
       "        text-align: left;\n",
       "    }\n",
       "\n",
       "    .dataframe tbody tr th {\n",
       "        vertical-align: top;\n",
       "    }\n",
       "</style>\n",
       "<table border=\"1\" class=\"dataframe\">\n",
       "  <thead>\n",
       "    <tr style=\"text-align: right;\">\n",
       "      <th></th>\n",
       "      <th>num_nb</th>\n",
       "      <th>repo_id</th>\n",
       "    </tr>\n",
       "  </thead>\n",
       "  <tbody>\n",
       "    <tr>\n",
       "      <th>0</th>\n",
       "      <td>10950</td>\n",
       "      <td>13769471</td>\n",
       "    </tr>\n",
       "    <tr>\n",
       "      <th>1</th>\n",
       "      <td>4483</td>\n",
       "      <td>79205031</td>\n",
       "    </tr>\n",
       "    <tr>\n",
       "      <th>2</th>\n",
       "      <td>4004</td>\n",
       "      <td>91523680</td>\n",
       "    </tr>\n",
       "    <tr>\n",
       "      <th>3</th>\n",
       "      <td>3636</td>\n",
       "      <td>68774322</td>\n",
       "    </tr>\n",
       "    <tr>\n",
       "      <th>4</th>\n",
       "      <td>3074</td>\n",
       "      <td>55120679</td>\n",
       "    </tr>\n",
       "  </tbody>\n",
       "</table>\n",
       "</div>"
      ],
      "text/plain": [
       "   num_nb   repo_id\n",
       "0   10950  13769471\n",
       "1    4483  79205031\n",
       "2    4004  91523680\n",
       "3    3636  68774322\n",
       "4    3074  55120679"
      ]
     },
     "execution_count": 4,
     "metadata": {},
     "output_type": "execute_result"
    }
   ],
   "source": [
    "df_repos['repo_id'] = df_repos.index \n",
    "df_repos.reset_index(drop=True, inplace=True)\n",
    "print(df_repos.shape)\n",
    "df_repos.head()"
   ]
  },
  {
   "cell_type": "code",
   "execution_count": 5,
   "metadata": {
    "comet_cell_id": "ef73ec2865537"
   },
   "outputs": [
    {
     "name": "stdout",
     "output_type": "stream",
     "text": [
      "(193656, 4)\n"
     ]
    },
    {
     "data": {
      "text/html": [
       "<div>\n",
       "<style>\n",
       "    .dataframe thead tr:only-child th {\n",
       "        text-align: right;\n",
       "    }\n",
       "\n",
       "    .dataframe thead th {\n",
       "        text-align: left;\n",
       "    }\n",
       "\n",
       "    .dataframe tbody tr th {\n",
       "        vertical-align: top;\n",
       "    }\n",
       "</style>\n",
       "<table border=\"1\" class=\"dataframe\">\n",
       "  <thead>\n",
       "    <tr style=\"text-align: right;\">\n",
       "      <th></th>\n",
       "      <th>num_nb</th>\n",
       "      <th>repo_id</th>\n",
       "      <th>owner_login</th>\n",
       "      <th>repo_name</th>\n",
       "    </tr>\n",
       "  </thead>\n",
       "  <tbody>\n",
       "    <tr>\n",
       "      <th>0</th>\n",
       "      <td>10950</td>\n",
       "      <td>13769471</td>\n",
       "      <td>FOSSEE</td>\n",
       "      <td>Python-Textbook-Companions</td>\n",
       "    </tr>\n",
       "    <tr>\n",
       "      <th>1</th>\n",
       "      <td>4483</td>\n",
       "      <td>79205031</td>\n",
       "      <td>nbadmin-ibm</td>\n",
       "      <td>automated-bdd-test-repository</td>\n",
       "    </tr>\n",
       "    <tr>\n",
       "      <th>2</th>\n",
       "      <td>4004</td>\n",
       "      <td>91523680</td>\n",
       "      <td>ucsd-edx</td>\n",
       "      <td>CSE255-DSE230-Grading</td>\n",
       "    </tr>\n",
       "    <tr>\n",
       "      <th>3</th>\n",
       "      <td>3636</td>\n",
       "      <td>68774322</td>\n",
       "      <td>wanglongjuan</td>\n",
       "      <td>15-ODE-homework</td>\n",
       "    </tr>\n",
       "    <tr>\n",
       "      <th>4</th>\n",
       "      <td>3074</td>\n",
       "      <td>55120679</td>\n",
       "      <td>TakeToh</td>\n",
       "      <td>pywork</td>\n",
       "    </tr>\n",
       "  </tbody>\n",
       "</table>\n",
       "</div>"
      ],
      "text/plain": [
       "   num_nb   repo_id   owner_login                      repo_name\n",
       "0   10950  13769471        FOSSEE     Python-Textbook-Companions\n",
       "1    4483  79205031   nbadmin-ibm  automated-bdd-test-repository\n",
       "2    4004  91523680      ucsd-edx          CSE255-DSE230-Grading\n",
       "3    3636  68774322  wanglongjuan                15-ODE-homework\n",
       "4    3074  55120679       TakeToh                         pywork"
      ]
     },
     "execution_count": 5,
     "metadata": {},
     "output_type": "execute_result"
    }
   ],
   "source": [
    "df_repos_full = df_repos.merge(df[['repo_id', 'owner_login', 'repo_name']], how='left', on='repo_id')\n",
    "df_repos_full.drop_duplicates(inplace=True)\n",
    "df_repos_full.reset_index(drop=True, inplace=True)\n",
    "print(df_repos_full.shape)\n",
    "df_repos_full.head()"
   ]
  },
  {
   "cell_type": "markdown",
   "metadata": {
    "comet_cell_id": "0e9727b1386f5"
   },
   "source": [
    "Hmnm, note that we now have 40 additional repo names. Let's check for duplicates. "
   ]
  },
  {
   "cell_type": "code",
   "execution_count": 25,
   "metadata": {
    "comet_cell_id": "ee9e15584941e"
   },
   "outputs": [
    {
     "data": {
      "text/plain": [
       "40"
      ]
     },
     "execution_count": 25,
     "metadata": {},
     "output_type": "execute_result"
    }
   ],
   "source": [
    "multiples = df_repos_full['repo_id'].value_counts()[df_repos_full['repo_id'].value_counts() >= 2]\n",
    "print(len(multiples))\n",
    "\n",
    "df_repos_full[df_repos_full['repo_id']==multiples.index[0]]"
   ]
  },
  {
   "cell_type": "markdown",
   "metadata": {
    "collapsed": true,
    "comet_cell_id": "83f390192a8b6"
   },
   "source": [
    "So we have the same repo with different owner names. Looking at these manually, it seems like there are links. When I type in Williams0692 into Github the user does not exist, but when I go to the repo, it redirects me to one with LoriWirth as the owner. \n",
    "\n",
    "It looks like if this is the case for all 40, we will be safe removing the duplicates as we will just be redirected if we use one of the other link."
   ]
  },
  {
   "cell_type": "code",
   "execution_count": 8,
   "metadata": {
    "comet_cell_id": "2b6bfe0311fc4"
   },
   "outputs": [
    {
     "name": "stdout",
     "output_type": "stream",
     "text": [
      "(193616, 4)\n"
     ]
    },
    {
     "data": {
      "text/html": [
       "<div>\n",
       "<style>\n",
       "    .dataframe thead tr:only-child th {\n",
       "        text-align: right;\n",
       "    }\n",
       "\n",
       "    .dataframe thead th {\n",
       "        text-align: left;\n",
       "    }\n",
       "\n",
       "    .dataframe tbody tr th {\n",
       "        vertical-align: top;\n",
       "    }\n",
       "</style>\n",
       "<table border=\"1\" class=\"dataframe\">\n",
       "  <thead>\n",
       "    <tr style=\"text-align: right;\">\n",
       "      <th></th>\n",
       "      <th>num_nb</th>\n",
       "      <th>repo_id</th>\n",
       "      <th>owner_login</th>\n",
       "      <th>repo_name</th>\n",
       "    </tr>\n",
       "  </thead>\n",
       "  <tbody>\n",
       "    <tr>\n",
       "      <th>0</th>\n",
       "      <td>10950</td>\n",
       "      <td>13769471</td>\n",
       "      <td>FOSSEE</td>\n",
       "      <td>Python-Textbook-Companions</td>\n",
       "    </tr>\n",
       "    <tr>\n",
       "      <th>1</th>\n",
       "      <td>4483</td>\n",
       "      <td>79205031</td>\n",
       "      <td>nbadmin-ibm</td>\n",
       "      <td>automated-bdd-test-repository</td>\n",
       "    </tr>\n",
       "    <tr>\n",
       "      <th>2</th>\n",
       "      <td>4004</td>\n",
       "      <td>91523680</td>\n",
       "      <td>ucsd-edx</td>\n",
       "      <td>CSE255-DSE230-Grading</td>\n",
       "    </tr>\n",
       "    <tr>\n",
       "      <th>3</th>\n",
       "      <td>3636</td>\n",
       "      <td>68774322</td>\n",
       "      <td>wanglongjuan</td>\n",
       "      <td>15-ODE-homework</td>\n",
       "    </tr>\n",
       "    <tr>\n",
       "      <th>4</th>\n",
       "      <td>3074</td>\n",
       "      <td>55120679</td>\n",
       "      <td>TakeToh</td>\n",
       "      <td>pywork</td>\n",
       "    </tr>\n",
       "  </tbody>\n",
       "</table>\n",
       "</div>"
      ],
      "text/plain": [
       "   num_nb   repo_id   owner_login                      repo_name\n",
       "0   10950  13769471        FOSSEE     Python-Textbook-Companions\n",
       "1    4483  79205031   nbadmin-ibm  automated-bdd-test-repository\n",
       "2    4004  91523680      ucsd-edx          CSE255-DSE230-Grading\n",
       "3    3636  68774322  wanglongjuan                15-ODE-homework\n",
       "4    3074  55120679       TakeToh                         pywork"
      ]
     },
     "execution_count": 8,
     "metadata": {},
     "output_type": "execute_result"
    }
   ],
   "source": [
    "df_repos_dedup = df_repos_full.drop_duplicates(subset = ['repo_id'], keep='first')\n",
    "df_repos_dedup.reset_index(drop=True, inplace=True)\n",
    "print(df_repos_dedup.shape)\n",
    "df_repos_dedup.head()"
   ]
  },
  {
   "cell_type": "markdown",
   "metadata": {
    "comet_cell_id": "a8cc45b93f19f"
   },
   "source": [
    "# Download preferred readmes\n",
    "\n",
    "And now, we can attempt to download the preferred readme for each repo."
   ]
  },
  {
   "cell_type": "code",
   "execution_count": 17,
   "metadata": {
    "collapsed": true,
    "comet_cell_id": "7fdc19c41b05b"
   },
   "outputs": [],
   "source": [
    "header = {'Authorization': 'token %s' % os.environ['GITHUB_TOKEN']}\n",
    "\n",
    "def write_to_log(msg):\n",
    "    f = '../logs/repo_readme_log.txt'\n",
    "    log_file = open(f, \"a\")\n",
    "    log_file.write(msg + \"\\n\")\n",
    "    log_file.close()\n",
    "    \n",
    "\n",
    "def get_readmes_from_df(data_frame):\n",
    "    \n",
    "    # check the files already downloaded in case we need to restart the search\n",
    "    current_files = os.listdir('../data/readmes')\n",
    "    print(\"There are currently %s readme files saved\"% len(current_files))\n",
    "    \n",
    "    for i, row in data_frame.iterrows():\n",
    "        \n",
    "        # keep track of the download progress\n",
    "        if i % 10000 == 0:\n",
    "            print(i)\n",
    "        \n",
    "        # don't save files we already have\n",
    "        if 'readme_%s.json' % row['repo_id'] in current_files:\n",
    "            continue\n",
    "        \n",
    "        recorded = False\n",
    "        \n",
    "        wait_time = 0        \n",
    "        \n",
    "        while not recorded:\n",
    "            \n",
    "            time.sleep(wait_time)\n",
    "        \n",
    "            date_string = datetime.datetime.now().strftime(\"%Y-%m-%d %H:%M:%S\")\n",
    "            \n",
    "            try:\n",
    "                # query the api\n",
    "                url = 'https://api.github.com/repos/%s/%s/readme' % (row['owner_login'], row['repo_name'])\n",
    "\n",
    "                r = requests.get(url, headers = header)\n",
    "                j = r.json()\n",
    "                h = r.headers\n",
    "\n",
    "                # handle abuse rate limiting\n",
    "                if h['Status'] == \"403 Forbidden\":\n",
    "                    print(\"%s: Hit rate limit. Retry at %s\" % (h['Date'], h['X-RateLimit-Reset']))\n",
    "                    wait_time = int(h['X-RateLimit-Reset']) - time.time() + 1\n",
    "                    continue\n",
    "                else:\n",
    "\n",
    "                    filename = '../data/readmes/readme_%s.json' % row['repo_id']\n",
    "                    with open(filename, 'w') as readme_file:\n",
    "                        json.dump(j, readme_file)\n",
    "\n",
    "                    msg = \"%s: downloaded readme for repo %s\" % (date_string, row['repo_id'])\n",
    "                    write_to_log(msg)\n",
    "                    recorded = True\n",
    "                    wait_time = 0\n",
    "\n",
    "            except:\n",
    "                msg = \"%s: had trouble downloading readme for repo %s\" % (date_string, row['repo_id'])\n",
    "                write_to_log(msg)\n",
    "                print(msg)"
   ]
  },
  {
   "cell_type": "code",
   "execution_count": 18,
   "metadata": {
    "comet_cell_id": "f28c0066a772f"
   },
   "outputs": [
    {
     "name": "stdout",
     "output_type": "stream",
     "text": [
      "There are currently 193617 readme files saved\n",
      "0\n",
      "10000\n",
      "20000\n",
      "30000\n",
      "40000\n",
      "50000\n",
      "60000\n",
      "70000\n",
      "80000\n",
      "90000\n",
      "100000\n",
      "110000\n",
      "120000\n",
      "130000\n",
      "140000\n",
      "150000\n",
      "160000\n",
      "170000\n",
      "180000\n",
      "190000\n"
     ]
    }
   ],
   "source": [
    "get_readmes_from_df(df_repos_dedup)"
   ]
  },
  {
   "cell_type": "markdown",
   "metadata": {
    "comet_cell_id": "ebaa90d26e11f"
   },
   "source": [
    "## Download Repo Metadata\n",
    "\n",
    "We can now use Github's API to also get the metadata for each repo. We are especially interested in the number of forks, watches, and other measures that show collaboration."
   ]
  },
  {
   "cell_type": "code",
   "execution_count": null,
   "metadata": {
    "collapsed": true,
    "comet_cell_id": "3297bb55cc7ec"
   },
   "outputs": [],
   "source": [
    "os.environ['GITHUB_TOKEN'] = \n",
    "header = {'Authorization': 'token %s' % os.environ['GITHUB_TOKEN']}"
   ]
  },
  {
   "cell_type": "code",
   "execution_count": null,
   "metadata": {
    "collapsed": true,
    "comet_cell_id": "390633d267beb"
   },
   "outputs": [],
   "source": [
    "def write_to_log(msg):\n",
    "    f = '../logs/repo_metadata_query_log.txt'\n",
    "    log_file = open(f, \"a\")\n",
    "    log_file.write(msg + \"\\n\")\n",
    "    log_file.close()\n",
    "    \n",
    "\n",
    "def get_repo_data_from_df(data_frame):\n",
    "    \n",
    "    # check the files already downloaded in case we need to restart the search\n",
    "    current_files = os.listdir('../data/api_results/repo_metadata')\n",
    "    print(\"There are currently %s repo metadata files saved\"% len(current_files))\n",
    "    \n",
    "    for i, row in data_frame.iterrows():\n",
    "        \n",
    "        # keep track of the download progress\n",
    "        if i % 100000 == 0:\n",
    "            print(\"%s repo metadata files saved\" % i)\n",
    "        \n",
    "        # don't save files we already have\n",
    "        if 'repo_%s.json' % row['repo_id'] in current_files:\n",
    "            continue\n",
    "        \n",
    "        recorded = False\n",
    "        \n",
    "        wait_time = 0        \n",
    "        \n",
    "        while not recorded:\n",
    "            \n",
    "            time.sleep(wait_time)\n",
    "        \n",
    "            date_string = datetime.datetime.now().strftime(\"%Y-%m-%d %H:%M:%S\")\n",
    "            \n",
    "            try:\n",
    "                # query the api\n",
    "                url = 'https://api.github.com/repos/%s/%s' % (row['owner_login'], row['repo_name'])\n",
    "\n",
    "                r = requests.get(url, headers = header)\n",
    "                j = r.json()\n",
    "                h = r.headers\n",
    "\n",
    "                # handle abuse rate limiting\n",
    "                if h['Status'] == \"403 Forbidden\":\n",
    "                    print(\"%s: Hit rate limit. Retry at %s\" % (h['Date'], h['X-RateLimit-Reset']))\n",
    "                    wait_time = int(h['X-RateLimit-Reset']) - time.time() + 1\n",
    "                    continue\n",
    "                else:\n",
    "\n",
    "                    filename = '../data/api_results/repo_metadata/repo_%s.json' % row['repo_id']\n",
    "                    with open(filename, 'w') as readme_file:\n",
    "                        json.dump(j, readme_file)\n",
    "\n",
    "                    msg = \"%s: downloaded readme for repo %s\" % (date_string, row['repo_id'])\n",
    "                    write_to_log(msg)\n",
    "                    recorded = True\n",
    "                    wait_time = 0\n",
    "\n",
    "            except:\n",
    "                raise\n",
    "                msg = \"%s: had trouble downloading readme for repo %s\" % (date_string, row['repo_id'])\n",
    "                write_to_log(msg)\n",
    "                print(msg)"
   ]
  },
  {
   "cell_type": "code",
   "execution_count": null,
   "metadata": {
    "collapsed": true,
    "comet_cell_id": "9f114b6d058fd"
   },
   "outputs": [],
   "source": [
    "get_repo_data_from_df()"
   ]
  },
  {
   "cell_type": "markdown",
   "metadata": {
    "comet_cell_id": "f4409722cd6de"
   },
   "source": [
    "And that's a wrap. We have now downloaded metadatafor 1.25 million notebooks as well as the preferred readme and metadata for each repo containing these notebooks. Now on to [cleaning the repo metadata and readmes](5_repo_metadata_cleaning.ipynb)."
   ]
  },
  {
   "cell_type": "code",
   "execution_count": null,
   "metadata": {
    "collapsed": true,
    "comet_cell_id": "e27679bd40d87"
   },
   "outputs": [],
   "source": []
  }
 ],
 "metadata": {
  "comet_paths": [
   [
    "b47baa7f/2_repository_analysis.ipynb",
    1500317960441
   ],
   [
    "b47baa7f/2_repo_readme_metadata_collection.ipynb",
    1501004265527
   ],
   [
    "d1dd24ab/2_repo_readme_metadata_collection.ipynb",
    1501095751738
   ],
   [
    "d1dd24ab/4_repo_readme_metadata_download.ipynb",
    1501096953050
   ]
  ],
  "comet_tracking": true,
  "kernelspec": {
   "display_name": "Python 3",
   "language": "python",
   "name": "python3"
  },
  "language_info": {
   "codemirror_mode": {
    "name": "ipython",
    "version": 3
   },
   "file_extension": ".py",
   "mimetype": "text/x-python",
   "name": "python",
   "nbconvert_exporter": "python",
   "pygments_lexer": "ipython3",
   "version": "3.6.4"
  }
 },
 "nbformat": 4,
 "nbformat_minor": 2
}
