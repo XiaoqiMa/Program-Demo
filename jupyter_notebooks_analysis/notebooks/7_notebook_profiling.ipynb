{
 "cells": [
  {
   "cell_type": "markdown",
   "metadata": {
    "comet_cell_id": "7debc7a86f168"
   },
   "source": [
    "# Notebook and Repository Analysis\n",
    "\n",
    "This notebook performs an exploratory analysis of 1.25 million Jupyter notebooks on Github and their repositories. I'll try to clean the notebook as I go, but some of this may be messy."
   ]
  },
  {
   "cell_type": "code",
   "execution_count": 1,
   "metadata": {
    "collapsed": true,
    "comet_cell_id": "acd25d3eca017"
   },
   "outputs": [],
   "source": [
    "import os\n",
    "import json\n",
    "import math\n",
    "\n",
    "import numpy as np\n",
    "import pandas as pd\n",
    "import seaborn as sns\n",
    "import matplotlib.pyplot as plt\n",
    "\n",
    "%matplotlib inline"
   ]
  },
  {
   "cell_type": "markdown",
   "metadata": {
    "comet_cell_id": "acebf97f6fc4c"
   },
   "source": [
    "# 0. Import Notebook, Cell, Repo, and Readme Data"
   ]
  },
  {
   "cell_type": "code",
   "execution_count": 2,
   "metadata": {
    "collapsed": true,
    "comet_cell_id": "69133b6e89058"
   },
   "outputs": [],
   "source": [
    "# load data from our csv files\n",
    "df_nb = pd.read_csv('../data/csv/nb_metadata.csv')\n",
    "df_cell = pd.read_csv('../data/csv/cell_metadata.csv')\n",
    "df_repo = pd.read_csv('../data/csv/repo_metadata.csv')\n",
    "df_readme = pd.read_csv('../data/csv/repo_readme.csv')"
   ]
  },
  {
   "cell_type": "code",
   "execution_count": 3,
   "metadata": {
    "collapsed": true,
    "comet_cell_id": "e9e104047f483"
   },
   "outputs": [],
   "source": [
    "# filter out forked repos\n",
    "df_nb = df_nb[df_nb.repo_fork == False] \n",
    "\n",
    "# remove unwanted columns\n",
    "del df_nb['Unnamed: 0']\n",
    "del df_nb['max_filesize']\n",
    "del df_nb['min_filesize']\n",
    "del df_nb['owner_html_url']\n",
    "del df_nb['query_page']\n",
    "del df_nb['repo_private']\n",
    "del df_nb['repo_fork']\n",
    "del df_nb['repo_html_url']\n",
    "del df_nb['kernel_lang']\n",
    "del df_nb['kernel_name']\n",
    "del df_nb['num_cells']"
   ]
  },
  {
   "cell_type": "code",
   "execution_count": 4,
   "metadata": {
    "collapsed": true,
    "comet_cell_id": "1d932a8b6d775"
   },
   "outputs": [],
   "source": [
    "# clean cell data\n",
    "del df_cell['Unnamed: 0']\n",
    "del df_cell['Unnamed: 0.1']\n",
    "\n",
    "df_cell['workbook_index'].fillna(0, inplace = True)\n",
    "df_cell['workbook_index'] = df_cell['workbook_index'].astype(int)\n",
    "\n",
    "df_cell['num_words'].fillna(0, inplace = True)\n",
    "df_cell['num_words'] = df_cell['num_words'].astype(int)\n",
    "\n",
    "df_cell['lines_of_code'].fillna(0, inplace = True)\n",
    "df_cell['lines_of_code'] = df_cell['lines_of_code'].astype(int)"
   ]
  },
  {
   "cell_type": "code",
   "execution_count": 5,
   "metadata": {
    "collapsed": true,
    "comet_cell_id": "e013f09a8dd6c"
   },
   "outputs": [],
   "source": [
    "# filter out forked repos\n",
    "df_repo = df_repo[df_repo.fork == False] \n",
    "\n",
    "# deleted unnecessary columns\n",
    "del df_repo['stargazers_count']\n",
    "del df_repo['Unnamed: 0']\n",
    "del df_repo['fork']\n",
    "del df_repo['private']"
   ]
  },
  {
   "cell_type": "code",
   "execution_count": 6,
   "metadata": {
    "collapsed": true,
    "comet_cell_id": "fe6598983edeb"
   },
   "outputs": [],
   "source": [
    "# delete unnecesary columns in readme data\n",
    "del df_readme['Unnamed: 0']\n",
    "del df_readme['type']"
   ]
  },
  {
   "cell_type": "markdown",
   "metadata": {
    "comet_cell_id": "e5022560afbd1"
   },
   "source": [
    "# 1.0 Reduce dataset to notebooks with complete data\n",
    "\n",
    "Find how many notebooks we did not download metadata for, and reduce our dataframes to include only these."
   ]
  },
  {
   "cell_type": "code",
   "execution_count": 7,
   "metadata": {
    "comet_cell_id": "79b8d3b762143"
   },
   "outputs": [
    {
     "name": "stderr",
     "output_type": "stream",
     "text": [
      "/Users/doug/anaconda/lib/python3.6/site-packages/ipykernel_launcher.py:49: UserWarning: Boolean Series key will be reindexed to match DataFrame index.\n"
     ]
    },
    {
     "name": "stdout",
     "output_type": "stream",
     "text": [
      "Of the 1294163 notebooks available on Github\n",
      "1250857 were returned by our search query\n",
      "43306 notebooks not returned by our search\n",
      "\n",
      "1246469 had repo data we could scrape\n",
      "1233055 had cell data we could extract\n",
      "Leaving 1227573 that we can analyze fully\n",
      "\n",
      "Meaning we have dropped 66590 nbs in total from the analysis\n",
      "or 5.145 percent of the dataset\n"
     ]
    }
   ],
   "source": [
    "# 1. num nbs that did not download \n",
    "num_nbs_not_queried = 0\n",
    "missed_ranges = []\n",
    "\n",
    "num_nbs_bad_result = 0\n",
    "ranges_w_bad_result = []\n",
    "\n",
    "# find notebooks not downloaded due to more than 1000 notebooks having same filesize\n",
    "with open ('../logs/nb_metadata_query_log.txt', 'r') as log:\n",
    "    for l in log:\n",
    "        if l.startswith('TOO MANY RESULTS'):\n",
    "            num_nbs_not_queried += int(l.split()[-2])\n",
    "            missed_ranges.append(l.split()[-4])\n",
    "\n",
    "# find notebooks not downloaded due to incomplete response from github\n",
    "with open('../logs/nb_metadata_cleaning_log.txt', 'r') as log:\n",
    "    for l in log:\n",
    "        parts = l.split()        \n",
    "        if parts[2] == 'incomplete':\n",
    "            with open('../data/api_results/nb_metadata/' + parts[0], 'r') as json_file:                            \n",
    "                file_dict = json.load(json_file)\n",
    "                total_expected = file_dict['total_count']\n",
    "                expected_pages = math.ceil(total_expected / 100.0)\n",
    "                current_page = int(parts[0].split('_')[-1].split('.')[0][1:])\n",
    "                current_items = len(file_dict['items'])\n",
    "                \n",
    "                if current_page < expected_pages and current_items < 100:\n",
    "                    num_nbs_bad_result += (100 - current_items)\n",
    "                    ranges_w_bad_result.append(l.split('_')[2:4])\n",
    "                elif total_expected % 100 > current_items:\n",
    "                    num_nbs_bad_result += (total_expected % 100 - current_items)\n",
    "                    ranges_w_bad_result.append(l.split('_')[2:4])\n",
    "\n",
    "num_nbs_did_not_download = num_nbs_not_queried + num_nbs_bad_result\n",
    "\n",
    "# 2. nbs with metadata\n",
    "nbs_w_file = df_nb.nb_id.unique()\n",
    "\n",
    "# 3. nbs with cell data\n",
    "df_nb_content_count = ( df_cell[[\n",
    "                            'nb_id', \n",
    "                            'lines_of_code', \n",
    "                            'num_words']]\n",
    "                                .groupby('nb_id')\n",
    "                                .sum() )\n",
    "\n",
    "nbs_wo_content = list( df_nb_content_count[\n",
    "    df_nb_content_count.lines_of_code == 0][\n",
    "    df_nb_content_count.num_words == 0].index )\n",
    "\n",
    "nbs_w_cells = df_cell[~df_cell.nb_id.isin(nbs_wo_content)].nb_id.unique()\n",
    "\n",
    "# 4. nbs with repo metadata\n",
    "repos_w_metadata = df_repo.id.unique()\n",
    "nbs_w_repo_data = df_nb[df_nb.repo_id.isin(repos_w_metadata)]['nb_id']\n",
    "\n",
    "# 5. nbs with all data\n",
    "nb_repo_cell_ids = np.intersect1d(np.intersect1d(nbs_w_file, nbs_w_repo_data), nbs_w_cells)\n",
    "nb_repo_ids = df_nb[df_nb.nb_id.isin(nb_repo_cell_ids)]['repo_id'].unique()\n",
    "\n",
    "# 6. repos with all data\n",
    "\n",
    "print('Of the %s notebooks available on Github'% (df_nb.shape[0] + num_nbs_did_not_download))\n",
    "print('%s were returned by our search query' % df_nb.shape[0])\n",
    "print('%s notebooks not returned by our search' % num_nbs_did_not_download)\n",
    "print('')\n",
    "print('%s had repo data we could scrape' % nbs_w_repo_data.shape[0])\n",
    "print('%s had cell data we could extract' % nbs_w_cells.shape[0])\n",
    "print('Leaving %s that we can analyze fully' % nb_repo_cell_ids.shape[0])\n",
    "print('')\n",
    "print('Meaning we have dropped %s nbs in total from the analysis'% (df_nb.shape[0] \n",
    "                                                                    + num_nbs_did_not_download \n",
    "                                                                    - nb_repo_cell_ids.shape[0]))\n",
    "print('or %s percent of the dataset' % str((df_nb.shape[0] \n",
    "                                         + num_nbs_did_not_download \n",
    "                                         - nb_repo_cell_ids.shape[0])\n",
    "                                         /(df_nb.shape[0] \n",
    "                                         + num_nbs_did_not_download)*100)[0:5])"
   ]
  },
  {
   "cell_type": "code",
   "execution_count": 8,
   "metadata": {
    "comet_cell_id": "f55839d2ac8cf"
   },
   "outputs": [
    {
     "name": "stdout",
     "output_type": "stream",
     "text": [
      "Our cleaned data consists of:\n",
      "1227573 notebooks\n",
      "191402 repos\n",
      "141159 readmes\n",
      "34486368 cells\n",
      "100503 users\n"
     ]
    }
   ],
   "source": [
    "df_nb_complete = df_nb[df_nb.nb_id.isin(nb_repo_cell_ids)]\n",
    "df_repo_complete = df_repo[df_repo.id.isin(nb_repo_ids)]\n",
    "df_cell_complete = df_cell[df_cell.nb_id.isin(nb_repo_cell_ids)]\n",
    "df_readme_complete = df_readme[df_readme.repo_id.isin(nb_repo_ids)]\n",
    "\n",
    "print('Our cleaned data consists of:')\n",
    "print('%s notebooks' % df_nb_complete.shape[0])\n",
    "print('%s repos' % df_repo_complete.shape[0])\n",
    "print('%s readmes' % df_readme_complete.shape[0])\n",
    "print('%s cells' % df_cell_complete.shape[0])\n",
    "print('%s users' % df_nb_complete.owner_login.unique().shape[0])"
   ]
  },
  {
   "cell_type": "markdown",
   "metadata": {
    "comet_cell_id": "16bd85d90c747"
   },
   "source": [
    "# 2. Calculate Additional Notebook Data\n",
    "\n",
    "While we have data about the cells of each notebook, we may want to aggregate this at a notebook level (e.g., how many words of markdown in the entire notebook, not just in each cell.)"
   ]
  },
  {
   "cell_type": "code",
   "execution_count": 9,
   "metadata": {
    "collapsed": true,
    "comet_cell_id": "b605a565348a9"
   },
   "outputs": [],
   "source": [
    "# get size of each nb file\n",
    "nb_files = [x for x in os.listdir('../data/notebooks') if x.endswith('.ipynb')]\n",
    "sizes = [[n.split('_')[1].split('.')[0], os.path.getsize('../data/notebooks/' + n)] for n in nb_files]\n",
    "\n",
    "# merge size data back into main table\n",
    "df_nb_sizes = pd.DataFrame(sizes)\n",
    "df_nb_sizes.columns = ['nb_id', 'size']\n",
    "df_nb_complete = df_nb_complete.merge(df_nb_sizes, \n",
    "                      on = 'nb_id',\n",
    "                      how = 'left')"
   ]
  },
  {
   "cell_type": "code",
   "execution_count": 10,
   "metadata": {
    "collapsed": true,
    "comet_cell_id": "7690ac9a05b07"
   },
   "outputs": [],
   "source": [
    "# calculate sum of cell counts for each nb\n",
    "df_nb_cell_counts = (df_cell[['nb_id',\n",
    "                             'lines_of_code',\n",
    "                             'num_display_data', \n",
    "                             'num_error', \n",
    "                             'num_execute_result', \n",
    "                             'num_stream',\n",
    "                             'num_words', \n",
    "                             'num_imports',  \n",
    "                             'num_headers',\n",
    "                             'num_links', \n",
    "                             'num_functions',\n",
    "                             'num_classes', \n",
    "                             'num_comment_lines', \n",
    "                             'num_comment_words']]\n",
    "                            .groupby('nb_id')\n",
    "                            .agg('sum'))\n",
    "\n",
    "df_nb_cell_types = (df_cell[['nb_id', \n",
    "                            'cell_type']]\n",
    "                            .groupby('nb_id')['cell_type']\n",
    "                            .value_counts()\n",
    "                            .unstack(fill_value=0))\n",
    "\n",
    "df_nb_cell_types['nb_id'] = df_nb_cell_types.index\n",
    "df_nb_cell_counts['nb_id'] = df_nb_cell_counts.index"
   ]
  },
  {
   "cell_type": "code",
   "execution_count": 11,
   "metadata": {
    "comet_cell_id": "ad10f49affc6c"
   },
   "outputs": [
    {
     "name": "stdout",
     "output_type": "stream",
     "text": [
      "1239355\n",
      "1239355\n"
     ]
    }
   ],
   "source": [
    "# get max cell content per nb for calculation of how well markdown, comments, etc are distributed\n",
    "df_nb_cell_max = (df_cell[['nb_id',\n",
    "                             'lines_of_code',\n",
    "                             'num_display_data', \n",
    "                             'num_error', \n",
    "                             'num_execute_result', \n",
    "                             'num_stream',\n",
    "                             'num_words', \n",
    "                             'num_imports',  \n",
    "                             'num_headers',\n",
    "                             'num_links', \n",
    "                             'num_functions',\n",
    "                             'num_classes', \n",
    "                             'num_comment_lines', \n",
    "                             'num_comment_words']]\n",
    "                            .groupby('nb_id')\n",
    "                            .agg('max'))\n",
    "\n",
    "print(df_nb_cell_counts.shape[0])\n",
    "print(df_nb_cell_max.shape[0])"
   ]
  },
  {
   "cell_type": "code",
   "execution_count": 12,
   "metadata": {
    "collapsed": true,
    "comet_cell_id": "9bf7ef328d21e"
   },
   "outputs": [],
   "source": [
    "df_nb_cell_types['markdown'] = df_nb_cell_types['markdown'] + df_nb_cell_types['heading']\n",
    "df_nb_cell_types['other'] = ( df_nb_cell_types['altset']\n",
    "                             + df_nb_cell_types['future cell']\n",
    "                             + df_nb_cell_types['interactivecode']\n",
    "                             + df_nb_cell_types['markdownn']\n",
    "                             + df_nb_cell_types['moarkdown']\n",
    "                             + df_nb_cell_types['mycode']\n",
    "                             + df_nb_cell_types['plaintext']\n",
    "                             + df_nb_cell_types['strategy']\n",
    "                             + df_nb_cell_types['task']\n",
    "                             + df_nb_cell_types['text']\n",
    "                            )\n",
    "\n",
    "del df_nb_cell_types['altset']\n",
    "del df_nb_cell_types['heading']\n",
    "del df_nb_cell_types['future cell']\n",
    "del df_nb_cell_types['interactivecode']\n",
    "del df_nb_cell_types['markdownn']\n",
    "del df_nb_cell_types['moarkdown']\n",
    "del df_nb_cell_types['mycode']\n",
    "del df_nb_cell_types['plaintext']\n",
    "del df_nb_cell_types['strategy']\n",
    "del df_nb_cell_types['task']\n",
    "del df_nb_cell_types['text']"
   ]
  },
  {
   "cell_type": "code",
   "execution_count": 13,
   "metadata": {
    "collapsed": true,
    "comet_cell_id": "f5c85c6be17f5"
   },
   "outputs": [],
   "source": [
    "df_nb_complete = df_nb_complete.merge(df_nb_cell_counts,\n",
    "                                     how = 'left',\n",
    "                                     on = 'nb_id')\n",
    "\n",
    "\n",
    "df_nb_complete = df_nb_complete.merge(df_nb_cell_types,\n",
    "                                     how = 'left',\n",
    "                                     on = 'nb_id')"
   ]
  },
  {
   "cell_type": "code",
   "execution_count": 14,
   "metadata": {
    "comet_cell_id": "f393a7f60f63b"
   },
   "outputs": [
    {
     "data": {
      "text/plain": [
       "Index(['nb_id', 'html_url', 'name', 'owner_id', 'owner_login', 'path',\n",
       "       'repo_description', 'repo_id', 'repo_name', 'nbformat',\n",
       "       'nbformat_minor', 'lang_name', 'lang_version', 'size', 'lines_of_code',\n",
       "       'num_display_data', 'num_error', 'num_execute_result', 'num_stream',\n",
       "       'num_words', 'num_imports', 'num_headers', 'num_links', 'num_functions',\n",
       "       'num_classes', 'num_comment_lines', 'num_comment_words', 'code',\n",
       "       'markdown', 'raw', 'other'],\n",
       "      dtype='object')"
      ]
     },
     "execution_count": 14,
     "metadata": {},
     "output_type": "execute_result"
    }
   ],
   "source": [
    "df_nb_complete.columns"
   ]
  },
  {
   "cell_type": "markdown",
   "metadata": {
    "comet_cell_id": "42ff4bb57ef43"
   },
   "source": [
    "# 1. Users\n",
    "\n",
    "The main findings are:\n",
    "- about 100,000 people (or accounts) have public notebooks\n",
    "- most are individual accounts (as opposed to organizations)\n",
    "- 1/4 of users/organizations only have only 1 notebook\n",
    "- 1/4 have 10 or more, and these account for the vast majority of notebooks (~ 1 million)"
   ]
  },
  {
   "cell_type": "markdown",
   "metadata": {
    "comet_cell_id": "04137726e2a11"
   },
   "source": [
    "## 1.1 Types of Users"
   ]
  },
  {
   "cell_type": "code",
   "execution_count": 15,
   "metadata": {
    "comet_cell_id": "4422249c2d608",
    "scrolled": false
   },
   "outputs": [
    {
     "name": "stdout",
     "output_type": "stream",
     "text": [
      "User            93893\n",
      "Organization     6600\n",
      "Name: owner_type, dtype: int64\n"
     ]
    },
    {
     "data": {
      "image/png": "[encoded data removed]",
      "text/plain": [
       "<matplotlib.figure.Figure at 0x165fc35c0>"
      ]
     },
     "metadata": {},
     "output_type": "display_data"
    }
   ],
   "source": [
    "owner_counts = df_repo_complete.drop_duplicates(subset = 'owner_login', \n",
    "                                              keep = 'first')['owner_type'].value_counts()\n",
    "\n",
    "ax = owner_counts.plot(kind='bar',\n",
    "                       fontsize = 14,\n",
    "                       rot = 0)\n",
    "ax.set_ylabel('# Users')\n",
    "\n",
    "print(owner_counts)"
   ]
  },
  {
   "cell_type": "code",
   "execution_count": 16,
   "metadata": {
    "comet_cell_id": "e2754b13974d7"
   },
   "outputs": [
    {
     "name": "stderr",
     "output_type": "stream",
     "text": [
      "/Users/doug/anaconda/lib/python3.6/site-packages/ipykernel_launcher.py:1: UserWarning: Boolean Series key will be reindexed to match DataFrame index.\n",
      "  \"\"\"Entry point for launching an IPython kernel.\n"
     ]
    },
    {
     "data": {
      "text/plain": [
       "6600"
      ]
     },
     "execution_count": 16,
     "metadata": {},
     "output_type": "execute_result"
    }
   ],
   "source": [
    "organization_logins = df_repo_complete.drop_duplicates(subset = 'owner_login', keep = 'first')[df_repo_complete.owner_type == 'Organization']['owner_login']\n",
    "len(organization_logins)"
   ]
  },
  {
   "cell_type": "code",
   "execution_count": 17,
   "metadata": {
    "comet_cell_id": "93c03ee959a62"
   },
   "outputs": [
    {
     "data": {
      "text/plain": [
       "116669"
      ]
     },
     "execution_count": 17,
     "metadata": {},
     "output_type": "execute_result"
    }
   ],
   "source": [
    "df_nb_complete[df_nb_complete.owner_login.isin(organization_logins)].shape[0]"
   ]
  },
  {
   "cell_type": "markdown",
   "metadata": {
    "comet_cell_id": "bb795c9be3bfb"
   },
   "source": [
    "## 1.2 Notebooks per User"
   ]
  },
  {
   "cell_type": "code",
   "execution_count": 18,
   "metadata": {
    "comet_cell_id": "b7824e5c5710f"
   },
   "outputs": [
    {
     "data": {
      "image/png": "[encoded data removed]",
      "text/plain": [
       "<matplotlib.figure.Figure at 0x11202a438>"
      ]
     },
     "metadata": {},
     "output_type": "display_data"
    }
   ],
   "source": [
    "user_nb_counts = df_nb_complete[['owner_login', 'nb_id']].groupby('owner_login').count()\n",
    "\n",
    "plt.figure(figsize=(16,6))\n",
    "ax = sns.distplot(user_nb_counts, kde=False, bins = np.logspace(0,3,30))\n",
    "ax.set_xscale('log')\n",
    "ax.set_xlabel('Notebooks per user')\n",
    "ax.set_ylabel('1000s of Users')\n",
    "\n",
    "from matplotlib.ticker import ScalarFormatter\n",
    "import matplotlib.ticker as ticker\n",
    "ticks = ticker.FuncFormatter(lambda x, pos: '{0:g}'.format(x/1000))\n",
    "ax.xaxis.set_major_formatter(ScalarFormatter())\n",
    "ax.yaxis.set_major_formatter(ticks)\n",
    "\n",
    "    \n",
    "for item in ([ax.xaxis.label, ax.yaxis.label] +\n",
    "             ax.get_xticklabels() + ax.get_yticklabels()):\n",
    "    item.set_fontsize(14)"
   ]
  },
  {
   "cell_type": "code",
   "execution_count": 19,
   "metadata": {
    "comet_cell_id": "f533093d9c3c5"
   },
   "outputs": [
    {
     "name": "stdout",
     "output_type": "stream",
     "text": [
      "24648 users with 1 notebook\n",
      "27517 users with 10+ notebooks\n",
      "accounting for 999202 notebooks\n",
      "accounting for 228371 notebooks\n"
     ]
    }
   ],
   "source": [
    "user_counts = df_nb_complete[['owner_login', 'nb_id']].groupby('owner_login').count()\n",
    "print('%s users with 1 notebook' % len(user_counts[user_counts.nb_id == 1]))\n",
    "print('%s users with 10+ notebooks' % len(user_counts[user_counts.nb_id >= 10]))\n",
    "print('accounting for %s notebooks' % user_counts[user_counts.nb_id >= 10].sum()[0])\n",
    "print('accounting for %s notebooks' % user_counts[user_counts.nb_id < 10].sum()[0])"
   ]
  },
  {
   "cell_type": "markdown",
   "metadata": {
    "comet_cell_id": "3e6933a1e3b96"
   },
   "source": [
    "# 2. Repositories\n",
    "\n",
    "The main insights about the repositories are that:\n",
    "- about a third of the repositories only have one nb in them\n",
    "- only about 1/8 of repos have 10 or more files, and these account for the vast majority of notebooks (about 800,000)\n",
    "- many of the repos with the most notebooks are for textbooks and education"
   ]
  },
  {
   "cell_type": "markdown",
   "metadata": {
    "comet_cell_id": "d5eed6ca7f504"
   },
   "source": [
    "## 2.1 Notebooks per Repository"
   ]
  },
  {
   "cell_type": "code",
   "execution_count": 20,
   "metadata": {
    "comet_cell_id": "87c6d5507b0be"
   },
   "outputs": [
    {
     "data": {
      "text/plain": [
       "<matplotlib.text.Text at 0x112588c88>"
      ]
     },
     "execution_count": 20,
     "metadata": {},
     "output_type": "execute_result"
    },
    {
     "data": {
      "image/png": "[encoded data removed]",
      "text/plain": [
       "<matplotlib.figure.Figure at 0x168841dd8>"
      ]
     },
     "metadata": {},
     "output_type": "display_data"
    }
   ],
   "source": [
    "plt.figure(figsize=(16,6))\n",
    "repo_counts = df_nb_complete.repo_id.value_counts()\n",
    "\n",
    "ax = sns.distplot(repo_counts, kde=False, bins = np.logspace(0,3,30))\n",
    "ax.set_xscale('log')\n",
    "ax.set_xlabel('Notebooks per repo')\n",
    "ax.set_ylabel('# Repos')"
   ]
  },
  {
   "cell_type": "code",
   "execution_count": 21,
   "metadata": {
    "comet_cell_id": "bf44ea4e2af82"
   },
   "outputs": [
    {
     "name": "stdout",
     "output_type": "stream",
     "text": [
      "74894 repos with 1 notebook\n",
      "accounting for 74894 notebooks\n",
      "27984 users with 10+ notebooks\n",
      "accounting for 815026 notebooks\n"
     ]
    }
   ],
   "source": [
    "print('%s repos with 1 notebook' % len([x for x in repo_counts if x == 1]))\n",
    "print('accounting for %s notebooks' % sum([x for x in repo_counts if x == 1]))\n",
    "print('%s users with 10+ notebooks' % len([x for x in repo_counts if x >= 10]))\n",
    "print('accounting for %s notebooks' % sum([x for x in repo_counts if x >= 10]))"
   ]
  },
  {
   "cell_type": "markdown",
   "metadata": {
    "comet_cell_id": "e949a3b9ec0f4"
   },
   "source": [
    "## 2.2 Notebooks per Repository by Owner Type"
   ]
  },
  {
   "cell_type": "code",
   "execution_count": 22,
   "metadata": {
    "comet_cell_id": "7505f471484c3"
   },
   "outputs": [
    {
     "data": {
      "text/plain": [
       "<matplotlib.text.Text at 0x1674a2588>"
      ]
     },
     "execution_count": 22,
     "metadata": {},
     "output_type": "execute_result"
    },
    {
     "data": {
      "image/png": "[encoded data removed]",
      "text/plain": [
       "<matplotlib.figure.Figure at 0x167439908>"
      ]
     },
     "metadata": {},
     "output_type": "display_data"
    }
   ],
   "source": [
    "fig, ax = plt.subplots(figsize=(16,6))\n",
    "\n",
    "ax = sns.distplot(df_nb_complete[~df_nb_complete.owner_login.isin(organization_logins)].repo_id.value_counts(), kde=False, bins = np.logspace(0,3,30))\n",
    "ax = sns.distplot(df_nb_complete[df_nb_complete.owner_login.isin(organization_logins)].repo_id.value_counts(), kde=False, bins = np.logspace(0,3,30))\n",
    "\n",
    "ax.set_xscale('log')\n",
    "ax.set_xlabel('Notebooks per Repository')"
   ]
  },
  {
   "cell_type": "code",
   "execution_count": 23,
   "metadata": {
    "comet_cell_id": "b6f2e33dd26d3"
   },
   "outputs": [
    {
     "name": "stdout",
     "output_type": "stream",
     "text": [
      "27984 repos have 10 or more notebooks in them\n",
      "Accounting for 815026 notebooks\n"
     ]
    }
   ],
   "source": [
    "print('%s repos have 10 or more notebooks in them' % len(repo_counts[repo_counts >= 10]))\n",
    "print('Accounting for %s notebooks' % repo_counts[repo_counts >= 10].sum())"
   ]
  },
  {
   "cell_type": "markdown",
   "metadata": {
    "comet_cell_id": "080ed8ed9bf2d"
   },
   "source": [
    "## 2.3 Repositories with Most Notebooks"
   ]
  },
  {
   "cell_type": "code",
   "execution_count": 24,
   "metadata": {
    "comet_cell_id": "7bc823022897a"
   },
   "outputs": [
    {
     "name": "stdout",
     "output_type": "stream",
     "text": [
      "(191396, 4)\n"
     ]
    },
    {
     "data": {
      "text/html": [
       "<div>\n",
       "<style>\n",
       "    .dataframe thead tr:only-child th {\n",
       "        text-align: right;\n",
       "    }\n",
       "\n",
       "    .dataframe thead th {\n",
       "        text-align: left;\n",
       "    }\n",
       "\n",
       "    .dataframe tbody tr th {\n",
       "        vertical-align: top;\n",
       "    }\n",
       "</style>\n",
       "<table border=\"1\" class=\"dataframe\">\n",
       "  <thead>\n",
       "    <tr style=\"text-align: right;\">\n",
       "      <th></th>\n",
       "      <th>num_nb</th>\n",
       "      <th>repo_id</th>\n",
       "      <th>owner_login</th>\n",
       "      <th>repo_name</th>\n",
       "    </tr>\n",
       "  </thead>\n",
       "  <tbody>\n",
       "    <tr>\n",
       "      <th>0</th>\n",
       "      <td>10901</td>\n",
       "      <td>13769471</td>\n",
       "      <td>FOSSEE</td>\n",
       "      <td>Python-Textbook-Companions</td>\n",
       "    </tr>\n",
       "    <tr>\n",
       "      <th>1</th>\n",
       "      <td>3618</td>\n",
       "      <td>68774322</td>\n",
       "      <td>wanglongjuan</td>\n",
       "      <td>15-ODE-homework</td>\n",
       "    </tr>\n",
       "    <tr>\n",
       "      <th>2</th>\n",
       "      <td>3494</td>\n",
       "      <td>91523680</td>\n",
       "      <td>ucsd-edx</td>\n",
       "      <td>CSE255-DSE230-Grading</td>\n",
       "    </tr>\n",
       "    <tr>\n",
       "      <th>3</th>\n",
       "      <td>3050</td>\n",
       "      <td>55120679</td>\n",
       "      <td>TakeToh</td>\n",
       "      <td>pywork</td>\n",
       "    </tr>\n",
       "    <tr>\n",
       "      <th>4</th>\n",
       "      <td>1918</td>\n",
       "      <td>84889421</td>\n",
       "      <td>neylemke</td>\n",
       "      <td>fiscomp2017</td>\n",
       "    </tr>\n",
       "    <tr>\n",
       "      <th>5</th>\n",
       "      <td>1779</td>\n",
       "      <td>31615018</td>\n",
       "      <td>chrisalbon</td>\n",
       "      <td>notes_on_data_science_machine_learning_and_art...</td>\n",
       "    </tr>\n",
       "    <tr>\n",
       "      <th>6</th>\n",
       "      <td>1771</td>\n",
       "      <td>89497485</td>\n",
       "      <td>donwany</td>\n",
       "      <td>DataScienceDude</td>\n",
       "    </tr>\n",
       "    <tr>\n",
       "      <th>7</th>\n",
       "      <td>1241</td>\n",
       "      <td>62499937</td>\n",
       "      <td>JonnyRed</td>\n",
       "      <td>IPython-Notebooks</td>\n",
       "    </tr>\n",
       "    <tr>\n",
       "      <th>8</th>\n",
       "      <td>1181</td>\n",
       "      <td>71824512</td>\n",
       "      <td>mushgrant</td>\n",
       "      <td>dsi-MarshallGrant</td>\n",
       "    </tr>\n",
       "    <tr>\n",
       "      <th>9</th>\n",
       "      <td>1106</td>\n",
       "      <td>71824701</td>\n",
       "      <td>rameshk28</td>\n",
       "      <td>dsi-RameshKattumenu</td>\n",
       "    </tr>\n",
       "  </tbody>\n",
       "</table>\n",
       "</div>"
      ],
      "text/plain": [
       "   num_nb   repo_id   owner_login  \\\n",
       "0   10901  13769471        FOSSEE   \n",
       "1    3618  68774322  wanglongjuan   \n",
       "2    3494  91523680      ucsd-edx   \n",
       "3    3050  55120679       TakeToh   \n",
       "4    1918  84889421      neylemke   \n",
       "5    1779  31615018    chrisalbon   \n",
       "6    1771  89497485       donwany   \n",
       "7    1241  62499937      JonnyRed   \n",
       "8    1181  71824512     mushgrant   \n",
       "9    1106  71824701     rameshk28   \n",
       "\n",
       "                                           repo_name  \n",
       "0                         Python-Textbook-Companions  \n",
       "1                                    15-ODE-homework  \n",
       "2                              CSE255-DSE230-Grading  \n",
       "3                                             pywork  \n",
       "4                                        fiscomp2017  \n",
       "5  notes_on_data_science_machine_learning_and_art...  \n",
       "6                                    DataScienceDude  \n",
       "7                                  IPython-Notebooks  \n",
       "8                                  dsi-MarshallGrant  \n",
       "9                                dsi-RameshKattumenu  "
      ]
     },
     "execution_count": 24,
     "metadata": {},
     "output_type": "execute_result"
    }
   ],
   "source": [
    "df_repo_counts = repo_counts.to_frame(\"num_nb\")\n",
    "df_repo_counts['repo_id'] = df_repo_counts.index \n",
    "df_repo_counts.reset_index(drop=True, inplace=True)\n",
    "\n",
    "df_repos_full = df_repo_counts.merge(df_nb[['repo_id', 'owner_login', 'repo_name']], how='left', on='repo_id', )\n",
    "df_repos_full.drop_duplicates(inplace=True, keep='first', subset=['repo_id'])\n",
    "df_repos_full.reset_index(drop=True, inplace=True)\n",
    "print(df_repos_full.shape)\n",
    "df_repos_full.head(10)"
   ]
  },
  {
   "cell_type": "markdown",
   "metadata": {
    "comet_cell_id": "db8a1f01c129b"
   },
   "source": [
    "# 3. Repositories Per User\n",
    "\n",
    "- the majority of users only have one repo with notebooks in it (~2/3)\n",
    "- on the flip side, the majority of repos (2/3) belong to users who have more than one repo with notebooks\n",
    "- about 1/3 of notebooks (429,508) belong to users who only have one repo with notebooks in it"
   ]
  },
  {
   "cell_type": "code",
   "execution_count": 25,
   "metadata": {
    "comet_cell_id": "335833dbe8ef9"
   },
   "outputs": [
    {
     "data": {
      "text/plain": [
       "<matplotlib.text.Text at 0x1677cc9b0>"
      ]
     },
     "execution_count": 25,
     "metadata": {},
     "output_type": "execute_result"
    },
    {
     "data": {
      "image/png": "[encoded data removed]",
      "text/plain": [
       "<matplotlib.figure.Figure at 0x162860198>"
      ]
     },
     "metadata": {},
     "output_type": "display_data"
    }
   ],
   "source": [
    "plt.figure(figsize=(16,6))\n",
    "num_repos_per_user = df_repos_full.groupby(['owner_login'])['num_nb'].count()\n",
    "\n",
    "ax = sns.distplot(num_repos_per_user, kde=False, bins = np.logspace(0,2,20))\n",
    "ax.set_xscale('log')\n",
    "ax.set_xlabel('Repos with Notebooks in them')\n",
    "ax.set_ylabel('# Users')"
   ]
  },
  {
   "cell_type": "code",
   "execution_count": 26,
   "metadata": {
    "comet_cell_id": "a9c4702b82cd2"
   },
   "outputs": [
    {
     "data": {
      "text/plain": [
       "num_nb      424058\n",
       "num_repo     65039\n",
       "dtype: int64"
      ]
     },
     "execution_count": 26,
     "metadata": {},
     "output_type": "execute_result"
    }
   ],
   "source": [
    "nbs_per_user = df_repos_full.groupby(['owner_login'])['num_nb'].sum()\n",
    "\n",
    "df_nbs_per_user = pd.concat([nbs_per_user, num_repos_per_user], axis=1)\n",
    "df_nbs_per_user.columns = ['num_nb', 'num_repo']\n",
    "\n",
    "df_nbs_per_user[df_nbs_per_user.num_repo == 1].sum()"
   ]
  },
  {
   "cell_type": "markdown",
   "metadata": {
    "comet_cell_id": "62524ce252103"
   },
   "source": [
    "# 4. Repository Organizational Attributes\n",
    "\n",
    "After looking at whether repositories had readmes, pages, issues, wikis, or had been forked, it seems many of these measures cannot be acurately computed from the repo level metadata. For example, most repos say they have downloads and issues and a wiki, but a spot-check of these shows this is not true. I'm not sure what these T/F values represent.\n",
    "\n",
    "However, the has_pages boolean seems to correctly represent if the repo has a GitHub hosted website, and the issues count seems to be correct."
   ]
  },
  {
   "cell_type": "code",
   "execution_count": 27,
   "metadata": {
    "comet_cell_id": "72b0e648257ce"
   },
   "outputs": [
    {
     "data": {
      "text/plain": [
       "True     191127\n",
       "False       275\n",
       "Name: has_downloads, dtype: int64"
      ]
     },
     "execution_count": 27,
     "metadata": {},
     "output_type": "execute_result"
    }
   ],
   "source": [
    "df_repo_complete.has_downloads.value_counts()"
   ]
  },
  {
   "cell_type": "code",
   "execution_count": 28,
   "metadata": {
    "comet_cell_id": "48174da1827e"
   },
   "outputs": [
    {
     "data": {
      "text/plain": [
       "True     189857\n",
       "False      1545\n",
       "Name: has_issues, dtype: int64"
      ]
     },
     "execution_count": 28,
     "metadata": {},
     "output_type": "execute_result"
    }
   ],
   "source": [
    "df_repo_complete.has_issues.value_counts()"
   ]
  },
  {
   "cell_type": "code",
   "execution_count": 29,
   "metadata": {
    "comet_cell_id": "b5fec467497ee"
   },
   "outputs": [
    {
     "data": {
      "text/plain": [
       "True     189606\n",
       "False      1796\n",
       "Name: has_wiki, dtype: int64"
      ]
     },
     "execution_count": 29,
     "metadata": {},
     "output_type": "execute_result"
    }
   ],
   "source": [
    "df_repo_complete.has_wiki.value_counts()"
   ]
  },
  {
   "cell_type": "code",
   "execution_count": 30,
   "metadata": {
    "comet_cell_id": "b2c82b334ba6d"
   },
   "outputs": [
    {
     "data": {
      "text/plain": [
       "False    182758\n",
       "True       8644\n",
       "Name: has_pages, dtype: int64"
      ]
     },
     "execution_count": 30,
     "metadata": {},
     "output_type": "execute_result"
    }
   ],
   "source": [
    "df_repo_complete.has_pages.value_counts()"
   ]
  },
  {
   "cell_type": "markdown",
   "metadata": {
    "comet_cell_id": "7b0723aae475e"
   },
   "source": [
    "Let's get the percentage of repos and notebooks with a Github hosted page associated with it."
   ]
  },
  {
   "cell_type": "code",
   "execution_count": 31,
   "metadata": {
    "comet_cell_id": "551f010a5b99f"
   },
   "outputs": [
    {
     "name": "stdout",
     "output_type": "stream",
     "text": [
      "0.045161492565385944\n"
     ]
    },
    {
     "data": {
      "text/plain": [
       "0.0614464475839726"
      ]
     },
     "execution_count": 31,
     "metadata": {},
     "output_type": "execute_result"
    }
   ],
   "source": [
    "print(df_repo_complete[df_repo_complete.has_pages == True].shape[0] / df_repo_complete.shape[0])\n",
    "repos_w_pages = df_repo_complete[df_repo_complete.has_pages == True]['id']\n",
    "df_nb_complete[df_nb_complete.repo_id.isin(repos_w_pages)].shape[0] / df_nb_complete.shape[0]"
   ]
  },
  {
   "cell_type": "code",
   "execution_count": 36,
   "metadata": {
    "comet_cell_id": "4461216a310a2"
   },
   "outputs": [
    {
     "name": "stdout",
     "output_type": "stream",
     "text": [
      "0.06564194731507508 repos with readme\n",
      "0.721984761802353 nbs with readme\n"
     ]
    }
   ],
   "source": [
    "print('%s repos with readme' %  (df_repo_activity[df_repo_activity['open_issues_count'] > 0].shape[0] / df_repo_activity.shape[0]))\n",
    "repos_w_readme = df_repo_activity[df_repo_activity['size'] > 0]['repo_id']\n",
    "print('%s nbs with readme' %  (df_nb_complete[df_nb_complete.repo_id.isin(repos_w_readme)].shape[0] / df_nb_complete.shape[0]))"
   ]
  },
  {
   "cell_type": "code",
   "execution_count": 37,
   "metadata": {
    "comet_cell_id": "f57a4ff7621a3"
   },
   "outputs": [
    {
     "name": "stdout",
     "output_type": "stream",
     "text": [
      "0.06564194731507508 repos with issues\n",
      "0.088723033171958 nbs with issues\n"
     ]
    }
   ],
   "source": [
    "print('%s repos with issues' %  (df_repo_activity[df_repo_activity['open_issues_count'] > 0].shape[0] / df_repo_activity.shape[0]))\n",
    "repos_w_issues = df_repo_activity[df_repo_activity['open_issues_count'] > 0]['repo_id']\n",
    "print('%s nbs with issues' %  (df_nb_complete[df_nb_complete.repo_id.isin(repos_w_issues)].shape[0] / df_nb_complete.shape[0]))"
   ]
  },
  {
   "cell_type": "markdown",
   "metadata": {
    "comet_cell_id": "645d9db8bb4da"
   },
   "source": [
    "Okay, so the has_issues, has_wiki don't seem to tell us much since they just mean that issues and the wiki are turned on for that repo (which seems to be the default). has_pages does note seem to be the default so we can get some info there, and we can look at the issues count to see about the repos.\n",
    "\n",
    "In the next plots, let's see if there is a relationship between repo size, forks counts, open issues counts, and watchers count. The plots show, as expected, a somewhat linear relationship with larger repos having more forks, more issues, more watchers, etc. This is not all that interesting."
   ]
  },
  {
   "cell_type": "code",
   "execution_count": 38,
   "metadata": {
    "comet_cell_id": "ed38e3e0ae9ab"
   },
   "outputs": [
    {
     "name": "stderr",
     "output_type": "stream",
     "text": [
      "/Users/doug/anaconda/lib/python3.6/site-packages/ipykernel_launcher.py:2: SettingWithCopyWarning: \n",
      "A value is trying to be set on a copy of a slice from a DataFrame.\n",
      "Try using .loc[row_indexer,col_indexer] = value instead\n",
      "\n",
      "See the caveats in the documentation: http://pandas.pydata.org/pandas-docs/stable/indexing.html#indexing-view-versus-copy\n",
      "  \n"
     ]
    },
    {
     "data": {
      "text/html": [
       "<div>\n",
       "<style>\n",
       "    .dataframe thead tr:only-child th {\n",
       "        text-align: right;\n",
       "    }\n",
       "\n",
       "    .dataframe thead th {\n",
       "        text-align: left;\n",
       "    }\n",
       "\n",
       "    .dataframe tbody tr th {\n",
       "        vertical-align: top;\n",
       "    }\n",
       "</style>\n",
       "<table border=\"1\" class=\"dataframe\">\n",
       "  <thead>\n",
       "    <tr style=\"text-align: right;\">\n",
       "      <th></th>\n",
       "      <th>html_url</th>\n",
       "      <th>forks_count</th>\n",
       "      <th>watchers_count</th>\n",
       "      <th>subscribers_count</th>\n",
       "      <th>open_issues_count</th>\n",
       "      <th>repo_id</th>\n",
       "      <th>size</th>\n",
       "    </tr>\n",
       "  </thead>\n",
       "  <tbody>\n",
       "    <tr>\n",
       "      <th>0</th>\n",
       "      <td>https://github.com/pingswept/pysolar</td>\n",
       "      <td>59</td>\n",
       "      <td>114</td>\n",
       "      <td>24</td>\n",
       "      <td>5</td>\n",
       "      <td>2058</td>\n",
       "      <td>3226.0</td>\n",
       "    </tr>\n",
       "    <tr>\n",
       "      <th>1</th>\n",
       "      <td>https://github.com/ELLIOTTCABLE/Homework</td>\n",
       "      <td>0</td>\n",
       "      <td>4</td>\n",
       "      <td>3</td>\n",
       "      <td>0</td>\n",
       "      <td>66233</td>\n",
       "      <td>441.0</td>\n",
       "    </tr>\n",
       "    <tr>\n",
       "      <th>2</th>\n",
       "      <td>https://github.com/chapmanb/bcbb</td>\n",
       "      <td>172</td>\n",
       "      <td>368</td>\n",
       "      <td>54</td>\n",
       "      <td>9</td>\n",
       "      <td>87831</td>\n",
       "      <td>1171.0</td>\n",
       "    </tr>\n",
       "    <tr>\n",
       "      <th>3</th>\n",
       "      <td>https://github.com/certik/chess</td>\n",
       "      <td>2</td>\n",
       "      <td>4</td>\n",
       "      <td>4</td>\n",
       "      <td>0</td>\n",
       "      <td>119491</td>\n",
       "      <td>NaN</td>\n",
       "    </tr>\n",
       "    <tr>\n",
       "      <th>4</th>\n",
       "      <td>https://github.com/aflaxman/gbd</td>\n",
       "      <td>5</td>\n",
       "      <td>11</td>\n",
       "      <td>3</td>\n",
       "      <td>25</td>\n",
       "      <td>120233</td>\n",
       "      <td>690.0</td>\n",
       "    </tr>\n",
       "  </tbody>\n",
       "</table>\n",
       "</div>"
      ],
      "text/plain": [
       "                                   html_url  forks_count  watchers_count  \\\n",
       "0      https://github.com/pingswept/pysolar           59             114   \n",
       "1  https://github.com/ELLIOTTCABLE/Homework            0               4   \n",
       "2          https://github.com/chapmanb/bcbb          172             368   \n",
       "3           https://github.com/certik/chess            2               4   \n",
       "4           https://github.com/aflaxman/gbd            5              11   \n",
       "\n",
       "   subscribers_count  open_issues_count  repo_id    size  \n",
       "0                 24                  5     2058  3226.0  \n",
       "1                  3                  0    66233   441.0  \n",
       "2                 54                  9    87831  1171.0  \n",
       "3                  4                  0   119491     NaN  \n",
       "4                  3                 25   120233   690.0  "
      ]
     },
     "execution_count": 38,
     "metadata": {},
     "output_type": "execute_result"
    }
   ],
   "source": [
    "df_repo_activity = df_repo_complete[['id','html_url','forks_count','watchers_count','subscribers_count', 'open_issues_count']]\n",
    "df_repo_activity['repo_id'] = df_repo_activity['id']\n",
    "del df_repo_activity['id']\n",
    "\n",
    "df_repo_activity = df_repo_activity.merge(df_readme_complete[['repo_id','size']], \n",
    "                      how = 'left',\n",
    "                      on = 'repo_id')\n",
    "\n",
    "df_repo_activity.head()"
   ]
  },
  {
   "cell_type": "code",
   "execution_count": 39,
   "metadata": {
    "comet_cell_id": "c9372a0ed70ce"
   },
   "outputs": [
    {
     "data": {
      "image/png": "[encoded data removed]",
      "text/plain": [
       "<matplotlib.figure.Figure at 0x16bb5cc50>"
      ]
     },
     "metadata": {},
     "output_type": "display_data"
    }
   ],
   "source": [
    "mybins = np.append(0, np.logspace(0,5,50))\n",
    "g = sns.jointplot(\"size\", \n",
    "                  \"forks_count\", \n",
    "                  data=df_repo_activity, \n",
    "                  marginal_kws=dict(bins=mybins), \n",
    "                  joint_kws={'alpha':0.1})\n",
    "ax = g.ax_joint\n",
    "ax.set_xscale('log')\n",
    "ax.set_yscale('log')\n",
    "g.ax_marg_x.set_xscale('log')\n",
    "g.ax_marg_y.set_yscale('log')\n"
   ]
  },
  {
   "cell_type": "code",
   "execution_count": 40,
   "metadata": {
    "comet_cell_id": "ad015740b9c51"
   },
   "outputs": [
    {
     "data": {
      "image/png": "[encoded data removed]",
      "text/plain": [
       "<matplotlib.figure.Figure at 0x16bccd0b8>"
      ]
     },
     "metadata": {},
     "output_type": "display_data"
    }
   ],
   "source": [
    "mybins = np.append(0, np.logspace(0,5,50))\n",
    "g = sns.jointplot(\"size\", \n",
    "                  \"watchers_count\", \n",
    "                  data=df_repo_activity, \n",
    "                  marginal_kws=dict(bins=mybins), \n",
    "                  joint_kws={'alpha':0.1})\n",
    "ax = g.ax_joint\n",
    "ax.set_xscale('log')\n",
    "ax.set_yscale('log')\n",
    "g.ax_marg_x.set_xscale('log')\n",
    "g.ax_marg_y.set_yscale('log')"
   ]
  },
  {
   "cell_type": "code",
   "execution_count": 41,
   "metadata": {
    "comet_cell_id": "6060e63ef231f"
   },
   "outputs": [
    {
     "name": "stderr",
     "output_type": "stream",
     "text": [
      "/Users/doug/anaconda/lib/python3.6/site-packages/ipykernel_launcher.py:4: UserWarning: Boolean Series key will be reindexed to match DataFrame index.\n",
      "  after removing the cwd from sys.path.\n"
     ]
    },
    {
     "data": {
      "image/png": "[encoded data removed]",
      "text/plain": [
       "<matplotlib.figure.Figure at 0x16ad7c710>"
      ]
     },
     "metadata": {},
     "output_type": "display_data"
    }
   ],
   "source": [
    "mybins = np.append(0, np.logspace(0,5,50))\n",
    "g = sns.jointplot(\"open_issues_count\", \n",
    "                  \"forks_count\", \n",
    "                  data=df_repo_activity[df_repo_activity.forks_count > 0][df_repo_activity.open_issues_count > 0], \n",
    "                  marginal_kws=dict(bins=mybins), \n",
    "                  joint_kws={'alpha':0.1})\n",
    "ax = g.ax_joint\n",
    "ax.set_xscale('log')\n",
    "ax.set_yscale('log')\n",
    "g.ax_marg_x.set_xscale('log')\n",
    "g.ax_marg_y.set_yscale('log')"
   ]
  },
  {
   "cell_type": "markdown",
   "metadata": {
    "comet_cell_id": "7c3fd1884117"
   },
   "source": [
    "# 5. Notebooks"
   ]
  },
  {
   "cell_type": "markdown",
   "metadata": {
    "comet_cell_id": "6c1246579d13e"
   },
   "source": [
    "## 5.1 Languages\n",
    "- python is the vast majority (over 1 mill) of the notebooks\n",
    "- python 2.7 is still the favorite, with 3.5, 3.6, and 3.4 catching up\n",
    "- R and julia come in a respectable 2nd and 3rd place with about 10,000 notebooks each, "
   ]
  },
  {
   "cell_type": "code",
   "execution_count": 42,
   "metadata": {
    "collapsed": true,
    "comet_cell_id": "14bec59f56ec5"
   },
   "outputs": [],
   "source": [
    "langs = df_nb_complete[['lang_name']]\n",
    "langs = langs.dropna()\n",
    "\n",
    "langs.lang_name.replace('Julia', 'julia', inplace=True)\n",
    "langs.lang_name[~langs.lang_name.isin(['python', 'julia', 'R'])] = 'Other'"
   ]
  },
  {
   "cell_type": "code",
   "execution_count": 44,
   "metadata": {
    "comet_cell_id": "0516c7eb3c757"
   },
   "outputs": [
    {
     "data": {
      "text/plain": [
       "<matplotlib.text.Text at 0x1685f5e48>"
      ]
     },
     "execution_count": 44,
     "metadata": {},
     "output_type": "execute_result"
    },
    {
     "data": {
      "image/png": "[encoded data removed]",
      "text/plain": [
       "<matplotlib.figure.Figure at 0x16c9504a8>"
      ]
     },
     "metadata": {},
     "output_type": "display_data"
    }
   ],
   "source": [
    "ax = df_nb_complete.lang_name.value_counts()[0:10].plot(kind='bar', \n",
    "                                                                   logy=True, \n",
    "                                                                   figsize = (16, 6), \n",
    "                                                                   fontsize = 14,\n",
    "                                                                   rot = 0)\n",
    "ax.set_xlabel('Programming Language')\n",
    "ax.set_ylabel('# of Notebooks')"
   ]
  },
  {
   "cell_type": "code",
   "execution_count": 267,
   "metadata": {
    "comet_cell_id": "a3b8f48b4530c"
   },
   "outputs": [
    {
     "name": "stdout",
     "output_type": "stream",
     "text": [
      "0.963066388949\n",
      "0.0130537001125\n",
      "0.0122626828509\n",
      "0.011617228087816324\n",
      "0.8506418762876017\n"
     ]
    }
   ],
   "source": [
    "print(df_nb_complete.lang_name.value_counts()[0] / df_nb_complete.lang_name.value_counts().sum())\n",
    "print(df_nb_complete.lang_name.value_counts()[1] / df_nb_complete.lang_name.value_counts().sum())\n",
    "print(df_nb_complete.lang_name.value_counts()[2] / df_nb_complete.lang_name.value_counts().sum())\n",
    "print(df_nb_complete.lang_name.value_counts()[3:].sum() / df_nb_complete.lang_name.value_counts().sum())\n",
    "print(df_nb_complete.lang_name.value_counts().sum() / 1227573)"
   ]
  },
  {
   "cell_type": "markdown",
   "metadata": {
    "comet_cell_id": "803c0dd6c118e"
   },
   "source": [
    "Okay, so python is 96% of all notebooks with a specified language. R and Julia are each about 1%.\n",
    "\n",
    "Now let's look at versions of python"
   ]
  },
  {
   "cell_type": "code",
   "execution_count": 45,
   "metadata": {
    "collapsed": true,
    "comet_cell_id": "c1024bf2d0751"
   },
   "outputs": [],
   "source": [
    "def trim_version(x):\n",
    "    x = str(x)\n",
    "    parts = x.split('.')\n",
    "    if len(parts) > 2:\n",
    "        return parts[0] + '.' + parts[1]\n",
    "    else:\n",
    "        return x\n",
    "    \n",
    "df_nb_complete['trimmed_lang_version'] = df_nb_complete.apply(lambda x: trim_version(x['lang_version']), axis=1)"
   ]
  },
  {
   "cell_type": "code",
   "execution_count": 46,
   "metadata": {
    "comet_cell_id": "717d0858249fb"
   },
   "outputs": [
    {
     "name": "stdout",
     "output_type": "stream",
     "text": [
      "548364\n"
     ]
    },
    {
     "data": {
      "image/png": "[encoded data removed]",
      "text/plain": [
       "<matplotlib.figure.Figure at 0x168e8a9e8>"
      ]
     },
     "metadata": {},
     "output_type": "display_data"
    }
   ],
   "source": [
    "ax = df_nb_complete[df_nb_complete['lang_name'] == 'python']['trimmed_lang_version'].value_counts()[0:5].plot(kind='bar', \n",
    "                                                                                                           figsize = (8, 6), \n",
    "                                                                                                           fontsize = 14,\n",
    "                                                                                                           rot = 0)\n",
    "ax.set_ylabel('# Notebooks')\n",
    "ax.set_xlabel('Python Version')\n",
    "print(df_nb_complete[df_nb_complete['lang_name'] == 'python']['trimmed_lang_version'].value_counts()[0])"
   ]
  },
  {
   "cell_type": "markdown",
   "metadata": {
    "comet_cell_id": "dbd58e030143b"
   },
   "source": [
    "## 5.2 Cells per Notebook\n",
    "\n",
    "- 18 cells per notebook\n",
    "- 12 of these code\n",
    "- 5 of these markdown"
   ]
  },
  {
   "cell_type": "markdown",
   "metadata": {
    "comet_cell_id": "b1e7acefd2ee"
   },
   "source": [
    "### Markdown Cells"
   ]
  },
  {
   "cell_type": "code",
   "execution_count": 49,
   "metadata": {
    "comet_cell_id": "0e73ff1bf1cc5"
   },
   "outputs": [
    {
     "name": "stdout",
     "output_type": "stream",
     "text": [
      "Median of 5.0 cells\n"
     ]
    },
    {
     "data": {
      "image/png": "[encoded data removed]",
      "text/plain": [
       "<matplotlib.figure.Figure at 0x16779b358>"
      ]
     },
     "metadata": {},
     "output_type": "display_data"
    }
   ],
   "source": [
    "plt.figure(figsize=(16,6))\n",
    "ax = sns.distplot(df_nb_complete.markdown, kde=False, bins = np.append(0, np.logspace(0,3,30)))\n",
    "ax.set_xscale('log')\n",
    "ax.set_xlabel('Markdown cells per notebook')\n",
    "\n",
    "print('Median of %s cells' % df_nb_complete.markdown.median())"
   ]
  },
  {
   "cell_type": "markdown",
   "metadata": {
    "comet_cell_id": "3426ddec6e084"
   },
   "source": [
    "### Code Cells"
   ]
  },
  {
   "cell_type": "code",
   "execution_count": 50,
   "metadata": {
    "comet_cell_id": "27169dc6cddd5"
   },
   "outputs": [
    {
     "name": "stdout",
     "output_type": "stream",
     "text": [
      "Median of 12.0 cells\n"
     ]
    },
    {
     "data": {
      "image/png": "[encoded data removed]",
      "text/plain": [
       "<matplotlib.figure.Figure at 0x16c25b470>"
      ]
     },
     "metadata": {},
     "output_type": "display_data"
    }
   ],
   "source": [
    "plt.figure(figsize=(16,6))\n",
    "ax = sns.distplot(df_nb_complete.code, kde=False, bins = np.append(0, np.logspace(0,3,30)))\n",
    "ax.set_xscale('log')\n",
    "ax.set_xlabel('Code cells per notebook')\n",
    "\n",
    "print('Median of %s cells' % df_nb_complete.code.median())"
   ]
  },
  {
   "cell_type": "code",
   "execution_count": 51,
   "metadata": {
    "comet_cell_id": "f5a2bb73d9563"
   },
   "outputs": [
    {
     "data": {
      "text/plain": [
       "0.0021843706109464017"
      ]
     },
     "execution_count": 51,
     "metadata": {},
     "output_type": "execute_result"
    }
   ],
   "source": [
    "main_cells = df_nb_complete.code.sum() + df_nb_complete.markdown.sum()\n",
    "non_main_cells = df_nb_complete.other.sum() + df_nb_complete.raw.sum()\n",
    "non_main_cells / (non_main_cells + main_cells)"
   ]
  },
  {
   "cell_type": "markdown",
   "metadata": {
    "comet_cell_id": "fce0a2d8ac661"
   },
   "source": [
    "## 5.3 Content per Notebook\n",
    "\n",
    "- 74 words per notebook\n",
    "- 79 lines of code per notebook\n",
    "- 345,685 notebooks without any markdown\n",
    "- 55,883 notebooks without code\n",
    "- 6,294 notebooks without either markdown or code"
   ]
  },
  {
   "cell_type": "code",
   "execution_count": 48,
   "metadata": {
    "comet_cell_id": "e959d3a2aeaaf"
   },
   "outputs": [
    {
     "data": {
      "image/png": "[encoded data removed]",
      "text/plain": [
       "<matplotlib.figure.Figure at 0x16a579470>"
      ]
     },
     "metadata": {},
     "output_type": "display_data"
    }
   ],
   "source": [
    "f, (ax1, ax2, ax3) = plt.subplots(3)\n",
    "f.set_size_inches(16, 4)\n",
    "plt.subplots_adjust(top=1.75)\n",
    "\n",
    "df_nb_complete.num_cells = df_nb_complete.code + df_nb_complete.markdown + df_nb_complete.raw + df_nb_complete.other\n",
    "sns.distplot(df_nb_complete.num_cells, kde=False, ax = ax1, bins = np.append(0, np.logspace(0,4,30)))\n",
    "ax1.set_xscale('log')\n",
    "ax1.set_title('Cells', fontsize = 18, position = [0.96, 0.85], color='grey')\n",
    "ax1.set_ylabel('1000s of Notebooks', color='grey')\n",
    "ax1.set_xlabel('')\n",
    "# ax1.title.set_position()\n",
    "# ax1.title.set_fontsize(18)\n",
    "\n",
    "sns.distplot(df_nb_complete.lines_of_code, kde=False, ax = ax2, bins = np.append(0, np.logspace(0,4,30)))\n",
    "ax2.set_xscale('log')\n",
    "ax2.set_title('Lines of Code', fontsize = 18, position = [0.93, 0.85], color='grey')\n",
    "ax2.set_ylabel('1000s of Notebooks', color='grey')\n",
    "ax2.set_xlabel('')\n",
    "\n",
    "sns.distplot(df_nb_complete.num_words, kde=False, ax = ax3, bins = np.append(0, np.logspace(0,4,30)))\n",
    "ax3.set_xscale('log')\n",
    "ax3.set_title('Words of Markdown', fontsize = 18, position = [0.9, 0.85], color='grey')\n",
    "ax3.set_ylabel('1000s of Notebooks', color='grey', size = 18)\n",
    "ax3.set_xlabel('')\n",
    "\n",
    "from matplotlib.ticker import ScalarFormatter\n",
    "import matplotlib.ticker as ticker\n",
    "ticks = ticker.FuncFormatter(lambda x, pos: '{0:g}'.format(x/1000))\n",
    "for axis in [ax1, ax2, ax3]:\n",
    "    axis.xaxis.set_major_formatter(ScalarFormatter())\n",
    "    axis.yaxis.set_major_formatter(ticks)\n",
    "\n",
    "    \n",
    "for item in ([ax1.xaxis.label, ax1.yaxis.label] +\n",
    "             ax1.get_xticklabels() + ax1.get_yticklabels()):\n",
    "    item.set_fontsize(14)\n",
    "    \n",
    "for item in ([ax2.xaxis.label, ax2.yaxis.label] +\n",
    "             ax2.get_xticklabels() + ax2.get_yticklabels()):\n",
    "    item.set_fontsize(14)\n",
    "    \n",
    "for item in ([ax3.xaxis.label, ax3.yaxis.label] +\n",
    "             ax3.get_xticklabels() + ax3.get_yticklabels()):\n",
    "    item.set_fontsize(14)\n",
    "    \n"
   ]
  },
  {
   "cell_type": "code",
   "execution_count": 56,
   "metadata": {
    "comet_cell_id": "81371a97eb751"
   },
   "outputs": [
    {
     "name": "stdout",
     "output_type": "stream",
     "text": [
      "338790 notebooks without words\n",
      "49422 notebooks without code\n",
      "0 notebooks without either\n"
     ]
    },
    {
     "name": "stderr",
     "output_type": "stream",
     "text": [
      "/Users/doug/anaconda/lib/python3.6/site-packages/ipykernel_launcher.py:3: UserWarning: Boolean Series key will be reindexed to match DataFrame index.\n",
      "  This is separate from the ipykernel package so we can avoid doing imports until\n"
     ]
    }
   ],
   "source": [
    "print('%s notebooks without words' % df_nb_complete[df_nb_complete.num_words == 0].shape[0])\n",
    "print('%s notebooks without code' % df_nb_complete[df_nb_complete.lines_of_code == 0].shape[0])\n",
    "print('%s notebooks without either' % df_nb_complete[df_nb_complete.num_words == 0][df_nb_complete.lines_of_code == 0].shape[0])"
   ]
  },
  {
   "cell_type": "markdown",
   "metadata": {
    "comet_cell_id": "ac4946453395c"
   },
   "source": [
    "# 6. Organization\n",
    "\n",
    "This section looks at how code and markdown is organized across notebooks. Many have all their organizational features in only one cell (e.g., only one cell has functions in it, only one cell had classes in it, etc) but that may be because there is only one function or class in the entire notebook. I did not follow up much further than getting the % of notebooks with each organizational feature."
   ]
  },
  {
   "cell_type": "code",
   "execution_count": 59,
   "metadata": {
    "comet_cell_id": "ff24415028369"
   },
   "outputs": [
    {
     "data": {
      "text/html": [
       "<div>\n",
       "<style>\n",
       "    .dataframe thead tr:only-child th {\n",
       "        text-align: right;\n",
       "    }\n",
       "\n",
       "    .dataframe thead th {\n",
       "        text-align: left;\n",
       "    }\n",
       "\n",
       "    .dataframe tbody tr th {\n",
       "        vertical-align: top;\n",
       "    }\n",
       "</style>\n",
       "<table border=\"1\" class=\"dataframe\">\n",
       "  <thead>\n",
       "    <tr style=\"text-align: right;\">\n",
       "      <th></th>\n",
       "      <th>lines_of_code</th>\n",
       "      <th>num_display_data</th>\n",
       "      <th>num_error</th>\n",
       "      <th>num_execute_result</th>\n",
       "      <th>num_stream</th>\n",
       "      <th>num_words</th>\n",
       "      <th>num_imports</th>\n",
       "      <th>num_headers</th>\n",
       "      <th>num_links</th>\n",
       "      <th>num_functions</th>\n",
       "      <th>num_classes</th>\n",
       "      <th>num_comment_lines</th>\n",
       "      <th>num_comment_words</th>\n",
       "      <th>nb_id</th>\n",
       "    </tr>\n",
       "    <tr>\n",
       "      <th>nb_id</th>\n",
       "      <th></th>\n",
       "      <th></th>\n",
       "      <th></th>\n",
       "      <th></th>\n",
       "      <th></th>\n",
       "      <th></th>\n",
       "      <th></th>\n",
       "      <th></th>\n",
       "      <th></th>\n",
       "      <th></th>\n",
       "      <th></th>\n",
       "      <th></th>\n",
       "      <th></th>\n",
       "      <th></th>\n",
       "    </tr>\n",
       "  </thead>\n",
       "  <tbody>\n",
       "    <tr>\n",
       "      <th>585</th>\n",
       "      <td>597</td>\n",
       "      <td>7</td>\n",
       "      <td>0</td>\n",
       "      <td>6</td>\n",
       "      <td>1</td>\n",
       "      <td>1687</td>\n",
       "      <td>4</td>\n",
       "      <td>18</td>\n",
       "      <td>1</td>\n",
       "      <td>10</td>\n",
       "      <td>0</td>\n",
       "      <td>281</td>\n",
       "      <td>1878</td>\n",
       "      <td>585</td>\n",
       "    </tr>\n",
       "    <tr>\n",
       "      <th>586</th>\n",
       "      <td>215</td>\n",
       "      <td>10</td>\n",
       "      <td>2</td>\n",
       "      <td>5</td>\n",
       "      <td>1</td>\n",
       "      <td>355</td>\n",
       "      <td>3</td>\n",
       "      <td>3</td>\n",
       "      <td>2</td>\n",
       "      <td>5</td>\n",
       "      <td>0</td>\n",
       "      <td>26</td>\n",
       "      <td>18</td>\n",
       "      <td>586</td>\n",
       "    </tr>\n",
       "    <tr>\n",
       "      <th>587</th>\n",
       "      <td>346</td>\n",
       "      <td>173</td>\n",
       "      <td>0</td>\n",
       "      <td>14</td>\n",
       "      <td>3</td>\n",
       "      <td>2</td>\n",
       "      <td>23</td>\n",
       "      <td>0</td>\n",
       "      <td>0</td>\n",
       "      <td>2</td>\n",
       "      <td>0</td>\n",
       "      <td>0</td>\n",
       "      <td>0</td>\n",
       "      <td>587</td>\n",
       "    </tr>\n",
       "    <tr>\n",
       "      <th>588</th>\n",
       "      <td>355</td>\n",
       "      <td>22</td>\n",
       "      <td>0</td>\n",
       "      <td>1</td>\n",
       "      <td>21</td>\n",
       "      <td>0</td>\n",
       "      <td>16</td>\n",
       "      <td>0</td>\n",
       "      <td>0</td>\n",
       "      <td>5</td>\n",
       "      <td>0</td>\n",
       "      <td>120</td>\n",
       "      <td>389</td>\n",
       "      <td>588</td>\n",
       "    </tr>\n",
       "    <tr>\n",
       "      <th>589</th>\n",
       "      <td>78</td>\n",
       "      <td>366</td>\n",
       "      <td>0</td>\n",
       "      <td>1</td>\n",
       "      <td>31</td>\n",
       "      <td>337</td>\n",
       "      <td>7</td>\n",
       "      <td>9</td>\n",
       "      <td>0</td>\n",
       "      <td>0</td>\n",
       "      <td>0</td>\n",
       "      <td>0</td>\n",
       "      <td>0</td>\n",
       "      <td>589</td>\n",
       "    </tr>\n",
       "  </tbody>\n",
       "</table>\n",
       "</div>"
      ],
      "text/plain": [
       "       lines_of_code  num_display_data  num_error  num_execute_result  \\\n",
       "nb_id                                                                   \n",
       "585              597                 7          0                   6   \n",
       "586              215                10          2                   5   \n",
       "587              346               173          0                  14   \n",
       "588              355                22          0                   1   \n",
       "589               78               366          0                   1   \n",
       "\n",
       "       num_stream  num_words  num_imports  num_headers  num_links  \\\n",
       "nb_id                                                               \n",
       "585             1       1687            4           18          1   \n",
       "586             1        355            3            3          2   \n",
       "587             3          2           23            0          0   \n",
       "588            21          0           16            0          0   \n",
       "589            31        337            7            9          0   \n",
       "\n",
       "       num_functions  num_classes  num_comment_lines  num_comment_words  nb_id  \n",
       "nb_id                                                                           \n",
       "585               10            0                281               1878    585  \n",
       "586                5            0                 26                 18    586  \n",
       "587                2            0                  0                  0    587  \n",
       "588                5            0                120                389    588  \n",
       "589                0            0                  0                  0    589  "
      ]
     },
     "execution_count": 59,
     "metadata": {},
     "output_type": "execute_result"
    }
   ],
   "source": [
    "df_nb_cell_counts.head()"
   ]
  },
  {
   "cell_type": "code",
   "execution_count": 60,
   "metadata": {
    "comet_cell_id": "ad1221167e736"
   },
   "outputs": [
    {
     "name": "stdout",
     "output_type": "stream",
     "text": [
      "0 null values\n",
      "1183344 nbs with lines of code\n",
      "59950 nbs with all code in one cell\n",
      "0.05066151516380697 nbs with all code in one cell\n"
     ]
    },
    {
     "data": {
      "text/plain": [
       "<matplotlib.text.Text at 0x16ab47780>"
      ]
     },
     "execution_count": 60,
     "metadata": {},
     "output_type": "execute_result"
    },
    {
     "data": {
      "image/png": "[encoded data removed]",
      "text/plain": [
       "<matplotlib.figure.Figure at 0x16ab478d0>"
      ]
     },
     "metadata": {},
     "output_type": "display_data"
    }
   ],
   "source": [
    "nb_loc_ratio = df_nb_cell_max.lines_of_code / df_nb_cell_counts.lines_of_code\n",
    "nb_loc_ratio.dropna(inplace = True)\n",
    "print('%s null values' % nb_loc_ratio.isnull().sum())\n",
    "print('%s nbs with lines of code' % nb_loc_ratio.shape[0])\n",
    "print('%s nbs with all code in one cell' % nb_loc_ratio[nb_loc_ratio == 1].shape[0])\n",
    "print('%s nbs with all code in one cell' % (nb_loc_ratio[nb_loc_ratio == 1].shape[0] / nb_loc_ratio.shape[0]))\n",
    "\n",
    "plt.figure(figsize=(16,6))\n",
    "ax = sns.distplot(nb_loc_ratio, \n",
    "                  kde=False)\n",
    "ax.set_xlabel('Lines of code per notebook in one cell')\n",
    "ax.set_xlabel('# Notebooks')"
   ]
  },
  {
   "cell_type": "code",
   "execution_count": 61,
   "metadata": {
    "comet_cell_id": "b6365c1e84fce"
   },
   "outputs": [
    {
     "name": "stdout",
     "output_type": "stream",
     "text": [
      "0 null values\n",
      "892987 nbs with words\n",
      "102332 nbs with all words in one cell\n",
      "0.11459517327799845 nbs with all words in one cell\n"
     ]
    },
    {
     "data": {
      "text/plain": [
       "<matplotlib.text.Text at 0x16ab6f5f8>"
      ]
     },
     "execution_count": 61,
     "metadata": {},
     "output_type": "execute_result"
    },
    {
     "data": {
      "image/png": "[encoded data removed]",
      "text/plain": [
       "<matplotlib.figure.Figure at 0x169714eb8>"
      ]
     },
     "metadata": {},
     "output_type": "display_data"
    }
   ],
   "source": [
    "nb_words_ratio = df_nb_cell_max.num_words / df_nb_cell_counts.num_words\n",
    "nb_words_ratio.dropna(inplace = True)\n",
    "print('%s null values' % nb_words_ratio.isnull().sum())\n",
    "print('%s nbs with words' % nb_words_ratio.shape[0])\n",
    "print('%s nbs with all words in one cell' % nb_words_ratio[nb_words_ratio == 1].shape[0])\n",
    "print('%s nbs with all words in one cell' % (nb_words_ratio[nb_words_ratio == 1].shape[0] / nb_words_ratio.shape[0]))\n",
    "\n",
    "plt.figure(figsize=(16,6))\n",
    "ax = sns.distplot(nb_words_ratio, \n",
    "                  kde=False)\n",
    "ax.set_xlabel('Words notebook in one cell')\n",
    "ax.set_xlabel('# Notebooks')"
   ]
  },
  {
   "cell_type": "code",
   "execution_count": 62,
   "metadata": {
    "comet_cell_id": "6580f552befb2"
   },
   "outputs": [
    {
     "name": "stdout",
     "output_type": "stream",
     "text": [
      "0 null values\n",
      "761957 nbs with comments\n",
      "147787 nbs with all comments in one cell\n",
      "0.1939571393136358 nbs with all comments in one cell\n",
      "0\n"
     ]
    },
    {
     "data": {
      "text/plain": [
       "<matplotlib.text.Text at 0x169a434e0>"
      ]
     },
     "execution_count": 62,
     "metadata": {},
     "output_type": "execute_result"
    },
    {
     "data": {
      "image/png": "[encoded data removed]",
      "text/plain": [
       "<matplotlib.figure.Figure at 0x1731667b8>"
      ]
     },
     "metadata": {},
     "output_type": "display_data"
    }
   ],
   "source": [
    "nb_comments_ratio = df_nb_cell_max.num_comment_lines / df_nb_cell_counts.num_comment_lines\n",
    "nb_comments_ratio.dropna(inplace = True)\n",
    "print('%s null values' % nb_comments_ratio.isnull().sum())\n",
    "print('%s nbs with comments' % nb_comments_ratio.shape[0])\n",
    "print('%s nbs with all comments in one cell' % nb_comments_ratio[nb_comments_ratio == 1].shape[0])\n",
    "print('%s nbs with all comments in one cell' % (nb_comments_ratio[nb_comments_ratio == 1].shape[0] / nb_comments_ratio.shape[0]))\n",
    "print(len(nb_comments_ratio[nb_comments_ratio > 1]))\n",
    "\n",
    "plt.figure(figsize=(16,6))\n",
    "ax = sns.distplot(nb_comments_ratio[nb_comments_ratio <=1], \n",
    "                  kde=False)\n",
    "ax.set_xlabel('comments notebook in one cell')\n",
    "ax.set_xlabel('# Notebooks')"
   ]
  },
  {
   "cell_type": "code",
   "execution_count": 63,
   "metadata": {
    "comet_cell_id": "edf30b7a2bc5d"
   },
   "outputs": [
    {
     "name": "stdout",
     "output_type": "stream",
     "text": [
      "0 null values\n",
      "542378 nbs with functions\n",
      "202248 nbs with all functions in one cell\n",
      "0.37289123083900894 nbs with all functions in one cell\n"
     ]
    },
    {
     "data": {
      "text/plain": [
       "<matplotlib.text.Text at 0x168e49e10>"
      ]
     },
     "execution_count": 63,
     "metadata": {},
     "output_type": "execute_result"
    },
    {
     "data": {
      "image/png": "[encoded data removed]",
      "text/plain": [
       "<matplotlib.figure.Figure at 0x16c34a048>"
      ]
     },
     "metadata": {},
     "output_type": "display_data"
    }
   ],
   "source": [
    "nb_functions_ratio = df_nb_cell_max.num_functions / df_nb_cell_counts.num_functions\n",
    "nb_functions_ratio.dropna(inplace = True)\n",
    "print('%s null values' % nb_functions_ratio.isnull().sum())\n",
    "print('%s nbs with functions' % nb_functions_ratio.shape[0])\n",
    "print('%s nbs with all functions in one cell' % nb_functions_ratio[nb_functions_ratio == 1].shape[0])\n",
    "print('%s nbs with all functions in one cell' % (nb_functions_ratio[nb_functions_ratio == 1].shape[0] / nb_functions_ratio.shape[0]))\n",
    "\n",
    "plt.figure(figsize=(16,6))\n",
    "ax = sns.distplot(nb_functions_ratio, \n",
    "                  kde=False)\n",
    "ax.set_xlabel('functions notebook in one cell')\n",
    "ax.set_xlabel('# Notebooks')"
   ]
  },
  {
   "cell_type": "code",
   "execution_count": 64,
   "metadata": {
    "comet_cell_id": "9919b41a588ae"
   },
   "outputs": [
    {
     "name": "stdout",
     "output_type": "stream",
     "text": [
      "0 null values\n",
      "919192 nbs with imports\n",
      "434203 nbs with all imports in one cell\n",
      "0.4723746507802505 nbs with all imports in one cell\n"
     ]
    },
    {
     "data": {
      "text/plain": [
       "<matplotlib.text.Text at 0x16bdf4ef0>"
      ]
     },
     "execution_count": 64,
     "metadata": {},
     "output_type": "execute_result"
    },
    {
     "data": {
      "image/png": "[encoded data removed]",
      "text/plain": [
       "<matplotlib.figure.Figure at 0x16a1eb128>"
      ]
     },
     "metadata": {},
     "output_type": "display_data"
    }
   ],
   "source": [
    "nb_imports_ratio = df_nb_cell_max.num_imports / df_nb_cell_counts.num_imports\n",
    "nb_imports_ratio.dropna(inplace = True)\n",
    "print('%s null values' % nb_imports_ratio.isnull().sum())\n",
    "print('%s nbs with imports' % nb_imports_ratio.shape[0])\n",
    "print('%s nbs with all imports in one cell' % nb_imports_ratio[nb_imports_ratio == 1].shape[0])\n",
    "print('%s nbs with all imports in one cell' % (nb_imports_ratio[nb_imports_ratio == 1].shape[0] / nb_imports_ratio.shape[0]))\n",
    "\n",
    "plt.figure(figsize=(16,6))\n",
    "ax = sns.distplot(nb_imports_ratio, \n",
    "                  kde=False)\n",
    "ax.set_xlabel('imports notebook in one cell')\n",
    "ax.set_xlabel('# Notebooks')"
   ]
  },
  {
   "cell_type": "code",
   "execution_count": 65,
   "metadata": {
    "comet_cell_id": "cabaa7a5c23b1"
   },
   "outputs": [
    {
     "name": "stdout",
     "output_type": "stream",
     "text": [
      "0 null values\n",
      "123435 nbs with classes\n",
      "72962 nbs with all classes in one cell\n",
      "0.5910965285372868 nbs with all classes in one cell\n"
     ]
    },
    {
     "data": {
      "text/plain": [
       "<matplotlib.text.Text at 0x167494e48>"
      ]
     },
     "execution_count": 65,
     "metadata": {},
     "output_type": "execute_result"
    },
    {
     "data": {
      "image/png": "[encoded data removed]",
      "text/plain": [
       "<matplotlib.figure.Figure at 0x16bd08f98>"
      ]
     },
     "metadata": {},
     "output_type": "display_data"
    }
   ],
   "source": [
    "nb_classes_ratio = df_nb_cell_max.num_classes / df_nb_cell_counts.num_classes\n",
    "nb_classes_ratio.dropna(inplace = True)\n",
    "print('%s null values' % nb_classes_ratio.isnull().sum())\n",
    "print('%s nbs with classes' % nb_classes_ratio.shape[0])\n",
    "print('%s nbs with all classes in one cell' % nb_classes_ratio[nb_classes_ratio == 1].shape[0])\n",
    "print('%s nbs with all classes in one cell' % (nb_classes_ratio[nb_classes_ratio == 1].shape[0] / nb_classes_ratio.shape[0]))\n",
    "\n",
    "plt.figure(figsize=(16,6))\n",
    "ax = sns.distplot(nb_classes_ratio, \n",
    "                  kde=False)\n",
    "ax.set_xlabel('classes notebook in one cell')\n",
    "ax.set_xlabel('# Notebooks')"
   ]
  },
  {
   "cell_type": "code",
   "execution_count": 66,
   "metadata": {
    "comet_cell_id": "840cfcc1b1921"
   },
   "outputs": [
    {
     "name": "stdout",
     "output_type": "stream",
     "text": [
      "0 null values\n",
      "387604 nbs with links\n",
      "165626 nbs with all links in one cell\n",
      "0.4273072517311483 nbs with all links in one cell\n"
     ]
    },
    {
     "data": {
      "text/plain": [
       "<matplotlib.text.Text at 0x1799b6160>"
      ]
     },
     "execution_count": 66,
     "metadata": {},
     "output_type": "execute_result"
    },
    {
     "data": {
      "image/png": "[encoded data removed]",
      "text/plain": [
       "<matplotlib.figure.Figure at 0x169983e48>"
      ]
     },
     "metadata": {},
     "output_type": "display_data"
    }
   ],
   "source": [
    "nb_links_ratio = df_nb_cell_max.num_links / df_nb_cell_counts.num_links\n",
    "nb_links_ratio.dropna(inplace = True)\n",
    "print('%s null values' % nb_links_ratio.isnull().sum())\n",
    "print('%s nbs with links' % nb_links_ratio.shape[0])\n",
    "print('%s nbs with all links in one cell' % nb_links_ratio[nb_links_ratio == 1].shape[0])\n",
    "print('%s nbs with all links in one cell' % (nb_links_ratio[nb_links_ratio == 1].shape[0] / nb_links_ratio.shape[0]))\n",
    "\n",
    "plt.figure(figsize=(16,6))\n",
    "ax = sns.distplot(nb_links_ratio, \n",
    "                  kde=False)\n",
    "ax.set_xlabel('links notebook in one cell')\n",
    "ax.set_xlabel('# Notebooks')"
   ]
  },
  {
   "cell_type": "code",
   "execution_count": 67,
   "metadata": {
    "comet_cell_id": "30575ebb3097a"
   },
   "outputs": [
    {
     "name": "stdout",
     "output_type": "stream",
     "text": [
      "0 null values\n",
      "738903 nbs with headers\n",
      "148130 nbs with all headers in one cell\n",
      "0.20047286314983156 nbs with all headers in one cell\n"
     ]
    },
    {
     "data": {
      "text/plain": [
       "<matplotlib.text.Text at 0x1666bd710>"
      ]
     },
     "execution_count": 67,
     "metadata": {},
     "output_type": "execute_result"
    },
    {
     "data": {
      "image/png": "[encoded data removed]",
      "text/plain": [
       "<matplotlib.figure.Figure at 0x16c935e48>"
      ]
     },
     "metadata": {},
     "output_type": "display_data"
    }
   ],
   "source": [
    "nb_headers_ratio = df_nb_cell_max.num_headers / df_nb_cell_counts.num_headers\n",
    "nb_headers_ratio.dropna(inplace = True)\n",
    "print('%s null values' % nb_headers_ratio.isnull().sum())\n",
    "print('%s nbs with headers' % nb_headers_ratio.shape[0])\n",
    "print('%s nbs with all headers in one cell' % nb_headers_ratio[nb_headers_ratio == 1].shape[0])\n",
    "print('%s nbs with all headers in one cell' % (nb_headers_ratio[nb_headers_ratio == 1].shape[0] / nb_headers_ratio.shape[0]))\n",
    "\n",
    "plt.figure(figsize=(16,6))\n",
    "ax = sns.distplot(nb_headers_ratio, \n",
    "                  kde=False)\n",
    "ax.set_xlabel('headers notebook in one cell')\n",
    "ax.set_xlabel('# Notebooks')"
   ]
  },
  {
   "cell_type": "markdown",
   "metadata": {
    "comet_cell_id": "847a916d9da76"
   },
   "source": [
    "# 7. Outputs\n",
    "\n",
    "Again a similar analysis or where different types of outputs are in the notebook. Mainly I just looked at the % of all ntoebooks with each type of output."
   ]
  },
  {
   "cell_type": "code",
   "execution_count": 68,
   "metadata": {
    "comet_cell_id": "6d101414f31d7"
   },
   "outputs": [
    {
     "name": "stdout",
     "output_type": "stream",
     "text": [
      "0 null values\n",
      "558365 nbs with display_data\n",
      "143449 nbs with all display_data in one cell\n",
      "0.256909011130712 nbs with all display_data in one cell\n"
     ]
    },
    {
     "data": {
      "text/plain": [
       "<matplotlib.text.Text at 0x16707ba20>"
      ]
     },
     "execution_count": 68,
     "metadata": {},
     "output_type": "execute_result"
    },
    {
     "data": {
      "image/png": "[encoded data removed]",
      "text/plain": [
       "<matplotlib.figure.Figure at 0x16c1cacc0>"
      ]
     },
     "metadata": {},
     "output_type": "display_data"
    }
   ],
   "source": [
    "nb_display_data_ratio = df_nb_cell_max.num_display_data / df_nb_cell_counts.num_display_data\n",
    "nb_display_data_ratio.dropna(inplace = True)\n",
    "print('%s null values' % nb_display_data_ratio.isnull().sum())\n",
    "print('%s nbs with display_data' % nb_display_data_ratio.shape[0])\n",
    "print('%s nbs with all display_data in one cell' % nb_display_data_ratio[nb_display_data_ratio == 1].shape[0])\n",
    "print('%s nbs with all display_data in one cell' % (nb_display_data_ratio[nb_display_data_ratio == 1].shape[0] / nb_display_data_ratio.shape[0]))\n",
    "\n",
    "plt.figure(figsize=(16,6))\n",
    "ax = sns.distplot(nb_display_data_ratio, \n",
    "                  kde=False)\n",
    "ax.set_xlabel('display_data notebook in one cell')\n",
    "ax.set_xlabel('# Notebooks')"
   ]
  },
  {
   "cell_type": "code",
   "execution_count": 69,
   "metadata": {
    "comet_cell_id": "dd54f9cbcfe25"
   },
   "outputs": [
    {
     "name": "stdout",
     "output_type": "stream",
     "text": [
      "0 null values\n",
      "713420 nbs with execute_result\n",
      "145509 nbs with all execute_result in one cell\n",
      "0.2039597992767234 nbs with all execute_result in one cell\n"
     ]
    },
    {
     "data": {
      "text/plain": [
       "<matplotlib.text.Text at 0x16ba77be0>"
      ]
     },
     "execution_count": 69,
     "metadata": {},
     "output_type": "execute_result"
    },
    {
     "data": {
      "image/png": "[encoded data removed]",
      "text/plain": [
       "<matplotlib.figure.Figure at 0x167fa1588>"
      ]
     },
     "metadata": {},
     "output_type": "display_data"
    }
   ],
   "source": [
    "nb_execute_result_ratio = df_nb_cell_max.num_execute_result / df_nb_cell_counts.num_execute_result\n",
    "nb_execute_result_ratio.dropna(inplace = True)\n",
    "print('%s null values' % nb_execute_result_ratio.isnull().sum())\n",
    "print('%s nbs with execute_result' % nb_execute_result_ratio.shape[0])\n",
    "print('%s nbs with all execute_result in one cell' % nb_execute_result_ratio[nb_execute_result_ratio == 1].shape[0])\n",
    "print('%s nbs with all execute_result in one cell' % (nb_execute_result_ratio[nb_execute_result_ratio == 1].shape[0] / nb_execute_result_ratio.shape[0]))\n",
    "\n",
    "plt.figure(figsize=(16,6))\n",
    "ax = sns.distplot(nb_execute_result_ratio, \n",
    "                  kde=False)\n",
    "ax.set_xlabel('execute_result notebook in one cell')\n",
    "ax.set_xlabel('# Notebooks')"
   ]
  },
  {
   "cell_type": "code",
   "execution_count": 70,
   "metadata": {
    "comet_cell_id": "7a7b33c420526"
   },
   "outputs": [
    {
     "name": "stdout",
     "output_type": "stream",
     "text": [
      "0 null values\n",
      "840549 nbs with stream\n",
      "203012 nbs with all stream in one cell\n",
      "0.24152309978359382 nbs with all stream in one cell\n"
     ]
    },
    {
     "data": {
      "text/plain": [
       "<matplotlib.text.Text at 0x16bb0ecc0>"
      ]
     },
     "execution_count": 70,
     "metadata": {},
     "output_type": "execute_result"
    },
    {
     "data": {
      "image/png": "[encoded data removed]",
      "text/plain": [
       "<matplotlib.figure.Figure at 0x168b1c9e8>"
      ]
     },
     "metadata": {},
     "output_type": "display_data"
    }
   ],
   "source": [
    "nb_stream_ratio = df_nb_cell_max.num_stream / df_nb_cell_counts.num_stream\n",
    "nb_stream_ratio.dropna(inplace = True)\n",
    "print('%s null values' % nb_stream_ratio.isnull().sum())\n",
    "print('%s nbs with stream' % nb_stream_ratio.shape[0])\n",
    "print('%s nbs with all stream in one cell' % nb_stream_ratio[nb_stream_ratio == 1].shape[0])\n",
    "print('%s nbs with all stream in one cell' % (nb_stream_ratio[nb_stream_ratio == 1].shape[0] / nb_stream_ratio.shape[0]))\n",
    "\n",
    "plt.figure(figsize=(16,6))\n",
    "ax = sns.distplot(nb_stream_ratio, \n",
    "                  kde=False)\n",
    "ax.set_xlabel('stream notebook in one cell')\n",
    "ax.set_xlabel('# Notebooks')"
   ]
  },
  {
   "cell_type": "markdown",
   "metadata": {
    "comet_cell_id": "2e641bf12195a"
   },
   "source": [
    "## 7.1 Output Order\n",
    "\n",
    "This is a litte messy, and took a wile, but this code checks if the order of outputs is linear (1, 2, 3, 4, ...) or if we have evidence for cells being run out of order. This took a while to run, so I won't re-run the analysis here as I clean the notebook.\n",
    "\n",
    "The main finding is that nearly half (44%) of notebooks with outputs are run out of order (that is not stricly linearly)"
   ]
  },
  {
   "cell_type": "code",
   "execution_count": 13,
   "metadata": {
    "comet_cell_id": "61258d81f76ab"
   },
   "outputs": [
    {
     "name": "stdout",
     "output_type": "stream",
     "text": [
      "1000\n",
      "2000\n",
      "3000\n",
      "4000\n",
      "5000\n",
      "6000\n",
      "7000\n",
      "8000\n",
      "9000\n",
      "10000\n",
      "11000\n",
      "12000\n",
      "13000\n",
      "14000\n",
      "15000\n",
      "16000\n",
      "17000\n",
      "18000\n",
      "19000\n",
      "20000\n",
      "21000\n",
      "22000\n",
      "23000\n",
      "24000\n",
      "25000\n",
      "26000\n",
      "27000\n",
      "28000\n",
      "29000\n",
      "30000\n",
      "31000\n",
      "32000\n",
      "33000\n",
      "34000\n",
      "35000\n",
      "36000\n",
      "37000\n",
      "38000\n",
      "39000\n",
      "40000\n",
      "41000\n",
      "42000\n",
      "43000\n",
      "44000\n",
      "45000\n",
      "46000\n",
      "47000\n",
      "48000\n",
      "49000\n",
      "50000\n",
      "51000\n",
      "52000\n",
      "53000\n",
      "54000\n",
      "55000\n",
      "56000\n",
      "57000\n",
      "58000\n",
      "59000\n",
      "60000\n",
      "61000\n",
      "62000\n",
      "63000\n",
      "64000\n",
      "65000\n",
      "66000\n",
      "67000\n",
      "68000\n",
      "69000\n",
      "70000\n",
      "71000\n",
      "72000\n",
      "73000\n",
      "74000\n",
      "75000\n",
      "76000\n",
      "77000\n",
      "78000\n",
      "79000\n",
      "80000\n",
      "81000\n",
      "82000\n",
      "83000\n",
      "84000\n",
      "85000\n",
      "86000\n",
      "87000\n",
      "88000\n",
      "89000\n",
      "90000\n",
      "91000\n",
      "92000\n",
      "93000\n",
      "94000\n",
      "95000\n",
      "96000\n",
      "97000\n",
      "98000\n",
      "99000\n",
      "100000\n",
      "101000\n",
      "102000\n",
      "103000\n",
      "104000\n",
      "105000\n",
      "106000\n",
      "107000\n",
      "108000\n",
      "109000\n",
      "110000\n",
      "111000\n",
      "112000\n",
      "113000\n",
      "114000\n",
      "115000\n",
      "116000\n",
      "117000\n",
      "118000\n",
      "119000\n",
      "120000\n",
      "121000\n",
      "122000\n",
      "123000\n",
      "124000\n",
      "125000\n",
      "126000\n",
      "127000\n",
      "128000\n",
      "129000\n",
      "130000\n",
      "131000\n",
      "132000\n",
      "133000\n",
      "134000\n",
      "135000\n",
      "136000\n",
      "137000\n",
      "138000\n",
      "139000\n",
      "140000\n",
      "141000\n",
      "142000\n",
      "143000\n",
      "144000\n",
      "145000\n",
      "146000\n",
      "147000\n",
      "148000\n",
      "149000\n",
      "150000\n",
      "151000\n",
      "152000\n",
      "153000\n",
      "154000\n",
      "155000\n",
      "156000\n",
      "157000\n",
      "158000\n",
      "159000\n",
      "160000\n",
      "161000\n",
      "162000\n",
      "163000\n",
      "164000\n",
      "165000\n",
      "166000\n",
      "167000\n",
      "168000\n",
      "169000\n",
      "170000\n",
      "171000\n",
      "172000\n",
      "173000\n",
      "174000\n",
      "175000\n",
      "176000\n",
      "177000\n",
      "178000\n",
      "179000\n",
      "180000\n",
      "181000\n",
      "182000\n",
      "183000\n",
      "184000\n",
      "185000\n",
      "186000\n",
      "187000\n",
      "188000\n",
      "189000\n",
      "190000\n",
      "191000\n",
      "192000\n",
      "193000\n",
      "194000\n",
      "195000\n",
      "196000\n",
      "197000\n",
      "198000\n",
      "199000\n",
      "200000\n",
      "201000\n",
      "202000\n",
      "203000\n",
      "204000\n",
      "205000\n",
      "206000\n",
      "207000\n",
      "208000\n",
      "209000\n",
      "210000\n",
      "211000\n",
      "212000\n",
      "213000\n",
      "214000\n",
      "215000\n",
      "216000\n",
      "217000\n",
      "218000\n",
      "219000\n",
      "220000\n",
      "221000\n",
      "222000\n",
      "223000\n",
      "224000\n",
      "225000\n",
      "226000\n",
      "227000\n",
      "228000\n",
      "229000\n",
      "230000\n",
      "231000\n",
      "232000\n",
      "233000\n",
      "234000\n",
      "235000\n",
      "236000\n",
      "237000\n",
      "238000\n",
      "239000\n",
      "240000\n",
      "241000\n",
      "242000\n",
      "243000\n",
      "244000\n",
      "245000\n",
      "246000\n",
      "247000\n",
      "248000\n",
      "249000\n",
      "250000\n",
      "251000\n",
      "252000\n",
      "253000\n",
      "254000\n",
      "255000\n",
      "256000\n",
      "257000\n",
      "258000\n",
      "259000\n",
      "260000\n",
      "261000\n",
      "262000\n",
      "263000\n",
      "264000\n",
      "265000\n",
      "266000\n",
      "267000\n",
      "268000\n",
      "269000\n",
      "270000\n",
      "271000\n",
      "272000\n",
      "273000\n",
      "274000\n",
      "275000\n",
      "276000\n",
      "277000\n",
      "278000\n",
      "279000\n",
      "280000\n",
      "281000\n",
      "282000\n",
      "283000\n",
      "284000\n",
      "285000\n",
      "286000\n",
      "287000\n",
      "288000\n",
      "289000\n",
      "290000\n",
      "291000\n",
      "292000\n",
      "293000\n",
      "294000\n",
      "295000\n",
      "296000\n",
      "297000\n",
      "298000\n",
      "299000\n",
      "300000\n",
      "301000\n",
      "302000\n",
      "303000\n",
      "304000\n",
      "305000\n",
      "306000\n",
      "307000\n",
      "308000\n",
      "309000\n",
      "310000\n",
      "311000\n",
      "312000\n",
      "313000\n",
      "314000\n",
      "315000\n",
      "316000\n",
      "317000\n",
      "318000\n",
      "319000\n",
      "320000\n",
      "321000\n",
      "322000\n",
      "323000\n",
      "324000\n",
      "325000\n",
      "326000\n",
      "327000\n",
      "328000\n",
      "329000\n",
      "330000\n",
      "331000\n",
      "332000\n",
      "333000\n",
      "334000\n",
      "335000\n",
      "336000\n",
      "337000\n",
      "338000\n",
      "339000\n",
      "340000\n",
      "341000\n",
      "342000\n",
      "343000\n",
      "344000\n",
      "345000\n",
      "346000\n",
      "347000\n",
      "348000\n",
      "349000\n",
      "350000\n",
      "351000\n",
      "352000\n",
      "353000\n",
      "354000\n",
      "355000\n",
      "356000\n",
      "357000\n",
      "358000\n",
      "359000\n",
      "360000\n",
      "361000\n",
      "362000\n",
      "363000\n",
      "364000\n",
      "365000\n",
      "366000\n",
      "367000\n",
      "368000\n",
      "369000\n",
      "370000\n",
      "371000\n",
      "372000\n",
      "373000\n",
      "374000\n",
      "375000\n",
      "376000\n",
      "377000\n",
      "378000\n",
      "379000\n",
      "380000\n",
      "381000\n",
      "382000\n",
      "383000\n",
      "384000\n",
      "385000\n",
      "386000\n",
      "387000\n",
      "388000\n",
      "389000\n",
      "390000\n",
      "391000\n",
      "392000\n",
      "393000\n",
      "394000\n",
      "395000\n",
      "396000\n",
      "397000\n",
      "398000\n",
      "399000\n",
      "400000\n",
      "401000\n",
      "402000\n",
      "403000\n",
      "404000\n",
      "405000\n",
      "406000\n",
      "407000\n",
      "408000\n",
      "409000\n",
      "410000\n",
      "411000\n",
      "412000\n",
      "413000\n",
      "414000\n",
      "415000\n",
      "416000\n",
      "417000\n",
      "418000\n",
      "419000\n",
      "420000\n",
      "421000\n",
      "422000\n",
      "423000\n",
      "424000\n",
      "425000\n",
      "426000\n",
      "427000\n",
      "428000\n",
      "429000\n",
      "430000\n",
      "431000\n",
      "432000\n",
      "433000\n",
      "434000\n",
      "435000\n",
      "436000\n",
      "437000\n",
      "438000\n",
      "439000\n",
      "440000\n",
      "441000\n",
      "442000\n",
      "443000\n",
      "444000\n",
      "445000\n",
      "446000\n",
      "447000\n",
      "448000\n",
      "449000\n",
      "450000\n",
      "451000\n",
      "452000\n",
      "453000\n",
      "454000\n",
      "455000\n",
      "456000\n",
      "457000\n",
      "458000\n",
      "459000\n",
      "460000\n",
      "461000\n",
      "462000\n",
      "463000\n",
      "464000\n",
      "465000\n",
      "466000\n",
      "467000\n",
      "468000\n",
      "469000\n",
      "470000\n",
      "471000\n",
      "472000\n",
      "473000\n",
      "474000\n",
      "475000\n",
      "476000\n",
      "477000\n",
      "478000\n",
      "479000\n",
      "480000\n",
      "481000\n",
      "482000\n",
      "483000\n",
      "484000\n",
      "485000\n",
      "486000\n",
      "487000\n",
      "488000\n",
      "489000\n",
      "490000\n",
      "491000\n",
      "492000\n",
      "493000\n",
      "494000\n",
      "495000\n",
      "496000\n",
      "497000\n",
      "498000\n",
      "499000\n",
      "500000\n",
      "501000\n",
      "502000\n",
      "503000\n",
      "504000\n",
      "505000\n",
      "506000\n",
      "507000\n",
      "508000\n",
      "509000\n",
      "510000\n",
      "511000\n",
      "512000\n",
      "513000\n",
      "514000\n",
      "515000\n",
      "516000\n",
      "517000\n",
      "518000\n",
      "519000\n",
      "520000\n",
      "521000\n",
      "522000\n",
      "523000\n",
      "524000\n",
      "525000\n",
      "526000\n",
      "527000\n",
      "528000\n",
      "529000\n",
      "530000\n",
      "531000\n",
      "532000\n",
      "533000\n",
      "534000\n",
      "535000\n",
      "536000\n",
      "537000\n",
      "538000\n",
      "539000\n",
      "540000\n",
      "541000\n",
      "542000\n",
      "543000\n",
      "544000\n",
      "545000\n",
      "546000\n",
      "547000\n",
      "548000\n",
      "549000\n",
      "550000\n",
      "551000\n",
      "552000\n",
      "553000\n",
      "554000\n",
      "555000\n",
      "556000\n",
      "557000\n",
      "558000\n",
      "559000\n",
      "560000\n",
      "561000\n",
      "562000\n",
      "563000\n",
      "564000\n",
      "565000\n",
      "566000\n",
      "567000\n",
      "568000\n",
      "569000\n",
      "570000\n",
      "571000\n",
      "572000\n",
      "573000\n",
      "574000\n",
      "575000\n",
      "576000\n",
      "577000\n",
      "578000\n",
      "579000\n",
      "580000\n",
      "581000\n",
      "582000\n",
      "583000\n",
      "584000\n",
      "585000\n",
      "586000\n",
      "587000\n",
      "588000\n",
      "589000\n",
      "590000\n",
      "591000\n",
      "592000\n",
      "593000\n",
      "594000\n",
      "595000\n",
      "596000\n",
      "597000\n",
      "598000\n",
      "599000\n",
      "600000\n",
      "601000\n",
      "602000\n",
      "603000\n",
      "604000\n",
      "605000\n",
      "606000\n",
      "607000\n",
      "608000\n",
      "609000\n",
      "610000\n",
      "611000\n",
      "612000\n",
      "613000\n",
      "614000\n",
      "615000\n",
      "616000\n",
      "617000\n",
      "618000\n",
      "619000\n",
      "620000\n",
      "621000\n",
      "622000\n",
      "623000\n",
      "624000\n",
      "625000\n",
      "626000\n",
      "627000\n",
      "628000\n",
      "629000\n",
      "630000\n",
      "631000\n",
      "632000\n",
      "633000\n",
      "634000\n",
      "635000\n",
      "636000\n",
      "637000\n",
      "638000\n",
      "639000\n",
      "640000\n",
      "641000\n",
      "642000\n",
      "643000\n",
      "644000\n",
      "645000\n",
      "646000\n",
      "647000\n",
      "648000\n",
      "649000\n",
      "650000\n",
      "651000\n",
      "652000\n",
      "653000\n",
      "654000\n",
      "655000\n",
      "656000\n",
      "657000\n",
      "658000\n",
      "659000\n",
      "660000\n",
      "661000\n",
      "662000\n",
      "663000\n",
      "664000\n",
      "665000\n",
      "666000\n",
      "667000\n",
      "668000\n",
      "669000\n",
      "670000\n",
      "671000\n",
      "672000\n",
      "673000\n",
      "674000\n",
      "675000\n",
      "676000\n",
      "677000\n",
      "678000\n",
      "679000\n",
      "680000\n",
      "681000\n",
      "682000\n",
      "683000\n",
      "684000\n",
      "685000\n",
      "686000\n",
      "687000\n",
      "688000\n",
      "689000\n",
      "690000\n",
      "691000\n",
      "692000\n",
      "693000\n",
      "694000\n",
      "695000\n",
      "696000\n",
      "697000\n",
      "698000\n",
      "699000\n",
      "700000\n",
      "701000\n",
      "702000\n",
      "703000\n",
      "704000\n",
      "705000\n",
      "706000\n",
      "707000\n",
      "708000\n",
      "709000\n",
      "710000\n",
      "711000\n",
      "712000\n",
      "713000\n",
      "714000\n",
      "715000\n",
      "716000\n",
      "717000\n",
      "718000\n",
      "719000\n",
      "720000\n",
      "721000\n",
      "722000\n",
      "723000\n",
      "724000\n",
      "725000\n",
      "726000\n",
      "727000\n",
      "728000\n",
      "729000\n",
      "730000\n",
      "731000\n",
      "732000\n",
      "733000\n",
      "734000\n",
      "735000\n",
      "736000\n",
      "737000\n",
      "738000\n",
      "739000\n",
      "740000\n",
      "741000\n",
      "742000\n",
      "743000\n",
      "744000\n",
      "745000\n",
      "746000\n",
      "747000\n",
      "748000\n",
      "749000\n",
      "750000\n",
      "751000\n",
      "752000\n",
      "753000\n",
      "754000\n",
      "755000\n",
      "756000\n",
      "757000\n",
      "758000\n",
      "759000\n",
      "760000\n",
      "761000\n",
      "762000\n",
      "763000\n",
      "764000\n",
      "765000\n",
      "766000\n",
      "767000\n",
      "768000\n",
      "769000\n",
      "770000\n",
      "771000\n",
      "772000\n",
      "773000\n",
      "774000\n",
      "775000\n",
      "776000\n",
      "777000\n",
      "778000\n",
      "779000\n",
      "780000\n",
      "781000\n",
      "782000\n",
      "783000\n",
      "784000\n",
      "785000\n",
      "786000\n",
      "787000\n",
      "788000\n",
      "789000\n",
      "790000\n",
      "791000\n",
      "792000\n",
      "793000\n",
      "794000\n",
      "795000\n",
      "796000\n",
      "797000\n",
      "798000\n",
      "799000\n",
      "800000\n",
      "801000\n",
      "802000\n",
      "803000\n",
      "804000\n",
      "805000\n",
      "806000\n",
      "807000\n",
      "808000\n",
      "809000\n",
      "810000\n",
      "811000\n",
      "812000\n",
      "813000\n",
      "814000\n",
      "815000\n",
      "816000\n",
      "817000\n",
      "818000\n",
      "819000\n",
      "820000\n",
      "821000\n",
      "822000\n",
      "823000\n",
      "824000\n",
      "825000\n",
      "826000\n",
      "827000\n",
      "828000\n",
      "829000\n",
      "830000\n",
      "831000\n",
      "832000\n",
      "833000\n",
      "834000\n",
      "835000\n",
      "836000\n",
      "837000\n",
      "838000\n",
      "839000\n",
      "840000\n",
      "841000\n",
      "842000\n",
      "843000\n",
      "844000\n",
      "845000\n",
      "846000\n",
      "847000\n",
      "848000\n",
      "849000\n",
      "850000\n",
      "851000\n",
      "852000\n",
      "853000\n",
      "854000\n",
      "855000\n",
      "856000\n",
      "857000\n",
      "858000\n",
      "859000\n",
      "860000\n",
      "861000\n",
      "862000\n",
      "863000\n",
      "864000\n",
      "865000\n",
      "866000\n",
      "867000\n",
      "868000\n",
      "869000\n",
      "870000\n",
      "871000\n",
      "872000\n",
      "873000\n",
      "874000\n",
      "875000\n",
      "876000\n",
      "877000\n",
      "878000\n",
      "879000\n",
      "880000\n",
      "881000\n",
      "882000\n",
      "883000\n",
      "884000\n",
      "885000\n",
      "886000\n",
      "887000\n",
      "888000\n",
      "889000\n",
      "890000\n",
      "891000\n",
      "892000\n",
      "893000\n",
      "894000\n",
      "895000\n",
      "896000\n",
      "897000\n",
      "898000\n",
      "899000\n",
      "900000\n",
      "901000\n",
      "902000\n",
      "903000\n",
      "904000\n",
      "905000\n",
      "906000\n",
      "907000\n",
      "908000\n",
      "909000\n",
      "910000\n",
      "911000\n",
      "912000\n",
      "913000\n",
      "914000\n",
      "915000\n",
      "916000\n",
      "917000\n",
      "918000\n",
      "919000\n",
      "920000\n",
      "921000\n",
      "922000\n",
      "923000\n",
      "924000\n",
      "925000\n",
      "926000\n",
      "927000\n",
      "928000\n",
      "929000\n",
      "930000\n",
      "931000\n",
      "932000\n",
      "933000\n",
      "934000\n",
      "935000\n",
      "936000\n",
      "937000\n",
      "938000\n",
      "939000\n",
      "940000\n",
      "941000\n",
      "942000\n",
      "943000\n",
      "944000\n",
      "945000\n",
      "946000\n",
      "947000\n",
      "948000\n",
      "949000\n",
      "950000\n",
      "951000\n",
      "952000\n",
      "953000\n",
      "954000\n",
      "955000\n",
      "956000\n",
      "957000\n",
      "958000\n",
      "959000\n",
      "960000\n",
      "961000\n",
      "962000\n",
      "963000\n",
      "964000\n",
      "965000\n",
      "966000\n",
      "967000\n",
      "968000\n",
      "969000\n",
      "970000\n",
      "971000\n",
      "972000\n",
      "973000\n",
      "974000\n",
      "975000\n",
      "976000\n",
      "977000\n",
      "978000\n",
      "979000\n",
      "980000\n",
      "981000\n",
      "982000\n",
      "983000\n",
      "984000\n",
      "985000\n",
      "986000\n",
      "987000\n",
      "988000\n",
      "989000\n",
      "990000\n",
      "991000\n",
      "992000\n",
      "993000\n",
      "994000\n",
      "995000\n",
      "996000\n",
      "997000\n",
      "998000\n",
      "999000\n",
      "1000000\n",
      "1001000\n",
      "1002000\n",
      "1003000\n",
      "1004000\n",
      "1005000\n",
      "1006000\n",
      "1007000\n",
      "1008000\n",
      "1009000\n",
      "1010000\n",
      "1011000\n",
      "1012000\n",
      "1013000\n",
      "1014000\n",
      "1015000\n",
      "1016000\n",
      "1017000\n",
      "1018000\n",
      "1019000\n",
      "1020000\n",
      "1021000\n",
      "1022000\n",
      "1023000\n",
      "1024000\n",
      "1025000\n",
      "1026000\n",
      "1027000\n",
      "1028000\n",
      "1029000\n",
      "1030000\n",
      "1031000\n",
      "1032000\n",
      "1033000\n",
      "1034000\n",
      "1035000\n",
      "1036000\n",
      "1037000\n",
      "1038000\n",
      "1039000\n",
      "1040000\n",
      "1041000\n",
      "1042000\n",
      "1043000\n",
      "1044000\n",
      "1045000\n",
      "1046000\n",
      "1047000\n",
      "1048000\n",
      "1049000\n",
      "1050000\n",
      "1051000\n",
      "1052000\n",
      "1053000\n",
      "1054000\n",
      "1055000\n",
      "1056000\n",
      "1057000\n",
      "1058000\n",
      "1059000\n",
      "1060000\n",
      "1061000\n",
      "1062000\n",
      "1063000\n",
      "1064000\n",
      "1065000\n",
      "1066000\n",
      "1067000\n",
      "1068000\n",
      "1069000\n",
      "1070000\n",
      "1071000\n",
      "1072000\n",
      "1073000\n",
      "1074000\n",
      "1075000\n",
      "1076000\n",
      "1077000\n",
      "1078000\n",
      "1079000\n",
      "1080000\n",
      "1081000\n",
      "1082000\n",
      "1083000\n",
      "1084000\n",
      "1085000\n",
      "1086000\n",
      "1087000\n",
      "1088000\n",
      "1089000\n",
      "1090000\n",
      "1091000\n",
      "1092000\n",
      "1093000\n",
      "1094000\n",
      "1095000\n",
      "1096000\n",
      "1097000\n",
      "1098000\n",
      "1099000\n",
      "1100000\n",
      "1101000\n",
      "1102000\n",
      "1103000\n",
      "1104000\n",
      "1105000\n",
      "1106000\n",
      "1107000\n",
      "1108000\n",
      "1109000\n",
      "1110000\n",
      "1111000\n",
      "1112000\n",
      "1113000\n",
      "1114000\n",
      "1115000\n",
      "1116000\n",
      "1117000\n",
      "1118000\n",
      "1119000\n",
      "1120000\n",
      "1121000\n",
      "1122000\n",
      "1123000\n",
      "1124000\n",
      "1125000\n",
      "1126000\n",
      "1127000\n",
      "1128000\n",
      "1129000\n",
      "1130000\n",
      "1131000\n",
      "1132000\n",
      "1133000\n",
      "1134000\n",
      "1135000\n",
      "1136000\n",
      "1137000\n",
      "1138000\n",
      "1139000\n",
      "1140000\n",
      "1141000\n",
      "1142000\n",
      "1143000\n",
      "1144000\n",
      "1145000\n",
      "1146000\n",
      "1147000\n",
      "1148000\n",
      "1149000\n",
      "1150000\n",
      "1151000\n",
      "1152000\n",
      "1153000\n",
      "1154000\n",
      "1155000\n",
      "1156000\n",
      "1157000\n",
      "1158000\n",
      "1159000\n",
      "1160000\n",
      "1161000\n",
      "1162000\n",
      "1163000\n"
     ]
    },
    {
     "name": "stdout",
     "output_type": "stream",
     "text": [
      "1164000\n",
      "1165000\n",
      "1166000\n",
      "1167000\n",
      "1168000\n",
      "1169000\n",
      "1170000\n",
      "1171000\n",
      "1172000\n",
      "1173000\n",
      "1174000\n",
      "1175000\n",
      "1176000\n",
      "1177000\n",
      "1178000\n",
      "1179000\n",
      "1180000\n",
      "1181000\n",
      "1182000\n",
      "1183000\n",
      "1184000\n",
      "1185000\n",
      "1186000\n",
      "1187000\n",
      "1188000\n",
      "1189000\n",
      "1190000\n",
      "1191000\n",
      "1192000\n",
      "1193000\n",
      "1194000\n",
      "1195000\n",
      "1196000\n",
      "1197000\n",
      "1198000\n",
      "1199000\n",
      "1200000\n",
      "1201000\n",
      "1202000\n",
      "1203000\n",
      "1204000\n",
      "1205000\n",
      "1206000\n",
      "1207000\n",
      "1208000\n",
      "1209000\n",
      "1210000\n",
      "1211000\n",
      "1212000\n",
      "1213000\n",
      "1214000\n",
      "1215000\n",
      "1216000\n",
      "1217000\n",
      "1218000\n",
      "1219000\n",
      "1220000\n",
      "1221000\n",
      "1222000\n",
      "1223000\n",
      "1224000\n",
      "1225000\n",
      "1226000\n",
      "1227000\n"
     ]
    }
   ],
   "source": [
    "output_order = []\n",
    "count = 0\n",
    "\n",
    "for i in df_nb_complete.nb_id:\n",
    "    \n",
    "    #track progress\n",
    "    count += 1\n",
    "    if count % 1000 == 0:\n",
    "        print(count)\n",
    "    \n",
    "    execution_order = []\n",
    "    \n",
    "    # open file and get data\n",
    "    with open('../data/notebooks/nb_%s.ipynb' % i, 'r') as nb_file:\n",
    "        try:\n",
    "            data = json.load(nb_file)\n",
    "        except:\n",
    "            print('had trouble loading nb %s' % i)\n",
    "            continue\n",
    "\n",
    "        if isinstance(data, dict): \n",
    "            keys = data.keys()\n",
    "        else:\n",
    "            keys = []\n",
    "            \n",
    "        # get data for each cell, nbformat v 4.x\n",
    "        if 'cells' in keys:\n",
    "            for i, c in enumerate(data['cells']):\n",
    "                if isinstance(c, dict):\n",
    "                    cell_keys = c.keys()\n",
    "                else:\n",
    "                    cell_keys = []\n",
    "                \n",
    "                if 'execution_count' in cell_keys:\n",
    "                    if isinstance(c['execution_count'], int):\n",
    "                        execution_order.append([i, int(c['execution_count'])])\n",
    "\n",
    "        # get data for each cell, nbformat v 2.x / 3.x\n",
    "        elif 'worksheets' in keys:\n",
    "            for j, w in enumerate(data['worksheets']):\n",
    "                if isinstance(w, dict): \n",
    "                    worksheet_keys = w.keys()\n",
    "                else:\n",
    "                    keys = []\n",
    "                if 'cells' in worksheet_keys:\n",
    "                    for k, c in enumerate(w['cells']):\n",
    "                        if isinstance(c, dict):\n",
    "                            cell_keys = c.keys()\n",
    "                        else:\n",
    "                            cell_keys = []\n",
    "                        \n",
    "                        if 'prompt_number' in cell_keys:\n",
    "                            if isinstance(c['prompt_number'], int):\n",
    "                                execution_order.append([i, int(c['prompt_number'])])\n",
    "        output_order.append(execution_order)"
   ]
  },
  {
   "cell_type": "code",
   "execution_count": 20,
   "metadata": {
    "collapsed": true,
    "comet_cell_id": "cb982222313fe"
   },
   "outputs": [],
   "source": [
    "output_order_trimmed = [[c[1] for c in o] for o in output_order]"
   ]
  },
  {
   "cell_type": "code",
   "execution_count": 28,
   "metadata": {
    "collapsed": true,
    "comet_cell_id": "ce117dd8f07e3"
   },
   "outputs": [],
   "source": [
    "outputs_inorder = [all(l[i] <= l[i+1] for i in range(len(l)-1)) for l in output_order_trimmed]"
   ]
  },
  {
   "cell_type": "code",
   "execution_count": 29,
   "metadata": {
    "collapsed": true,
    "comet_cell_id": "98024aeee9929"
   },
   "outputs": [],
   "source": [
    "np_inorder = np.array(outputs_inorder)"
   ]
  },
  {
   "cell_type": "code",
   "execution_count": 33,
   "metadata": {
    "comet_cell_id": "1474624034d89"
   },
   "outputs": [
    {
     "data": {
      "text/plain": [
       "True     753797\n",
       "False    473776\n",
       "Name: inorder, dtype: int64"
      ]
     },
     "execution_count": 33,
     "metadata": {},
     "output_type": "execute_result"
    }
   ],
   "source": [
    "df_order = pd.DataFrame(np_inorder)\n",
    "df_order.columns = ['inorder']\n",
    "df_order['inorder'].value_counts()"
   ]
  },
  {
   "cell_type": "code",
   "execution_count": 41,
   "metadata": {
    "collapsed": true,
    "comet_cell_id": "fe338e0a3c644"
   },
   "outputs": [],
   "source": [
    "empty_order = [len(l) > 0 for l in output_order_trimmed]"
   ]
  },
  {
   "cell_type": "code",
   "execution_count": 42,
   "metadata": {
    "comet_cell_id": "13f0b42e10dec"
   },
   "outputs": [
    {
     "data": {
      "text/plain": [
       "True     1079892\n",
       "False     147681\n",
       "Name: empty, dtype: int64"
      ]
     },
     "execution_count": 42,
     "metadata": {},
     "output_type": "execute_result"
    }
   ],
   "source": [
    "df_empty_order = pd.DataFrame(empty_order)\n",
    "df_empty_order.columns = ['empty']\n",
    "df_empty_order['empty'].value_counts()"
   ]
  },
  {
   "cell_type": "markdown",
   "metadata": {
    "comet_cell_id": "88c18ed6afa8"
   },
   "source": [
    "Let's see what percent of notebooks with output are in order, or out of order."
   ]
  },
  {
   "cell_type": "code",
   "execution_count": 43,
   "metadata": {
    "comet_cell_id": "9c83a2f800924"
   },
   "outputs": [
    {
     "data": {
      "text/plain": [
       "0.5612746459831168"
      ]
     },
     "execution_count": 43,
     "metadata": {},
     "output_type": "execute_result"
    }
   ],
   "source": [
    "(753797 - 147681) / (1227573 - 147681)"
   ]
  },
  {
   "cell_type": "markdown",
   "metadata": {
    "comet_cell_id": "7d45a2a0d00a8"
   },
   "source": [
    "# 8.0 Cells\n",
    "\n",
    "- There are 34,690,935 cells in the notebooks\n",
    "- 22,318,687 of these are code cells (~ 2/3)\n",
    "- about 1/2 of code cells have no output\n",
    "- about 20% have a computed result\n",
    "- about 10% have a graphical result"
   ]
  },
  {
   "cell_type": "code",
   "execution_count": 71,
   "metadata": {
    "comet_cell_id": "c2dfd980dcc89"
   },
   "outputs": [
    {
     "name": "stdout",
     "output_type": "stream",
     "text": [
      "12259551 total markdown + raw cells\n",
      "22226817 total code cells\n",
      "10565406 cells with no output\n",
      "4626347 cells with a stream result\n",
      "5740318 cells with a computed result\n",
      "2731430 cells with a graphical result\n",
      "290464 cells with error\n"
     ]
    }
   ],
   "source": [
    "print('%s total markdown + raw cells' % df_cell_complete[df_cell_complete.cell_type != 'code'].shape[0])\n",
    "print('%s total code cells' % df_cell_complete[df_cell_complete.cell_type == 'code'].shape[0])\n",
    "print('%s cells with no output' % df_cell_complete[(df_cell_complete.cell_type == 'code') & (df_cell_complete.num_error + df_cell_complete.num_stream + df_cell_complete.num_display_data + df_cell_complete.num_execute_result == 0)].shape[0])\n",
    "print('%s cells with a stream result' % df_cell_complete[df_cell_complete.num_stream > 0].shape[0])\n",
    "print('%s cells with a computed result' % df_cell_complete[df_cell_complete.num_execute_result > 0].shape[0])\n",
    "print('%s cells with a graphical result' % df_cell_complete[df_cell_complete.num_display_data > 0].shape[0])\n",
    "print('%s cells with error' % df_cell_complete[df_cell_complete.num_error > 0].shape[0])"
   ]
  },
  {
   "cell_type": "markdown",
   "metadata": {
    "comet_cell_id": "9cd02bc613f82"
   },
   "source": [
    "## 8.1 Displayed Items"
   ]
  },
  {
   "cell_type": "code",
   "execution_count": 73,
   "metadata": {
    "comet_cell_id": "013ea20529b6b"
   },
   "outputs": [
    {
     "name": "stdout",
     "output_type": "stream",
     "text": [
      "0\n",
      "5000000\n",
      "10000000\n",
      "15000000\n",
      "20000000\n"
     ]
    },
    {
     "ename": "KeyboardInterrupt",
     "evalue": "",
     "output_type": "error",
     "traceback": [
      "\u001b[0;31m---------------------------------------------------------------------------\u001b[0m",
      "\u001b[0;31mKeyboardInterrupt\u001b[0m                         Traceback (most recent call last)",
      "\u001b[0;32m<ipython-input-73-8c9e2480b6db>\u001b[0m in \u001b[0;36m<module>\u001b[0;34m()\u001b[0m\n\u001b[1;32m      9\u001b[0m \u001b[0;34m\u001b[0m\u001b[0m\n\u001b[1;32m     10\u001b[0m     \u001b[0mkeys\u001b[0m \u001b[0;34m=\u001b[0m \u001b[0mall_display_keys\u001b[0m\u001b[0;34m.\u001b[0m\u001b[0mkeys\u001b[0m\u001b[0;34m(\u001b[0m\u001b[0;34m)\u001b[0m\u001b[0;34m\u001b[0m\u001b[0m\n\u001b[0;32m---> 11\u001b[0;31m     \u001b[0mvl\u001b[0m \u001b[0;34m=\u001b[0m \u001b[0mast\u001b[0m\u001b[0;34m.\u001b[0m\u001b[0mliteral_eval\u001b[0m\u001b[0;34m(\u001b[0m\u001b[0mv\u001b[0m\u001b[0;34m)\u001b[0m\u001b[0;34m\u001b[0m\u001b[0m\n\u001b[0m\u001b[1;32m     12\u001b[0m     \u001b[0;32mfor\u001b[0m \u001b[0mk\u001b[0m \u001b[0;32min\u001b[0m \u001b[0mvl\u001b[0m\u001b[0;34m:\u001b[0m\u001b[0;34m\u001b[0m\u001b[0m\n\u001b[1;32m     13\u001b[0m         \u001b[0;32mif\u001b[0m \u001b[0mk\u001b[0m \u001b[0;32min\u001b[0m \u001b[0mkeys\u001b[0m\u001b[0;34m:\u001b[0m\u001b[0;34m\u001b[0m\u001b[0m\n",
      "\u001b[0;32m/Users/doug/anaconda/lib/python3.6/ast.py\u001b[0m in \u001b[0;36mliteral_eval\u001b[0;34m(node_or_string)\u001b[0m\n\u001b[1;32m     83\u001b[0m                     \u001b[0;32mreturn\u001b[0m \u001b[0mleft\u001b[0m \u001b[0;34m-\u001b[0m \u001b[0mright\u001b[0m\u001b[0;34m\u001b[0m\u001b[0m\n\u001b[1;32m     84\u001b[0m         \u001b[0;32mraise\u001b[0m \u001b[0mValueError\u001b[0m\u001b[0;34m(\u001b[0m\u001b[0;34m'malformed node or string: '\u001b[0m \u001b[0;34m+\u001b[0m \u001b[0mrepr\u001b[0m\u001b[0;34m(\u001b[0m\u001b[0mnode\u001b[0m\u001b[0;34m)\u001b[0m\u001b[0;34m)\u001b[0m\u001b[0;34m\u001b[0m\u001b[0m\n\u001b[0;32m---> 85\u001b[0;31m     \u001b[0;32mreturn\u001b[0m \u001b[0m_convert\u001b[0m\u001b[0;34m(\u001b[0m\u001b[0mnode_or_string\u001b[0m\u001b[0;34m)\u001b[0m\u001b[0;34m\u001b[0m\u001b[0m\n\u001b[0m\u001b[1;32m     86\u001b[0m \u001b[0;34m\u001b[0m\u001b[0m\n\u001b[1;32m     87\u001b[0m \u001b[0;34m\u001b[0m\u001b[0m\n",
      "\u001b[0;32m/Users/doug/anaconda/lib/python3.6/ast.py\u001b[0m in \u001b[0;36m_convert\u001b[0;34m(node)\u001b[0m\n\u001b[1;32m     52\u001b[0m         \u001b[0;32mif\u001b[0m \u001b[0misinstance\u001b[0m\u001b[0;34m(\u001b[0m\u001b[0mnode\u001b[0m\u001b[0;34m,\u001b[0m \u001b[0mConstant\u001b[0m\u001b[0;34m)\u001b[0m\u001b[0;34m:\u001b[0m\u001b[0;34m\u001b[0m\u001b[0m\n\u001b[1;32m     53\u001b[0m             \u001b[0;32mreturn\u001b[0m \u001b[0mnode\u001b[0m\u001b[0;34m.\u001b[0m\u001b[0mvalue\u001b[0m\u001b[0;34m\u001b[0m\u001b[0m\n\u001b[0;32m---> 54\u001b[0;31m         \u001b[0;32melif\u001b[0m \u001b[0misinstance\u001b[0m\u001b[0;34m(\u001b[0m\u001b[0mnode\u001b[0m\u001b[0;34m,\u001b[0m \u001b[0;34m(\u001b[0m\u001b[0mStr\u001b[0m\u001b[0;34m,\u001b[0m \u001b[0mBytes\u001b[0m\u001b[0;34m)\u001b[0m\u001b[0;34m)\u001b[0m\u001b[0;34m:\u001b[0m\u001b[0;34m\u001b[0m\u001b[0m\n\u001b[0m\u001b[1;32m     55\u001b[0m             \u001b[0;32mreturn\u001b[0m \u001b[0mnode\u001b[0m\u001b[0;34m.\u001b[0m\u001b[0ms\u001b[0m\u001b[0;34m\u001b[0m\u001b[0m\n\u001b[1;32m     56\u001b[0m         \u001b[0;32melif\u001b[0m \u001b[0misinstance\u001b[0m\u001b[0;34m(\u001b[0m\u001b[0mnode\u001b[0m\u001b[0;34m,\u001b[0m \u001b[0mNum\u001b[0m\u001b[0;34m)\u001b[0m\u001b[0;34m:\u001b[0m\u001b[0;34m\u001b[0m\u001b[0m\n",
      "\u001b[0;31mKeyboardInterrupt\u001b[0m: "
     ]
    }
   ],
   "source": [
    "import ast\n",
    "all_display_keys = {}\n",
    "cells_with_display_keys = {}\n",
    "\n",
    "for i, v in df_cell_complete.display_data_keys.iteritems():\n",
    "\n",
    "    if i % 5000000 == 0:\n",
    "        print(i)\n",
    "    \n",
    "    keys = all_display_keys.keys()\n",
    "    vl = ast.literal_eval(v)\n",
    "    for k in vl:\n",
    "        if k in keys:\n",
    "            all_display_keys[k] += 1\n",
    "        else:\n",
    "            all_display_keys[k] = 1\n",
    "    \n",
    "    cell_keys = cells_with_display_keys.keys()\n",
    "    unique_keys = list(set(vl))\n",
    "    for k in unique_keys:\n",
    "        if k in cell_keys:\n",
    "            cells_with_display_keys[k] += 1\n",
    "        else:\n",
    "            cells_with_display_keys[k] = 1    "
   ]
  },
  {
   "cell_type": "markdown",
   "metadata": {
    "comet_cell_id": "a4b0867f0d5ed"
   },
   "source": [
    "### Total number Graphical text and image outputs by type (cells can have more than one of each type, i.e. multiple graphs in one cell)"
   ]
  },
  {
   "cell_type": "code",
   "execution_count": 38,
   "metadata": {
    "collapsed": true,
    "comet_cell_id": "e7da583f708c2"
   },
   "outputs": [],
   "source": [
    "display_keys_list = [[all_display_keys[v], v] for k,v in enumerate(all_display_keys)]\n",
    "display_keys_list.sort(key=lambda x: x[0], reverse=True)\n",
    "display_keys_list = display_keys_list[0:10]\n",
    "\n",
    "dv = [i[0] for i in display_keys_list]\n",
    "dk = [i[1] for i in display_keys_list]"
   ]
  },
  {
   "cell_type": "code",
   "execution_count": 238,
   "metadata": {
    "comet_cell_id": "ab9af9b6c606e"
   },
   "outputs": [
    {
     "data": {
      "image/png": "[encoded data removed]",
      "text/plain": [
       "<matplotlib.figure.Figure at 0x1b13e46d8>"
      ]
     },
     "metadata": {},
     "output_type": "display_data"
    }
   ],
   "source": [
    "plt.figure(figsize=(16,6))\n",
    "plt.bar(range(len(dv)), dv, align='center')\n",
    "plt.xticks(range(len(dv)), dk, rotation='vertical')\n",
    "\n",
    "plt.show()"
   ]
  },
  {
   "cell_type": "markdown",
   "metadata": {
    "comet_cell_id": "4569fcbe0ceee"
   },
   "source": [
    "### Number of Graphical Cells with each type of output"
   ]
  },
  {
   "cell_type": "code",
   "execution_count": 248,
   "metadata": {
    "collapsed": true,
    "comet_cell_id": "59b6b42675da8"
   },
   "outputs": [],
   "source": [
    "cell_display_keys_list = [[cells_with_display_keys[v], v] for k,v in enumerate(cells_with_display_keys)]\n",
    "cell_display_keys_list.sort(key=lambda x: x[0], reverse=True)\n",
    "cell_display_keys_list = cell_display_keys_list[0:10]\n",
    "\n",
    "cdv = [i[0] for i in cell_display_keys_list]\n",
    "cdk = [i[1] for i in cell_display_keys_list]"
   ]
  },
  {
   "cell_type": "code",
   "execution_count": 249,
   "metadata": {
    "comet_cell_id": "fb44f5fddac2a"
   },
   "outputs": [
    {
     "data": {
      "image/png": "[encoded data removed]",
      "text/plain": [
       "<matplotlib.figure.Figure at 0x1ad1f6c50>"
      ]
     },
     "metadata": {},
     "output_type": "display_data"
    }
   ],
   "source": [
    "plt.figure(figsize=(16,6))\n",
    "plt.bar(range(len(cdv)), cdv, align='center')\n",
    "plt.xticks(range(len(cdv)), cdk, rotation='vertical')\n",
    "\n",
    "plt.show()"
   ]
  },
  {
   "cell_type": "markdown",
   "metadata": {
    "comet_cell_id": "b39690e144b4e"
   },
   "source": [
    "# 8.2 Executed Items"
   ]
  },
  {
   "cell_type": "code",
   "execution_count": 246,
   "metadata": {
    "comet_cell_id": "fd9b425e981c"
   },
   "outputs": [
    {
     "name": "stdout",
     "output_type": "stream",
     "text": [
      "0\n",
      "5000000\n",
      "10000000\n",
      "15000000\n",
      "20000000\n",
      "25000000\n",
      "30000000\n"
     ]
    }
   ],
   "source": [
    "all_result_keys = {}\n",
    "cells_with_result_keys = {}\n",
    "\n",
    "for i, v in df_cell_complete.execute_result_keys.iteritems():\n",
    "\n",
    "    if i % 5000000 == 0:\n",
    "        print(i)\n",
    "    \n",
    "    keys = all_result_keys.keys()\n",
    "    vl = ast.literal_eval(v)\n",
    "    for k in vl:\n",
    "        if k in keys:\n",
    "            all_result_keys[k] += 1\n",
    "        else:\n",
    "            all_result_keys[k] = 1\n",
    "            \n",
    "    cell_keys = cells_with_result_keys.keys()\n",
    "    unique_keys = list(set(vl))\n",
    "    for k in unique_keys:\n",
    "        if k in cell_keys:\n",
    "            cells_with_result_keys[k] += 1\n",
    "        else:\n",
    "            cells_with_result_keys[k] = 1 "
   ]
  },
  {
   "cell_type": "markdown",
   "metadata": {
    "comet_cell_id": "d963fc7eb4ac9"
   },
   "source": [
    "### Total number of execution results, by type"
   ]
  },
  {
   "cell_type": "code",
   "execution_count": 41,
   "metadata": {
    "collapsed": true,
    "comet_cell_id": "e8f4ac47834de"
   },
   "outputs": [],
   "source": [
    "result_keys_list = [[all_result_keys[v], v] for k,v in enumerate(all_result_keys)]\n",
    "result_keys_list.sort(key=lambda x: x[0], reverse=True)\n",
    "result_keys_list = result_keys_list[0:10]\n",
    "\n",
    "rv = [i[0] for i in result_keys_list]\n",
    "rk = [i[1] for i in result_keys_list]"
   ]
  },
  {
   "cell_type": "code",
   "execution_count": 239,
   "metadata": {
    "comet_cell_id": "4ebaa9855633e"
   },
   "outputs": [
    {
     "data": {
      "image/png": "[encoded data removed]",
      "text/plain": [
       "<matplotlib.figure.Figure at 0x1b508b198>"
      ]
     },
     "metadata": {},
     "output_type": "display_data"
    }
   ],
   "source": [
    "plt.figure(figsize=(16,6))\n",
    "plt.bar(range(len(rk)), rv, align='center')\n",
    "plt.xticks(range(len(rk)), list(rk),rotation='vertical')\n",
    "\n",
    "plt.show()"
   ]
  },
  {
   "cell_type": "markdown",
   "metadata": {
    "comet_cell_id": "4c8b582bba1b5"
   },
   "source": [
    "### Number of cells with each each executed item type"
   ]
  },
  {
   "cell_type": "code",
   "execution_count": 286,
   "metadata": {
    "collapsed": true,
    "comet_cell_id": "f4d16a51ef18e"
   },
   "outputs": [],
   "source": [
    "cell_result_keys_list = [[cells_with_result_keys[v], v] for k,v in enumerate(cells_with_result_keys)]\n",
    "cell_result_keys_list.sort(key=lambda x: x[0], reverse=True)\n",
    "cell_result_keys_list = cell_result_keys_list[0:10]\n",
    "\n",
    "crv = [i[0] for i in cell_result_keys_list]\n",
    "crk = [i[1] for i in cell_result_keys_list]"
   ]
  },
  {
   "cell_type": "code",
   "execution_count": 287,
   "metadata": {
    "comet_cell_id": "f745059cf80cd"
   },
   "outputs": [
    {
     "data": {
      "image/png": "[encoded data removed]",
      "text/plain": [
       "<matplotlib.figure.Figure at 0x67b728940>"
      ]
     },
     "metadata": {},
     "output_type": "display_data"
    }
   ],
   "source": [
    "plt.figure(figsize=(16,6))\n",
    "plt.bar(range(len(crv)), crv, align='center')\n",
    "plt.xticks(range(len(crv)), crk, rotation='vertical')\n",
    "\n",
    "plt.show()"
   ]
  },
  {
   "cell_type": "markdown",
   "metadata": {
    "comet_cell_id": "3502b8a83fbb2"
   },
   "source": [
    "# 9. Forked Repositories\n",
    "\n",
    "Finally, we looked at if notebooks in repos that had been forked differed systematicaly in those in repos that had note been forked. In the end we dropped this analysis as there are a number of other potetnially confounding factoers such as that a repo may be mostly documeing a software package and not about the notebooks, so any effect we see may be due to the imapct and organization of the software package, note the notebooks themselves. \n",
    "\n",
    "\n",
    "- the vast majority of repos are never forked, only 1/6 have been forked at all"
   ]
  },
  {
   "cell_type": "code",
   "execution_count": 271,
   "metadata": {
    "collapsed": true,
    "comet_cell_id": "c08f77da694f6"
   },
   "outputs": [],
   "source": [
    "df_repo_nb_size = df_nb_complete[['repo_id', 'size']].groupby('repo_id').agg('sum')"
   ]
  },
  {
   "cell_type": "code",
   "execution_count": 275,
   "metadata": {
    "collapsed": true,
    "comet_cell_id": "196129ee8a8b"
   },
   "outputs": [],
   "source": [
    "df_repo_nb_size.columns = ['nb_size']\n",
    "df_repo_nb_size['id'] = df_repo_nb_size.index"
   ]
  },
  {
   "cell_type": "code",
   "execution_count": 276,
   "metadata": {
    "collapsed": true,
    "comet_cell_id": "3be6543addbc2"
   },
   "outputs": [],
   "source": [
    "df_repo_complete = df_repo_complete.merge(\n",
    "    df_repo_nb_size,\n",
    "    how = 'left',\n",
    "    on = 'id'\n",
    ")"
   ]
  },
  {
   "cell_type": "markdown",
   "metadata": {
    "comet_cell_id": "b87666f44f17"
   },
   "source": [
    "## 9.1 Number of Forked Repositories and Notebooks"
   ]
  },
  {
   "cell_type": "code",
   "execution_count": 254,
   "metadata": {
    "comet_cell_id": "e28405e0e3beb"
   },
   "outputs": [
    {
     "data": {
      "text/plain": [
       "<matplotlib.text.Text at 0x1aeccc518>"
      ]
     },
     "execution_count": 254,
     "metadata": {},
     "output_type": "execute_result"
    },
    {
     "data": {
      "image/png": "[encoded data removed]",
      "text/plain": [
       "<matplotlib.figure.Figure at 0x1aecb1860>"
      ]
     },
     "metadata": {},
     "output_type": "display_data"
    }
   ],
   "source": [
    "plt.figure(figsize=(16,6))\n",
    "ax = sns.distplot(df_repo_complete.forks_count, kde=False, bins = np.append(0, np.logspace(0,2,40)))\n",
    "ax.set_xscale('log')\n",
    "ax.set_xlabel('Forks per repository')\n",
    "ax.set_xlabel('# Repositories')"
   ]
  },
  {
   "cell_type": "code",
   "execution_count": 355,
   "metadata": {
    "comet_cell_id": "fee83f82b3d46"
   },
   "outputs": [
    {
     "name": "stdout",
     "output_type": "stream",
     "text": [
      "159718 repositoires have not been forked\n",
      "934165 notbooks have not been forked\n"
     ]
    }
   ],
   "source": [
    "unforked_nbs = df_nb_complete[~df_nb_complete.repo_id.isin(forked_repos)]\n",
    "print('%s repositoires have not been forked' % df_repo_complete[df_repo_complete.forks_count == 0].shape[0])\n",
    "print('%s notbooks have not been forked' % unforked_nbs.shape[0])"
   ]
  },
  {
   "cell_type": "code",
   "execution_count": 357,
   "metadata": {
    "comet_cell_id": "98775ee324091"
   },
   "outputs": [
    {
     "name": "stdout",
     "output_type": "stream",
     "text": [
      "33308 repositoires have been forked\n",
      "302429 notbooks have been forked\n"
     ]
    }
   ],
   "source": [
    "forked_repos = df_repo_complete[df_repo_complete.forks_count > 0]['id']\n",
    "forked_nbs = df_nb_complete[df_nb_complete.repo_id.isin(forked_repos)]\n",
    "print('%s repositoires have been forked' % df_repo_complete[df_repo_complete.forks_count > 0].shape[0])\n",
    "print('%s notbooks have been forked' % forked_nbs.shape[0])"
   ]
  },
  {
   "cell_type": "code",
   "execution_count": 352,
   "metadata": {
    "comet_cell_id": "27e4f3ec482de"
   },
   "outputs": [
    {
     "name": "stdout",
     "output_type": "stream",
     "text": [
      "69572 notbooks have been forked 10 or more time\n"
     ]
    }
   ],
   "source": [
    "forked_repos_10 = df_repo_complete[df_repo_complete.forks_count > 9]['id']\n",
    "forked_nbs_10 = df_nb_complete[df_nb_complete.repo_id.isin(forked_repos_10)]\n",
    "forked_df_cell_counts_10 = forked_df_cell_counts[forked_df_cell_counts.index.isin(forked_nbs_10.nb_id)]\n",
    "print('%s repositoires have been forked 10 or more times' % df_repo_complete[df_repo_complete.forks_count > 9].shape[0])\n",
    "print('%s notbooks have been forked 10 or more time' % forked_nbs_10.shape[0])"
   ]
  },
  {
   "cell_type": "code",
   "execution_count": 358,
   "metadata": {
    "comet_cell_id": "4355c62501c5b"
   },
   "outputs": [
    {
     "name": "stdout",
     "output_type": "stream",
     "text": [
      "536 repositoires have been forked 100 or more times\n",
      "10666 notbooks have been forked 10 or more time\n"
     ]
    }
   ],
   "source": [
    "forked_repos_100 = df_repo_complete[df_repo_complete.forks_count > 99]['id']\n",
    "forked_nbs_100 = df_nb_complete[df_nb_complete.repo_id.isin(forked_repos_100)]\n",
    "forked_df_cell_counts_100 = forked_df_cell_counts[forked_df_cell_counts.index.isin(forked_nbs_100.nb_id)]\n",
    "print('%s repositoires have been forked 100 or more times' % df_repo_complete[df_repo_complete.forks_count > 99].shape[0])\n",
    "print('%s notbooks have been forked 10 or more time' % forked_nbs_100.shape[0])"
   ]
  },
  {
   "cell_type": "markdown",
   "metadata": {
    "comet_cell_id": "e97c485d5c2d"
   },
   "source": [
    "## 9.2 Comparing Cells in Forked and UnForked Repositiories"
   ]
  },
  {
   "cell_type": "code",
   "execution_count": 297,
   "metadata": {
    "collapsed": true,
    "comet_cell_id": "5a203fcc35f05"
   },
   "outputs": [],
   "source": [
    "forked_cells = df_cell_complete[df_cell_complete.nb_id.isin(forked_nbs.nb_id)]\n",
    "\n",
    "forked_num_cells = forked_cells[['cell_index', 'nb_id']].groupby('nb_id').count()\n",
    "forked_num_cells.columns= ['num_cells']\n",
    "\n",
    "forked_num_markdown = forked_cells[['cell_type', 'nb_id']][forked_cells.cell_type != 'code'].groupby('nb_id').count()\n",
    "forked_num_markdown.columns = ['num_markdown_cells']\n",
    "\n",
    "forked_num_code = forked_cells[['cell_type', 'nb_id']][forked_cells.cell_type == 'code'].groupby('nb_id').count()\n",
    "forked_num_code.columns = ['num_code_cells']\n",
    "\n",
    "forked_total_words = forked_cells[['num_words', 'nb_id']].groupby('nb_id')['num_words'].sum()\n",
    "forked_total_words = pd.DataFrame(forked_total_words)\n",
    "\n",
    "forked_total_links = forked_cells[['num_links', 'nb_id']].groupby('nb_id')['num_links'].sum()\n",
    "forked_total_links = pd.DataFrame(forked_total_links)\n",
    "\n",
    "forked_total_headers = forked_cells[['num_headers', 'nb_id']].groupby('nb_id')['num_headers'].sum()\n",
    "forked_total_headers = pd.DataFrame(forked_total_headers)\n",
    "\n",
    "forked_total_imports = forked_cells[['num_imports', 'nb_id']].groupby('nb_id')['num_imports'].sum()\n",
    "forked_total_imports = pd.DataFrame(forked_total_imports)\n",
    "\n",
    "forked_total_loc = forked_cells[['lines_of_code', 'nb_id']].groupby('nb_id')['lines_of_code'].sum()\n",
    "forked_total_loc = pd.DataFrame(forked_total_loc)"
   ]
  },
  {
   "cell_type": "code",
   "execution_count": 298,
   "metadata": {
    "comet_cell_id": "4fe3d132fe367"
   },
   "outputs": [
    {
     "data": {
      "text/html": [
       "<div>\n",
       "<style>\n",
       "    .dataframe thead tr:only-child th {\n",
       "        text-align: right;\n",
       "    }\n",
       "\n",
       "    .dataframe thead th {\n",
       "        text-align: left;\n",
       "    }\n",
       "\n",
       "    .dataframe tbody tr th {\n",
       "        vertical-align: top;\n",
       "    }\n",
       "</style>\n",
       "<table border=\"1\" class=\"dataframe\">\n",
       "  <thead>\n",
       "    <tr style=\"text-align: right;\">\n",
       "      <th></th>\n",
       "      <th>num_cells</th>\n",
       "      <th>num_markdown_cells</th>\n",
       "      <th>num_code_cells</th>\n",
       "      <th>num_words</th>\n",
       "      <th>num_links</th>\n",
       "      <th>num_headers</th>\n",
       "      <th>num_imports</th>\n",
       "      <th>lines_of_code</th>\n",
       "    </tr>\n",
       "    <tr>\n",
       "      <th>nb_id</th>\n",
       "      <th></th>\n",
       "      <th></th>\n",
       "      <th></th>\n",
       "      <th></th>\n",
       "      <th></th>\n",
       "      <th></th>\n",
       "      <th></th>\n",
       "      <th></th>\n",
       "    </tr>\n",
       "  </thead>\n",
       "  <tbody>\n",
       "    <tr>\n",
       "      <th>593</th>\n",
       "      <td>94</td>\n",
       "      <td>0.0</td>\n",
       "      <td>94.0</td>\n",
       "      <td>0.0</td>\n",
       "      <td>0</td>\n",
       "      <td>0</td>\n",
       "      <td>11</td>\n",
       "      <td>751.0</td>\n",
       "    </tr>\n",
       "    <tr>\n",
       "      <th>594</th>\n",
       "      <td>45</td>\n",
       "      <td>2.0</td>\n",
       "      <td>43.0</td>\n",
       "      <td>171.0</td>\n",
       "      <td>1</td>\n",
       "      <td>7</td>\n",
       "      <td>1</td>\n",
       "      <td>44.0</td>\n",
       "    </tr>\n",
       "    <tr>\n",
       "      <th>605</th>\n",
       "      <td>12</td>\n",
       "      <td>7.0</td>\n",
       "      <td>5.0</td>\n",
       "      <td>562.0</td>\n",
       "      <td>0</td>\n",
       "      <td>2</td>\n",
       "      <td>8</td>\n",
       "      <td>98.0</td>\n",
       "    </tr>\n",
       "    <tr>\n",
       "      <th>606</th>\n",
       "      <td>12</td>\n",
       "      <td>7.0</td>\n",
       "      <td>5.0</td>\n",
       "      <td>562.0</td>\n",
       "      <td>0</td>\n",
       "      <td>2</td>\n",
       "      <td>8</td>\n",
       "      <td>98.0</td>\n",
       "    </tr>\n",
       "    <tr>\n",
       "      <th>610</th>\n",
       "      <td>11</td>\n",
       "      <td>1.0</td>\n",
       "      <td>10.0</td>\n",
       "      <td>11.0</td>\n",
       "      <td>0</td>\n",
       "      <td>0</td>\n",
       "      <td>10</td>\n",
       "      <td>215.0</td>\n",
       "    </tr>\n",
       "  </tbody>\n",
       "</table>\n",
       "</div>"
      ],
      "text/plain": [
       "       num_cells  num_markdown_cells  num_code_cells  num_words  num_links  \\\n",
       "nb_id                                                                        \n",
       "593           94                 0.0            94.0        0.0          0   \n",
       "594           45                 2.0            43.0      171.0          1   \n",
       "605           12                 7.0             5.0      562.0          0   \n",
       "606           12                 7.0             5.0      562.0          0   \n",
       "610           11                 1.0            10.0       11.0          0   \n",
       "\n",
       "       num_headers  num_imports  lines_of_code  \n",
       "nb_id                                           \n",
       "593              0           11          751.0  \n",
       "594              7            1           44.0  \n",
       "605              2            8           98.0  \n",
       "606              2            8           98.0  \n",
       "610              0           10          215.0  "
      ]
     },
     "execution_count": 298,
     "metadata": {},
     "output_type": "execute_result"
    }
   ],
   "source": [
    "forked_df_cell_counts = None\n",
    "forked_df_cell_counts = forked_num_cells.merge(forked_num_markdown, how='outer', left_index=True, right_index=True)\n",
    "forked_df_cell_counts = forked_df_cell_counts.merge(forked_num_code, how='outer', left_index=True, right_index=True)\n",
    "forked_df_cell_counts = forked_df_cell_counts.merge(forked_total_words, how='outer', left_index=True, right_index=True)\n",
    "forked_df_cell_counts = forked_df_cell_counts.merge(forked_total_links, how='outer', left_index=True, right_index=True)\n",
    "forked_df_cell_counts = forked_df_cell_counts.merge(forked_total_headers, how='outer', left_index=True, right_index=True)\n",
    "forked_df_cell_counts = forked_df_cell_counts.merge(forked_total_imports, how='outer', left_index=True, right_index=True)\n",
    "forked_df_cell_counts = forked_df_cell_counts.merge(forked_total_loc, how='outer', left_index=True, right_index=True)\n",
    "forked_df_cell_counts = forked_df_cell_counts.fillna(0)\n",
    "forked_df_cell_counts.head()"
   ]
  },
  {
   "cell_type": "code",
   "execution_count": 299,
   "metadata": {
    "collapsed": true,
    "comet_cell_id": "2a7892bba6ed4"
   },
   "outputs": [],
   "source": [
    "unforked_cells = df_cell_complete[df_cell_complete.nb_id.isin(unforked_nbs.nb_id)]\n",
    "\n",
    "unforked_num_cells = unforked_cells[['cell_index', 'nb_id']].groupby('nb_id').count()\n",
    "unforked_num_cells.columns= ['num_cells']\n",
    "\n",
    "unforked_num_markdown = unforked_cells[['cell_type', 'nb_id']][unforked_cells.cell_type != 'code'].groupby('nb_id').count()\n",
    "unforked_num_markdown.columns = ['num_markdown_cells']\n",
    "\n",
    "unforked_num_code = unforked_cells[['cell_type', 'nb_id']][unforked_cells.cell_type == 'code'].groupby('nb_id').count()\n",
    "unforked_num_code.columns = ['num_code_cells']\n",
    "\n",
    "unforked_total_words = unforked_cells[['num_words', 'nb_id']].groupby('nb_id')['num_words'].sum()\n",
    "unforked_total_words = pd.DataFrame(unforked_total_words)\n",
    "\n",
    "unforked_total_links = unforked_cells[['num_links', 'nb_id']].groupby('nb_id')['num_links'].sum()\n",
    "unforked_total_links = pd.DataFrame(unforked_total_links)\n",
    "\n",
    "unforked_total_headers = unforked_cells[['num_headers', 'nb_id']].groupby('nb_id')['num_headers'].sum()\n",
    "unforked_total_headers = pd.DataFrame(unforked_total_headers)\n",
    "\n",
    "unforked_total_imports = unforked_cells[['num_imports', 'nb_id']].groupby('nb_id')['num_imports'].sum()\n",
    "unforked_total_imports = pd.DataFrame(unforked_total_imports)\n",
    "\n",
    "unforked_total_loc = unforked_cells[['lines_of_code', 'nb_id']].groupby('nb_id')['lines_of_code'].sum()\n",
    "unforked_total_loc = pd.DataFrame(unforked_total_loc)"
   ]
  },
  {
   "cell_type": "code",
   "execution_count": 301,
   "metadata": {
    "comet_cell_id": "2f549a4cd299d"
   },
   "outputs": [
    {
     "data": {
      "text/html": [
       "<div>\n",
       "<style>\n",
       "    .dataframe thead tr:only-child th {\n",
       "        text-align: right;\n",
       "    }\n",
       "\n",
       "    .dataframe thead th {\n",
       "        text-align: left;\n",
       "    }\n",
       "\n",
       "    .dataframe tbody tr th {\n",
       "        vertical-align: top;\n",
       "    }\n",
       "</style>\n",
       "<table border=\"1\" class=\"dataframe\">\n",
       "  <thead>\n",
       "    <tr style=\"text-align: right;\">\n",
       "      <th></th>\n",
       "      <th>num_cells</th>\n",
       "      <th>num_markdown_cells</th>\n",
       "      <th>num_code_cells</th>\n",
       "      <th>num_words</th>\n",
       "      <th>num_links</th>\n",
       "      <th>num_headers</th>\n",
       "      <th>num_imports</th>\n",
       "      <th>lines_of_code</th>\n",
       "    </tr>\n",
       "    <tr>\n",
       "      <th>nb_id</th>\n",
       "      <th></th>\n",
       "      <th></th>\n",
       "      <th></th>\n",
       "      <th></th>\n",
       "      <th></th>\n",
       "      <th></th>\n",
       "      <th></th>\n",
       "      <th></th>\n",
       "    </tr>\n",
       "  </thead>\n",
       "  <tbody>\n",
       "    <tr>\n",
       "      <th>585</th>\n",
       "      <td>34</td>\n",
       "      <td>19.0</td>\n",
       "      <td>15.0</td>\n",
       "      <td>1687.0</td>\n",
       "      <td>1</td>\n",
       "      <td>18</td>\n",
       "      <td>4</td>\n",
       "      <td>597.0</td>\n",
       "    </tr>\n",
       "    <tr>\n",
       "      <th>586</th>\n",
       "      <td>23</td>\n",
       "      <td>6.0</td>\n",
       "      <td>17.0</td>\n",
       "      <td>355.0</td>\n",
       "      <td>2</td>\n",
       "      <td>3</td>\n",
       "      <td>3</td>\n",
       "      <td>215.0</td>\n",
       "    </tr>\n",
       "    <tr>\n",
       "      <th>587</th>\n",
       "      <td>42</td>\n",
       "      <td>2.0</td>\n",
       "      <td>40.0</td>\n",
       "      <td>2.0</td>\n",
       "      <td>0</td>\n",
       "      <td>0</td>\n",
       "      <td>23</td>\n",
       "      <td>346.0</td>\n",
       "    </tr>\n",
       "    <tr>\n",
       "      <th>588</th>\n",
       "      <td>10</td>\n",
       "      <td>0.0</td>\n",
       "      <td>10.0</td>\n",
       "      <td>0.0</td>\n",
       "      <td>0</td>\n",
       "      <td>0</td>\n",
       "      <td>16</td>\n",
       "      <td>355.0</td>\n",
       "    </tr>\n",
       "    <tr>\n",
       "      <th>589</th>\n",
       "      <td>30</td>\n",
       "      <td>10.0</td>\n",
       "      <td>20.0</td>\n",
       "      <td>337.0</td>\n",
       "      <td>0</td>\n",
       "      <td>9</td>\n",
       "      <td>7</td>\n",
       "      <td>78.0</td>\n",
       "    </tr>\n",
       "  </tbody>\n",
       "</table>\n",
       "</div>"
      ],
      "text/plain": [
       "       num_cells  num_markdown_cells  num_code_cells  num_words  num_links  \\\n",
       "nb_id                                                                        \n",
       "585           34                19.0            15.0     1687.0          1   \n",
       "586           23                 6.0            17.0      355.0          2   \n",
       "587           42                 2.0            40.0        2.0          0   \n",
       "588           10                 0.0            10.0        0.0          0   \n",
       "589           30                10.0            20.0      337.0          0   \n",
       "\n",
       "       num_headers  num_imports  lines_of_code  \n",
       "nb_id                                           \n",
       "585             18            4          597.0  \n",
       "586              3            3          215.0  \n",
       "587              0           23          346.0  \n",
       "588              0           16          355.0  \n",
       "589              9            7           78.0  "
      ]
     },
     "execution_count": 301,
     "metadata": {},
     "output_type": "execute_result"
    }
   ],
   "source": [
    "unforked_df_cell_counts = None\n",
    "unforked_df_cell_counts = unforked_num_cells.merge(unforked_num_markdown, how='outer', left_index=True, right_index=True)\n",
    "unforked_df_cell_counts = unforked_df_cell_counts.merge(unforked_num_code, how='outer', left_index=True, right_index=True)\n",
    "unforked_df_cell_counts = unforked_df_cell_counts.merge(unforked_total_words, how='outer', left_index=True, right_index=True)\n",
    "unforked_df_cell_counts = unforked_df_cell_counts.merge(unforked_total_links, how='outer', left_index=True, right_index=True)\n",
    "unforked_df_cell_counts = unforked_df_cell_counts.merge(unforked_total_headers, how='outer', left_index=True, right_index=True)\n",
    "unforked_df_cell_counts = unforked_df_cell_counts.merge(unforked_total_imports, how='outer', left_index=True, right_index=True)\n",
    "unforked_df_cell_counts = unforked_df_cell_counts.merge(unforked_total_loc, how='outer', left_index=True, right_index=True)\n",
    "unforked_df_cell_counts = unforked_df_cell_counts.fillna(0)\n",
    "unforked_df_cell_counts.head()"
   ]
  },
  {
   "cell_type": "markdown",
   "metadata": {
    "comet_cell_id": "951026aab882"
   },
   "source": [
    "### All Cells"
   ]
  },
  {
   "cell_type": "code",
   "execution_count": 333,
   "metadata": {
    "comet_cell_id": "d7f790e455844"
   },
   "outputs": [
    {
     "name": "stdout",
     "output_type": "stream",
     "text": [
      "Median 18.0 cells per unforked notebook\n",
      "Median 19.0 cells per forked notebook\n",
      "Median 19.0 cells per notebook forked 10+ times\n",
      "Median 14.0 cells per notebook forked 100+ times\n",
      "Ttest_indResult(statistic=-26.535302930337977, pvalue=4.1968539941436253e-155)\n"
     ]
    },
    {
     "data": {
      "image/png": "[encoded data removed]",
      "text/plain": [
       "<matplotlib.figure.Figure at 0x15690a048>"
      ]
     },
     "metadata": {},
     "output_type": "display_data"
    }
   ],
   "source": [
    "fig, ax = plt.subplots(figsize=(16,6))\n",
    "\n",
    "sns.distplot(unforked_df_cell_counts.num_cells, kde=False, ax=ax, bins = np.append(0, np.logspace(0,3,30)))\n",
    "sns.distplot(forked_df_cell_counts.num_cells, kde=False, ax=ax, bins = np.append(0, np.logspace(0,3,30)))\n",
    "\n",
    "ax.set_xscale('log')\n",
    "ax.set_xlabel('Cells per notebook')\n",
    "\n",
    "print('Median %s cells per unforked notebook' % unforked_df_cell_counts.num_cells.median())\n",
    "print('Median %s cells per forked notebook' % forked_df_cell_counts.num_cells.median())\n",
    "print('Median %s cells per notebook forked 10+ times' % forked_df_cell_counts_10.num_cells.median())\n",
    "print('Median %s cells per notebook forked 100+ times' % forked_df_cell_counts_100.num_cells.median())\n",
    "print(ttest_ind(unforked_df_cell_counts.num_cells, forked_df_cell_counts.num_cells))"
   ]
  },
  {
   "cell_type": "markdown",
   "metadata": {
    "comet_cell_id": "d04198aa22f4b"
   },
   "source": [
    "### Markdown Cells"
   ]
  },
  {
   "cell_type": "code",
   "execution_count": 338,
   "metadata": {
    "comet_cell_id": "3fbb8b0ad0419"
   },
   "outputs": [
    {
     "name": "stdout",
     "output_type": "stream",
     "text": [
      "Median 4.0 markdown cells per unforked notebook\n",
      "Median 6.0 markdown cells per forked notebook\n",
      "Median 8.0 markdown cells per notebook forked 10+ times\n",
      "Median 6.0 markdown cells per notebook forked 100+ times\n",
      "Ttest_indResult(statistic=-53.818407447588456, pvalue=0.0)\n",
      "\n",
      "Removing Notebooks with no markdown at all\n",
      "Median 8.0 markdown cells per unforked notebook\n",
      "Median 9.0 markdown cells per forked notebook\n",
      "Median 9.0 markdown cells per notebook forked 10+ times\n",
      "Median 8.0 markdown cells per notebook forked 100+ times\n",
      "Ttest_indResult(statistic=-27.868913992921733, pvalue=7.5257342147593739e-171)\n"
     ]
    },
    {
     "data": {
      "image/png": "[encoded data removed]",
      "text/plain": [
       "<matplotlib.figure.Figure at 0x184aeb208>"
      ]
     },
     "metadata": {},
     "output_type": "display_data"
    }
   ],
   "source": [
    "fig, ax = plt.subplots(figsize=(16,6))\n",
    "\n",
    "sns.distplot(unforked_df_cell_counts.num_markdown_cells, kde=False, ax=ax, bins = np.append(0, np.logspace(0,3,30)))\n",
    "sns.distplot(forked_df_cell_counts.num_markdown_cells, kde=False, ax=ax, bins = np.append(0, np.logspace(0,3,30)))\n",
    "\n",
    "ax.set_xscale('log')\n",
    "ax.set_xlabel('Markdown Cells per notebook')\n",
    "\n",
    "print('Median %s markdown cells per unforked notebook' % unforked_df_cell_counts.num_markdown_cells.median())\n",
    "print('Median %s markdown cells per forked notebook' % forked_df_cell_counts.num_markdown_cells.median())\n",
    "print('Median %s markdown cells per notebook forked 10+ times' % forked_df_cell_counts_10.num_markdown_cells.median())\n",
    "print('Median %s markdown cells per notebook forked 100+ times' % forked_df_cell_counts_100.num_markdown_cells.median())\n",
    "print(ttest_ind(unforked_df_cell_counts.num_markdown_cells, forked_df_cell_counts.num_markdown_cells))\n",
    "print('')\n",
    "print('Removing Notebooks with no markdown at all')\n",
    "print('Median %s markdown cells per unforked notebook' % unforked_df_cell_counts[unforked_df_cell_counts.num_markdown_cells > 0].num_markdown_cells.median())\n",
    "print('Median %s markdown cells per forked notebook' % forked_df_cell_counts[forked_df_cell_counts.num_markdown_cells > 0].num_markdown_cells.median())\n",
    "print('Median %s markdown cells per notebook forked 10+ times' % forked_df_cell_counts_10[forked_df_cell_counts_10.num_markdown_cells > 0].num_markdown_cells.median())\n",
    "print('Median %s markdown cells per notebook forked 100+ times' % forked_df_cell_counts_100[forked_df_cell_counts_100.num_markdown_cells > 0].num_markdown_cells.median())\n",
    "print(ttest_ind(unforked_df_cell_counts[unforked_df_cell_counts.num_markdown_cells > 0].num_markdown_cells, forked_df_cell_counts[forked_df_cell_counts.num_markdown_cells > 0].num_markdown_cells))\n"
   ]
  },
  {
   "cell_type": "markdown",
   "metadata": {
    "comet_cell_id": "3febe42ee8631"
   },
   "source": [
    "### Code Cells"
   ]
  },
  {
   "cell_type": "code",
   "execution_count": 339,
   "metadata": {
    "comet_cell_id": "d32d6bb334823"
   },
   "outputs": [
    {
     "name": "stdout",
     "output_type": "stream",
     "text": [
      "Median 12.0 code cells per unforked notebook\n",
      "Median 12.0 code cells per forked notebook\n",
      "Ttest_indResult(statistic=-0.11391301666319649, pvalue=0.90930676542445754)\n",
      "\n",
      "Removing Notebooks with no markdown at all\n",
      "Median 12.0 code cells per unforked notebook\n",
      "Median 12.0 code cells per forked notebook\n",
      "Median 11.0 code cells per notebook forked 10+ times\n",
      "Median 8.0 code cells per notebook forked 100+ times\n",
      "Ttest_indResult(statistic=-2.372525662365879, pvalue=0.0176670913161549)\n"
     ]
    },
    {
     "data": {
      "image/png": "[encoded data removed]",
      "text/plain": [
       "<matplotlib.figure.Figure at 0x150a7f7b8>"
      ]
     },
     "metadata": {},
     "output_type": "display_data"
    }
   ],
   "source": [
    "fig, ax = plt.subplots(figsize=(16,6))\n",
    "\n",
    "sns.distplot(unforked_df_cell_counts.num_code_cells, kde=False, ax=ax, bins = np.append(0, np.logspace(0,3,30)))\n",
    "sns.distplot(forked_df_cell_counts.num_code_cells, kde=False, ax=ax, bins = np.append(0, np.logspace(0,3,30)))\n",
    "\n",
    "ax.set_xscale('log')\n",
    "ax.set_xlabel('Code Cells per notebook')\n",
    "\n",
    "print('Median %s code cells per unforked notebook' % unforked_df_cell_counts.num_code_cells.median())\n",
    "print('Median %s code cells per forked notebook' % forked_df_cell_counts.num_code_cells.median())\n",
    "print(ttest_ind(unforked_df_cell_counts.num_code_cells, forked_df_cell_counts.num_code_cells))\n",
    "print('')\n",
    "print('Removing Notebooks with no markdown at all')\n",
    "print('Median %s code cells per unforked notebook' % unforked_df_cell_counts[unforked_df_cell_counts.num_code_cells > 0].num_code_cells.median())\n",
    "print('Median %s code cells per forked notebook' % forked_df_cell_counts[forked_df_cell_counts.num_code_cells > 0].num_code_cells.median())\n",
    "print('Median %s code cells per notebook forked 10+ times' % forked_df_cell_counts_10[forked_df_cell_counts_10.num_code_cells > 0].num_code_cells.median())\n",
    "print('Median %s code cells per notebook forked 100+ times' % forked_df_cell_counts_100[forked_df_cell_counts_100.num_code_cells > 0].num_code_cells.median())\n",
    "print(ttest_ind(unforked_df_cell_counts[unforked_df_cell_counts.num_code_cells > 0].num_code_cells, forked_df_cell_counts[forked_df_cell_counts.num_code_cells > 0].num_code_cells))\n"
   ]
  },
  {
   "cell_type": "markdown",
   "metadata": {
    "comet_cell_id": "37309397d558e"
   },
   "source": [
    "### Words per Notebook"
   ]
  },
  {
   "cell_type": "code",
   "execution_count": 341,
   "metadata": {
    "comet_cell_id": "bf0b03ca85888"
   },
   "outputs": [
    {
     "name": "stdout",
     "output_type": "stream",
     "text": [
      "Median 67.0 words per unforked notebook\n",
      "Median 98.0 words per forked notebook\n",
      "Median 115.0 words per notebook forked 10+ times\n",
      "Median 115.0 words per notebook forked 100+ times\n",
      "Ttest_indResult(statistic=-17.296145605631644, pvalue=5.121745976545979e-67)\n",
      "\n",
      "Removing Notebooks with no markdown at all\n",
      "Median 218.0 words per unforked notebook\n",
      "Median 218.0 words per forked notebook\n",
      "Median 173.0 words per notebook forked 10+ times\n",
      "Median 167.0 words per notebook forked 100+ times\n",
      "Ttest_indResult(statistic=5.073083427080717, pvalue=3.91499115775571e-07)\n"
     ]
    },
    {
     "data": {
      "image/png": "[encoded data removed]",
      "text/plain": [
       "<matplotlib.figure.Figure at 0x1568b3a20>"
      ]
     },
     "metadata": {},
     "output_type": "display_data"
    }
   ],
   "source": [
    "fig, ax = plt.subplots(figsize=(16,6))\n",
    "\n",
    "sns.distplot(unforked_df_cell_counts.num_words, kde=False, ax=ax, bins = np.append(0, np.logspace(0,4,40)))\n",
    "sns.distplot(forked_df_cell_counts.num_words, kde=False, ax=ax, bins = np.append(0, np.logspace(0,4,40)))\n",
    "\n",
    "ax.set_xscale('log')\n",
    "ax.set_xlabel('Markdown Words per notebook')\n",
    "\n",
    "print('Median %s words per unforked notebook' % unforked_df_cell_counts.num_words.median())\n",
    "print('Median %s words per forked notebook' % forked_df_cell_counts.num_words.median())\n",
    "print('Median %s words per notebook forked 10+ times' % forked_df_cell_counts_10.num_words.median())\n",
    "print('Median %s words per notebook forked 100+ times' % forked_df_cell_counts_100.num_words.median())\n",
    "print(ttest_ind(unforked_df_cell_counts.num_words, forked_df_cell_counts.num_words))\n",
    "print('')\n",
    "print('Removing Notebooks with no markdown at all')\n",
    "print('Median %s words per unforked notebook' % unforked_df_cell_counts[unforked_df_cell_counts.num_words > 0].num_words.median())\n",
    "print('Median %s words per forked notebook' % forked_df_cell_counts.num_words[forked_df_cell_counts.num_words > 0].median())\n",
    "print('Median %s words per notebook forked 10+ times' % forked_df_cell_counts_10.num_words[forked_df_cell_counts_10.num_words > 0].median())\n",
    "print('Median %s words per notebook forked 100+ times' % forked_df_cell_counts_100.num_words[forked_df_cell_counts_100.num_words > 0].median())\n",
    "print(ttest_ind(unforked_df_cell_counts[unforked_df_cell_counts.num_words > 0].num_words, forked_df_cell_counts[forked_df_cell_counts.num_words > 0].num_words))\n"
   ]
  },
  {
   "cell_type": "markdown",
   "metadata": {
    "comet_cell_id": "0ceb8c7c3bd3"
   },
   "source": [
    "### Code per Cell"
   ]
  },
  {
   "cell_type": "code",
   "execution_count": 342,
   "metadata": {
    "comet_cell_id": "8575281adf29b"
   },
   "outputs": [
    {
     "name": "stdout",
     "output_type": "stream",
     "text": [
      "Median 80.0 lines of code per unforked notebook\n",
      "Median 78.0 lines of code per forked notebook\n",
      "Median 75.0 lines of code per notebook forked 10+ times\n",
      "Median 48.0 lines of code per notebook forked 100+ times\n",
      "Ttest_indResult(statistic=2.6575523009998139, pvalue=0.0078711387960686326)\n",
      "\n",
      "Removing Notebooks with no code at all\n",
      "Median 85.0 lines of code per unforked notebook\n",
      "Median 84.0 lines of code per forked notebook\n",
      "Median 81.0 lines of code per notebook forked 10+ times\n",
      "Median 51.0 lines of code per notebook forked 100+ times\n",
      "Ttest_indResult(statistic=0.95009904966224901, pvalue=0.342062120529535)\n"
     ]
    },
    {
     "data": {
      "image/png": "[encoded data removed]",
      "text/plain": [
       "<matplotlib.figure.Figure at 0x179493d68>"
      ]
     },
     "metadata": {},
     "output_type": "display_data"
    }
   ],
   "source": [
    "fig, ax = plt.subplots(figsize=(16,6))\n",
    "\n",
    "sns.distplot(unforked_df_cell_counts.lines_of_code, kde=False, ax=ax, bins = np.append(0, np.logspace(0,4,40)))\n",
    "sns.distplot(forked_df_cell_counts.lines_of_code, kde=False, ax=ax, bins = np.append(0, np.logspace(0,4,40)))\n",
    "\n",
    "ax.set_xscale('log')\n",
    "ax.set_xlabel('Lines of Code per notebook')\n",
    "\n",
    "print('Median %s lines of code per unforked notebook' % unforked_df_cell_counts.lines_of_code.median())\n",
    "print('Median %s lines of code per forked notebook' % forked_df_cell_counts.lines_of_code.median())\n",
    "print('Median %s lines of code per notebook forked 10+ times' % forked_df_cell_counts_10.lines_of_code.median())\n",
    "print('Median %s lines of code per notebook forked 100+ times' % forked_df_cell_counts_100.lines_of_code.median())\n",
    "print(ttest_ind(unforked_df_cell_counts.lines_of_code, forked_df_cell_counts.lines_of_code))\n",
    "print('')\n",
    "print('Removing Notebooks with no code at all')\n",
    "print('Median %s lines of code per unforked notebook' % unforked_df_cell_counts[unforked_df_cell_counts.lines_of_code > 0].lines_of_code.median())\n",
    "print('Median %s lines of code per forked notebook' % forked_df_cell_counts.lines_of_code[forked_df_cell_counts.lines_of_code > 0].median())\n",
    "print('Median %s lines of code per notebook forked 10+ times' % forked_df_cell_counts_10.lines_of_code[forked_df_cell_counts_10.lines_of_code > 0].median())\n",
    "print('Median %s lines of code per notebook forked 100+ times' % forked_df_cell_counts_100.lines_of_code[forked_df_cell_counts_100.lines_of_code > 0].median())\n",
    "print(ttest_ind(unforked_df_cell_counts[unforked_df_cell_counts.lines_of_code > 0].lines_of_code, forked_df_cell_counts[forked_df_cell_counts.lines_of_code > 0].lines_of_code))\n"
   ]
  },
  {
   "cell_type": "markdown",
   "metadata": {
    "comet_cell_id": "1a5bb3248d60c"
   },
   "source": [
    "### Num Links"
   ]
  },
  {
   "cell_type": "code",
   "execution_count": 346,
   "metadata": {
    "comet_cell_id": "ceb46848e05f7"
   },
   "outputs": [
    {
     "name": "stdout",
     "output_type": "stream",
     "text": [
      "Median 0.0 Links per unforked notebook\n",
      "Median 0.0 Links per forked notebook\n",
      "Median 0.0 Links per notebook forked 10+ times\n",
      "Median 1.0 Links per notebook forked 100+ times\n",
      "Ttest_indResult(statistic=-40.619237155356629, pvalue=0.0)\n",
      "\n",
      "Removing Notebooks with no links at all\n",
      "Median 4.0 Links per unforked notebook\n",
      "Median 4.0 Links per forked notebook\n",
      "Median 5.0 Links per notebook forked 10+ times\n",
      "Median 6.0 Links per notebook forked 100+ times\n",
      "Ttest_indResult(statistic=-14.832252320746987, pvalue=9.3546296803766039e-50)\n"
     ]
    },
    {
     "data": {
      "image/png": "[encoded data removed]",
      "text/plain": [
       "<matplotlib.figure.Figure at 0x1797b2860>"
      ]
     },
     "metadata": {},
     "output_type": "display_data"
    }
   ],
   "source": [
    "fig, ax = plt.subplots(figsize=(16,6))\n",
    "\n",
    "sns.distplot(unforked_df_cell_counts.num_links, kde=False, ax=ax, bins = np.append(0, np.logspace(0,4,40)))\n",
    "sns.distplot(forked_df_cell_counts.num_links, kde=False, ax=ax, bins = np.append(0, np.logspace(0,4,40)))\n",
    "\n",
    "ax.set_xscale('log')\n",
    "ax.set_xlabel('Links per notebook')\n",
    "\n",
    "print('Median %s Links per unforked notebook' % unforked_df_cell_counts.num_links.median())\n",
    "print('Median %s Links per forked notebook' % forked_df_cell_counts.num_links.median())\n",
    "print('Median %s Links per notebook forked 10+ times' % forked_df_cell_counts_10.num_links.median())\n",
    "print('Median %s Links per notebook forked 100+ times' % forked_df_cell_counts_100.num_links.median())\n",
    "print(ttest_ind(unforked_df_cell_counts.num_links, forked_df_cell_counts.num_links))\n",
    "print('')\n",
    "print('Removing Notebooks with no links at all')\n",
    "print('Median %s Links per unforked notebook' % unforked_df_cell_counts[unforked_df_cell_counts.num_links > 0].num_links.median())\n",
    "print('Median %s Links per forked notebook' % forked_df_cell_counts.num_links[forked_df_cell_counts.num_links > 0].median())\n",
    "print('Median %s Links per notebook forked 10+ times' % forked_df_cell_counts_10.num_links[forked_df_cell_counts_10.num_links > 0].median())\n",
    "print('Median %s Links per notebook forked 100+ times' % forked_df_cell_counts_100.num_links[forked_df_cell_counts_100.num_links > 0].median())\n",
    "print(ttest_ind(unforked_df_cell_counts[unforked_df_cell_counts.num_links > 0].num_links, forked_df_cell_counts[forked_df_cell_counts.num_links > 0].num_links))\n"
   ]
  },
  {
   "cell_type": "markdown",
   "metadata": {
    "comet_cell_id": "be0c4ef0bc51c"
   },
   "source": [
    "### Headers"
   ]
  },
  {
   "cell_type": "code",
   "execution_count": 348,
   "metadata": {
    "comet_cell_id": "5f68c437a9b69"
   },
   "outputs": [
    {
     "name": "stdout",
     "output_type": "stream",
     "text": [
      "Median 1.0 headers per unforked notebook\n",
      "Median 2.0 headers per forked notebook\n",
      "Median 4.0 headers per notebook forked 10+ times\n",
      "Median 3.0 headers per notebook forked 100+ times\n",
      "Ttest_indResult(statistic=358.70518057037754, pvalue=0.0)\n",
      "\n",
      "Removing Notebooks with no markdown at all\n",
      "Median 5.0 headers per unforked notebook\n",
      "Median 5.0 headers per forked notebook\n",
      "Median 6.0 headers per notebook forked 10+ times\n",
      "Median 4.0 headers per notebook forked 100+ times\n",
      "Ttest_indResult(statistic=-0.77357869073785424, pvalue=0.43918022561470293)\n"
     ]
    },
    {
     "data": {
      "image/png": "[encoded data removed]",
      "text/plain": [
       "<matplotlib.figure.Figure at 0x156d729e8>"
      ]
     },
     "metadata": {},
     "output_type": "display_data"
    }
   ],
   "source": [
    "fig, ax = plt.subplots(figsize=(16,6))\n",
    "\n",
    "sns.distplot(unforked_df_cell_counts.num_headers, kde=False, ax=ax, bins = np.append(0, np.logspace(0,4,40)))\n",
    "sns.distplot(forked_df_cell_counts.num_headers, kde=False, ax=ax, bins = np.append(0, np.logspace(0,4,40)))\n",
    "\n",
    "ax.set_xscale('log')\n",
    "ax.set_xlabel('Headers per notebook')\n",
    "\n",
    "print('Median %s headers per unforked notebook' % unforked_df_cell_counts.num_headers.median())\n",
    "print('Median %s headers per forked notebook' % forked_df_cell_counts.num_headers.median())\n",
    "print('Median %s headers per notebook forked 10+ times' % forked_df_cell_counts_10.num_headers.median())\n",
    "print('Median %s headers per notebook forked 100+ times' % forked_df_cell_counts_100.num_headers.median())\n",
    "print(ttest_ind(unforked_df_cell_counts.lines_of_code, forked_df_cell_counts.num_headers))\n",
    "print('')\n",
    "print('Removing Notebooks with no markdown at all')\n",
    "print('Median %s headers per unforked notebook' % unforked_df_cell_counts[unforked_df_cell_counts.num_headers > 0].num_headers.median())\n",
    "print('Median %s headers per forked notebook' % forked_df_cell_counts.num_headers[forked_df_cell_counts.num_headers > 0].median())\n",
    "print('Median %s headers per notebook forked 10+ times' % forked_df_cell_counts_10.num_headers[forked_df_cell_counts_10.num_headers > 0].median())\n",
    "print('Median %s headers per notebook forked 100+ times' % forked_df_cell_counts_100.num_headers[forked_df_cell_counts_100.num_headers > 0].median())\n",
    "print(ttest_ind(unforked_df_cell_counts[unforked_df_cell_counts.num_headers > 0].num_headers, forked_df_cell_counts[forked_df_cell_counts.num_headers > 0].num_headers))\n"
   ]
  },
  {
   "cell_type": "markdown",
   "metadata": {
    "comet_cell_id": "f56cd1aa04f39"
   },
   "source": [
    "### Imports"
   ]
  },
  {
   "cell_type": "code",
   "execution_count": 349,
   "metadata": {
    "comet_cell_id": "da28a4d795f6c"
   },
   "outputs": [
    {
     "name": "stdout",
     "output_type": "stream",
     "text": [
      "Median 4.0 imports per unforked notebook\n",
      "Median 3.0 imports per forked notebook\n",
      "Median 2.0 imports per notebook forked 10+ times\n",
      "Median 2.0 imports per notebook forked 100+ times\n",
      "Ttest_indResult(statistic=359.82497073744025, pvalue=0.0)\n",
      "\n",
      "Removing Notebooks with no imports at all\n",
      "Median 6.0 imports per unforked notebook\n",
      "Median 6.0 imports per forked notebook\n",
      "Median 5.0 imports per notebook forked 10+ times\n",
      "Median 4.0 imports per notebook forked 100+ times\n",
      "Ttest_indResult(statistic=2.9547797221975034, pvalue=0.0031290031514967297)\n"
     ]
    },
    {
     "data": {
      "image/png": "[encoded data removed]",
      "text/plain": [
       "<matplotlib.figure.Figure at 0x12cb80390>"
      ]
     },
     "metadata": {},
     "output_type": "display_data"
    }
   ],
   "source": [
    "fig, ax = plt.subplots(figsize=(16,6))\n",
    "\n",
    "sns.distplot(unforked_df_cell_counts.num_imports, kde=False, ax=ax, bins = np.append(0, np.logspace(0,4,40)))\n",
    "sns.distplot(forked_df_cell_counts.num_imports, kde=False, ax=ax, bins = np.append(0, np.logspace(0,4,40)))\n",
    "\n",
    "ax.set_xscale('log')\n",
    "ax.set_xlabel('imports per notebook')\n",
    "\n",
    "print('Median %s imports per unforked notebook' % unforked_df_cell_counts.num_imports.median())\n",
    "print('Median %s imports per forked notebook' % forked_df_cell_counts.num_imports.median())\n",
    "print('Median %s imports per notebook forked 10+ times' % forked_df_cell_counts_10.num_imports.median())\n",
    "print('Median %s imports per notebook forked 100+ times' % forked_df_cell_counts_100.num_imports.median())\n",
    "print(ttest_ind(unforked_df_cell_counts.lines_of_code, forked_df_cell_counts.num_imports))\n",
    "print('')\n",
    "print('Removing Notebooks with no imports at all')\n",
    "print('Median %s imports per unforked notebook' % unforked_df_cell_counts[unforked_df_cell_counts.num_imports > 0].num_imports.median())\n",
    "print('Median %s imports per forked notebook' % forked_df_cell_counts.num_imports[forked_df_cell_counts.num_imports > 0].median())\n",
    "print('Median %s imports per notebook forked 10+ times' % forked_df_cell_counts_10.num_imports[forked_df_cell_counts_10.num_imports > 0].median())\n",
    "print('Median %s imports per notebook forked 100+ times' % forked_df_cell_counts_100.num_imports[forked_df_cell_counts_100.num_imports > 0].median())\n",
    "print(ttest_ind(unforked_df_cell_counts[unforked_df_cell_counts.num_imports > 0].num_imports, forked_df_cell_counts[forked_df_cell_counts.num_imports > 0].num_imports))\n"
   ]
  },
  {
   "cell_type": "markdown",
   "metadata": {
    "collapsed": true,
    "comet_cell_id": "a253faf21dbd2"
   },
   "source": [
    "Picking up again, can we remove the 0s and nan numbers from our word counts and still get the result?\n"
   ]
  },
  {
   "cell_type": "code",
   "execution_count": 275,
   "metadata": {
    "comet_cell_id": "1f0b9b06c9e49"
   },
   "outputs": [
    {
     "name": "stdout",
     "output_type": "stream",
     "text": [
      "0.703 of unforked notebooks have markdown\n",
      "0.772 of forked notebooks have markdown\n"
     ]
    }
   ],
   "source": [
    "print(str(657420 / 934165)[0:5] + ' of unforked notebooks have markdown')\n",
    "print(str(233489 / 302429)[0:5] + ' of forked notebooks have markdown')"
   ]
  },
  {
   "cell_type": "markdown",
   "metadata": {
    "comet_cell_id": "a244c5bf4cb86"
   },
   "source": [
    "# 10.0 Readmes\n",
    "\n",
    "Repos that have been forked more often seem to have longer readme files"
   ]
  },
  {
   "cell_type": "markdown",
   "metadata": {
    "comet_cell_id": "bf740e65f4dc8"
   },
   "source": [
    "## 10.1 Readme size versus forked count"
   ]
  },
  {
   "cell_type": "code",
   "execution_count": 131,
   "metadata": {
    "collapsed": true,
    "comet_cell_id": "5e900e96f9a58"
   },
   "outputs": [],
   "source": [
    "df_repo_complete.columns = ['Unnamed: 0', 'created_at', 'description', 'fork', 'forks_count',\n",
    "       'has_downloads', 'has_issues', 'has_pages', 'has_wiki', 'html_url',\n",
    "       'repo_id', 'language', 'name', 'network_count', 'open_issues_count',\n",
    "       'owner_id', 'owner_login', 'owner_type', 'private', 'pushed_at', 'size',\n",
    "       'stargazers_count', 'subscribers_count', 'updated_at',\n",
    "       'watchers_count']\n",
    "del df_repo_complete['Unnamed: 0']\n",
    "\n",
    "df_readme = pd.read_csv('../data/csv/repo_readme.csv')\n",
    "del df_readme['Unnamed: 0']\n",
    "df_readme.columns = ['readme_content', 'readme_html_url', 'readme_name', 'readme_path', 'repo_id', 'readme_size', 'readme_type']\n",
    "\n",
    "df_repo_readme = df_repo_complete.merge(df_readme, how = 'left', on='repo_id')\n",
    "\n",
    "df_repo_readme.head()\n",
    "\n",
    "df_repo_readme_dropped = df_repo_readme[df_repo_readme.readme_size.notnull()]\n",
    "df_repo_readme_filled = df_repo_readme.readme_size.fillna(0)"
   ]
  },
  {
   "cell_type": "code",
   "execution_count": 351,
   "metadata": {
    "comet_cell_id": "6d4499b115a21"
   },
   "outputs": [
    {
     "name": "stdout",
     "output_type": "stream",
     "text": [
      "Median of 161.0 byte readme for unforked repos\n",
      "Median of 764.0 byte readme for forked repos\n",
      "Median of 2052.0 byte readme for repos forked 10+ times\n",
      "Median of 3511.0 byte readme for repos forked 100+ times\n"
     ]
    },
    {
     "data": {
      "image/png": "[encoded data removed]",
      "text/plain": [
       "<matplotlib.figure.Figure at 0x179604828>"
      ]
     },
     "metadata": {},
     "output_type": "display_data"
    }
   ],
   "source": [
    "mybins = np.append(0, np.logspace(0,5,50))\n",
    "g = sns.jointplot(\"readme_size\", \"forks_count\", data=df_repo_readme_dropped, marginal_kws=dict(bins=mybins), joint_kws={'alpha':0.1})\n",
    "ax = g.ax_joint\n",
    "ax.set_xscale('log')\n",
    "ax.set_yscale('log')\n",
    "g.ax_marg_x.set_xscale('log')\n",
    "g.ax_marg_y.set_yscale('log')\n",
    "\n",
    "print('Median of %s byte readme for unforked repos' % df_repo_readme_dropped[df_repo_readme_dropped.forks_count == 0].readme_size.median())\n",
    "print('Median of %s byte readme for forked repos' % df_repo_readme_dropped[df_repo_readme_dropped.forks_count > 0].readme_size.median())\n",
    "print('Median of %s byte readme for repos forked 10+ times' % df_repo_readme_dropped[df_repo_readme_dropped.forks_count > 9].readme_size.median())\n",
    "print('Median of %s byte readme for repos forked 100+ times' % df_repo_readme_dropped[df_repo_readme_dropped.forks_count > 99].readme_size.median())\n"
   ]
  },
  {
   "cell_type": "markdown",
   "metadata": {
    "comet_cell_id": "8a4364a25cb9"
   },
   "source": [
    "# End\n",
    "\n",
    "And that's the end of the exploration. It is a little messy and incomplete. We ended up doing several other follow-up analyses but this is the core of it."
   ]
  },
  {
   "cell_type": "code",
   "execution_count": null,
   "metadata": {
    "collapsed": true,
    "comet_cell_id": "b60c646e3475a"
   },
   "outputs": [],
   "source": []
  }
 ],
 "metadata": {
  "comet_paths": [
   [
    "d1dd24ab/scratch.ipynb",
    1501187519470
   ],
   [
    "d1dd24ab/7_notebook_profiling.ipynb",
    1501197070757
   ]
  ],
  "comet_tracking": true,
  "kernelspec": {
   "display_name": "Python 3",
   "language": "python",
   "name": "python3"
  },
  "language_info": {
   "codemirror_mode": {
    "name": "ipython",
    "version": 3
   },
   "file_extension": ".py",
   "mimetype": "text/x-python",
   "name": "python",
   "nbconvert_exporter": "python",
   "pygments_lexer": "ipython3",
   "version": "3.6.1"
  }
 },
 "nbformat": 4,
 "nbformat_minor": 2
}
