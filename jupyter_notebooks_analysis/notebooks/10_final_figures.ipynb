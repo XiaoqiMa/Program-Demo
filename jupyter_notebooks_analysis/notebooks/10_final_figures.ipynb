{
 "cells": [
  {
   "cell_type": "markdown",
   "metadata": {
    "comet_cell_id": "424b2911b6588"
   },
   "source": [
    "# Final Figures\n",
    "\n",
    "This notebook includes the code to render the final figures for the paper submission. Plotting figures can be rather particular with a lot of parameter experimentation, so we broke it into a separate notebook from the more exploratory analysis. Those earlier notebook helped us think, this one is aiming to communicate with others."
   ]
  },
  {
   "cell_type": "code",
   "execution_count": 1,
   "metadata": {
    "collapsed": true,
    "comet_cell_id": "fd62daf416d8a"
   },
   "outputs": [],
   "source": [
    "import os\n",
    "import json\n",
    "import math\n",
    "\n",
    "import numpy as np\n",
    "import pandas as pd\n",
    "import seaborn as sns\n",
    "import matplotlib.pyplot as plt\n",
    "\n",
    "%matplotlib inline"
   ]
  },
  {
   "cell_type": "markdown",
   "metadata": {
    "comet_cell_id": "c8816a41a55d8"
   },
   "source": [
    "## 0. Load Data"
   ]
  },
  {
   "cell_type": "code",
   "execution_count": 3,
   "metadata": {
    "collapsed": true,
    "comet_cell_id": "7073a0c08b469"
   },
   "outputs": [],
   "source": [
    "# load data from our csv files\n",
    "df_nb = pd.read_csv('../data/csv/nb_metadata.csv')\n",
    "df_cell = pd.read_csv('../data/csv/cell_metadata.csv')\n",
    "df_repo = pd.read_csv('../data/csv/repo_metadata.csv')\n",
    "df_readme = pd.read_csv('../data/csv/repo_readme.csv')"
   ]
  },
  {
   "cell_type": "code",
   "execution_count": 4,
   "metadata": {
    "collapsed": true,
    "comet_cell_id": "3e777a3dac21c"
   },
   "outputs": [],
   "source": [
    "# filter out forked repos\n",
    "df_nb = df_nb[df_nb.repo_fork == False] \n",
    "\n",
    "# remove unwanted columns\n",
    "del df_nb['Unnamed: 0']\n",
    "del df_nb['max_filesize']\n",
    "del df_nb['min_filesize']\n",
    "del df_nb['owner_html_url']\n",
    "del df_nb['query_page']\n",
    "del df_nb['repo_private']\n",
    "del df_nb['repo_fork']\n",
    "del df_nb['repo_html_url']\n",
    "del df_nb['kernel_lang']\n",
    "del df_nb['kernel_name']\n",
    "del df_nb['num_cells']"
   ]
  },
  {
   "cell_type": "code",
   "execution_count": 5,
   "metadata": {
    "collapsed": true,
    "comet_cell_id": "26a268b32a7fd"
   },
   "outputs": [],
   "source": [
    "# clean cell data\n",
    "del df_cell['Unnamed: 0']\n",
    "del df_cell['Unnamed: 0.1']\n",
    "\n",
    "df_cell['workbook_index'].fillna(0, inplace = True)\n",
    "df_cell['workbook_index'] = df_cell['workbook_index'].astype(int)\n",
    "\n",
    "df_cell['num_words'].fillna(0, inplace = True)\n",
    "df_cell['num_words'] = df_cell['num_words'].astype(int)\n",
    "\n",
    "df_cell['lines_of_code'].fillna(0, inplace = True)\n",
    "df_cell['lines_of_code'] = df_cell['lines_of_code'].astype(int)"
   ]
  },
  {
   "cell_type": "code",
   "execution_count": 6,
   "metadata": {
    "collapsed": true,
    "comet_cell_id": "13a20ab1328d6"
   },
   "outputs": [],
   "source": [
    "# filter out forked repos\n",
    "df_repo = df_repo[df_repo.fork == False] \n",
    "\n",
    "# deleted unnecessary columns\n",
    "del df_repo['stargazers_count']\n",
    "del df_repo['Unnamed: 0']\n",
    "del df_repo['fork']\n",
    "del df_repo['private']"
   ]
  },
  {
   "cell_type": "code",
   "execution_count": 7,
   "metadata": {
    "collapsed": true,
    "comet_cell_id": "b1780fcbf4af2"
   },
   "outputs": [],
   "source": [
    "# delete unnecesary columns in readme data\n",
    "del df_readme['Unnamed: 0']\n",
    "del df_readme['type']"
   ]
  },
  {
   "cell_type": "markdown",
   "metadata": {
    "comet_cell_id": "0edaf1a4f10d9"
   },
   "source": [
    "## 1. Restrict to only notebooks we have complete data for and do additional cleaning"
   ]
  },
  {
   "cell_type": "code",
   "execution_count": 8,
   "metadata": {
    "comet_cell_id": "f3079ecf9d26"
   },
   "outputs": [
    {
     "name": "stderr",
     "output_type": "stream",
     "text": [
      "/Users/doug/anaconda/lib/python3.6/site-packages/ipykernel_launcher.py:49: UserWarning: Boolean Series key will be reindexed to match DataFrame index.\n"
     ]
    },
    {
     "name": "stdout",
     "output_type": "stream",
     "text": [
      "Of the 1294163 notebooks available on Github\n",
      "1250857 were returned by our search query\n",
      "43306 notebooks not returned by our search\n",
      "\n",
      "1246469 had repo data we could scrape\n",
      "1233055 had cell data we could extract\n",
      "Leaving 1227573 that we can analyze fully\n",
      "\n",
      "Meaning we have dropped 66590 nbs in total from the analysis\n",
      "or 5.145 percent of the dataset\n"
     ]
    }
   ],
   "source": [
    "# 1. num nbs that did not download \n",
    "num_nbs_not_queried = 0\n",
    "missed_ranges = []\n",
    "\n",
    "num_nbs_bad_result = 0\n",
    "ranges_w_bad_result = []\n",
    "\n",
    "# find notebooks not downloaded due to more than 1000 notebooks having same filesize\n",
    "with open ('../logs/nb_metadata_query_log.txt', 'r') as log:\n",
    "    for l in log:\n",
    "        if l.startswith('TOO MANY RESULTS'):\n",
    "            num_nbs_not_queried += int(l.split()[-2])\n",
    "            missed_ranges.append(l.split()[-4])\n",
    "\n",
    "# find notebooks not downloaded due to incomplete response from github\n",
    "with open('../logs/nb_metadata_cleaning_log.txt', 'r') as log:\n",
    "    for l in log:\n",
    "        parts = l.split()        \n",
    "        if parts[2] == 'incomplete':\n",
    "            with open('../data/api_results/nb_metadata/' + parts[0], 'r') as json_file:                            \n",
    "                file_dict = json.load(json_file)\n",
    "                total_expected = file_dict['total_count']\n",
    "                expected_pages = math.ceil(total_expected / 100.0)\n",
    "                current_page = int(parts[0].split('_')[-1].split('.')[0][1:])\n",
    "                current_items = len(file_dict['items'])\n",
    "                \n",
    "                if current_page < expected_pages and current_items < 100:\n",
    "                    num_nbs_bad_result += (100 - current_items)\n",
    "                    ranges_w_bad_result.append(l.split('_')[2:4])\n",
    "                elif total_expected % 100 > current_items:\n",
    "                    num_nbs_bad_result += (total_expected % 100 - current_items)\n",
    "                    ranges_w_bad_result.append(l.split('_')[2:4])\n",
    "\n",
    "num_nbs_did_not_download = num_nbs_not_queried + num_nbs_bad_result\n",
    "\n",
    "# 2. nbs with metadata\n",
    "nbs_w_file = df_nb.nb_id.unique()\n",
    "\n",
    "# 3. nbs with cell data\n",
    "df_nb_content_count = ( df_cell[[\n",
    "                            'nb_id', \n",
    "                            'lines_of_code', \n",
    "                            'num_words']]\n",
    "                                .groupby('nb_id')\n",
    "                                .sum() )\n",
    "\n",
    "nbs_wo_content = list( df_nb_content_count[\n",
    "    df_nb_content_count.lines_of_code == 0][\n",
    "    df_nb_content_count.num_words == 0].index )\n",
    "\n",
    "nbs_w_cells = df_cell[~df_cell.nb_id.isin(nbs_wo_content)].nb_id.unique()\n",
    "\n",
    "# 4. nbs with repo metadata\n",
    "repos_w_metadata = df_repo.id.unique()\n",
    "nbs_w_repo_data = df_nb[df_nb.repo_id.isin(repos_w_metadata)]['nb_id']\n",
    "\n",
    "# 5. nbs with all data\n",
    "nb_repo_cell_ids = np.intersect1d(np.intersect1d(nbs_w_file, nbs_w_repo_data), nbs_w_cells)\n",
    "nb_repo_ids = df_nb[df_nb.nb_id.isin(nb_repo_cell_ids)]['repo_id'].unique()\n",
    "\n",
    "# 6. repos with all data\n",
    "\n",
    "print('Of the %s notebooks available on Github'% (df_nb.shape[0] + num_nbs_did_not_download))\n",
    "print('%s were returned by our search query' % df_nb.shape[0])\n",
    "print('%s notebooks not returned by our search' % num_nbs_did_not_download)\n",
    "print('')\n",
    "print('%s had repo data we could scrape' % nbs_w_repo_data.shape[0])\n",
    "print('%s had cell data we could extract' % nbs_w_cells.shape[0])\n",
    "print('Leaving %s that we can analyze fully' % nb_repo_cell_ids.shape[0])\n",
    "print('')\n",
    "print('Meaning we have dropped %s nbs in total from the analysis'% (df_nb.shape[0] \n",
    "                                                                    + num_nbs_did_not_download \n",
    "                                                                    - nb_repo_cell_ids.shape[0]))\n",
    "print('or %s percent of the dataset' % str((df_nb.shape[0] \n",
    "                                         + num_nbs_did_not_download \n",
    "                                         - nb_repo_cell_ids.shape[0])\n",
    "                                         /(df_nb.shape[0] \n",
    "                                         + num_nbs_did_not_download)*100)[0:5])"
   ]
  },
  {
   "cell_type": "code",
   "execution_count": 9,
   "metadata": {
    "comet_cell_id": "f952bf6c57edf"
   },
   "outputs": [
    {
     "name": "stdout",
     "output_type": "stream",
     "text": [
      "Our cleaned data consists of:\n",
      "1227573 notebooks\n",
      "191402 repos\n",
      "141159 readmes\n",
      "34486368 cells\n",
      "100503 users\n"
     ]
    }
   ],
   "source": [
    "df_nb_complete = df_nb[df_nb.nb_id.isin(nb_repo_cell_ids)]\n",
    "df_repo_complete = df_repo[df_repo.id.isin(nb_repo_ids)]\n",
    "df_cell_complete = df_cell[df_cell.nb_id.isin(nb_repo_cell_ids)]\n",
    "df_readme_complete = df_readme[df_readme.repo_id.isin(nb_repo_ids)]\n",
    "\n",
    "print('Our cleaned data consists of:')\n",
    "print('%s notebooks' % df_nb_complete.shape[0])\n",
    "print('%s repos' % df_repo_complete.shape[0])\n",
    "print('%s readmes' % df_readme_complete.shape[0])\n",
    "print('%s cells' % df_cell_complete.shape[0])\n",
    "print('%s users' % df_nb_complete.owner_login.unique().shape[0])"
   ]
  },
  {
   "cell_type": "code",
   "execution_count": 10,
   "metadata": {
    "collapsed": true,
    "comet_cell_id": "cca32d2fb81fb"
   },
   "outputs": [],
   "source": [
    "# get size of each nb file\n",
    "nb_files = [x for x in os.listdir('../data/notebooks') if x.endswith('.ipynb')]\n",
    "sizes = [[n.split('_')[1].split('.')[0], os.path.getsize('../data/notebooks/' + n)] for n in nb_files]\n",
    "\n",
    "# merge size data back into main table\n",
    "df_nb_sizes = pd.DataFrame(sizes)\n",
    "df_nb_sizes.columns = ['nb_id', 'size']\n",
    "df_nb_complete = df_nb_complete.merge(df_nb_sizes, \n",
    "                      on = 'nb_id',\n",
    "                      how = 'left')"
   ]
  },
  {
   "cell_type": "code",
   "execution_count": 11,
   "metadata": {
    "collapsed": true,
    "comet_cell_id": "c3e2f455afe9a"
   },
   "outputs": [],
   "source": [
    "# calculate sum of cell counts for each nb\n",
    "df_nb_cell_counts = (df_cell[['nb_id',\n",
    "                             'lines_of_code',\n",
    "                             'num_display_data', \n",
    "                             'num_error', \n",
    "                             'num_execute_result', \n",
    "                             'num_stream',\n",
    "                             'num_words', \n",
    "                             'num_imports',  \n",
    "                             'num_headers',\n",
    "                             'num_links', \n",
    "                             'num_functions',\n",
    "                             'num_classes', \n",
    "                             'num_comment_lines', \n",
    "                             'num_comment_words']]\n",
    "                            .groupby('nb_id')\n",
    "                            .agg('sum'))\n",
    "\n",
    "df_nb_cell_types = (df_cell[['nb_id', \n",
    "                            'cell_type']]\n",
    "                            .groupby('nb_id')['cell_type']\n",
    "                            .value_counts()\n",
    "                            .unstack(fill_value=0))\n",
    "\n",
    "df_nb_cell_types['nb_id'] = df_nb_cell_types.index\n",
    "df_nb_cell_counts['nb_id'] = df_nb_cell_counts.index"
   ]
  },
  {
   "cell_type": "code",
   "execution_count": 12,
   "metadata": {
    "comet_cell_id": "73cc16a1fbf8"
   },
   "outputs": [
    {
     "name": "stdout",
     "output_type": "stream",
     "text": [
      "1239355\n",
      "1239355\n"
     ]
    }
   ],
   "source": [
    "# get max cell content per nb for calculation of how well markdown, comments, etc are distributed\n",
    "df_nb_cell_max = (df_cell[['nb_id',\n",
    "                             'lines_of_code',\n",
    "                             'num_display_data', \n",
    "                             'num_error', \n",
    "                             'num_execute_result', \n",
    "                             'num_stream',\n",
    "                             'num_words', \n",
    "                             'num_imports',  \n",
    "                             'num_headers',\n",
    "                             'num_links', \n",
    "                             'num_functions',\n",
    "                             'num_classes', \n",
    "                             'num_comment_lines', \n",
    "                             'num_comment_words']]\n",
    "                            .groupby('nb_id')\n",
    "                            .agg('max'))\n",
    "\n",
    "print(df_nb_cell_counts.shape[0])\n",
    "print(df_nb_cell_max.shape[0])"
   ]
  },
  {
   "cell_type": "code",
   "execution_count": 13,
   "metadata": {
    "collapsed": true,
    "comet_cell_id": "5cac3d7f8ef28"
   },
   "outputs": [],
   "source": [
    "df_nb_cell_types['markdown'] = df_nb_cell_types['markdown'] + df_nb_cell_types['heading']\n",
    "df_nb_cell_types['other'] = ( df_nb_cell_types['altset']\n",
    "                             + df_nb_cell_types['future cell']\n",
    "                             + df_nb_cell_types['interactivecode']\n",
    "                             + df_nb_cell_types['markdownn']\n",
    "                             + df_nb_cell_types['moarkdown']\n",
    "                             + df_nb_cell_types['mycode']\n",
    "                             + df_nb_cell_types['plaintext']\n",
    "                             + df_nb_cell_types['strategy']\n",
    "                             + df_nb_cell_types['task']\n",
    "                             + df_nb_cell_types['text']\n",
    "                            )\n",
    "\n",
    "del df_nb_cell_types['altset']\n",
    "del df_nb_cell_types['heading']\n",
    "del df_nb_cell_types['future cell']\n",
    "del df_nb_cell_types['interactivecode']\n",
    "del df_nb_cell_types['markdownn']\n",
    "del df_nb_cell_types['moarkdown']\n",
    "del df_nb_cell_types['mycode']\n",
    "del df_nb_cell_types['plaintext']\n",
    "del df_nb_cell_types['strategy']\n",
    "del df_nb_cell_types['task']\n",
    "del df_nb_cell_types['text']"
   ]
  },
  {
   "cell_type": "code",
   "execution_count": 14,
   "metadata": {
    "collapsed": true,
    "comet_cell_id": "1ebd9abebe824"
   },
   "outputs": [],
   "source": [
    "df_nb_complete = df_nb_complete.merge(df_nb_cell_counts,\n",
    "                                     how = 'left',\n",
    "                                     on = 'nb_id')\n",
    "\n",
    "\n",
    "df_nb_complete = df_nb_complete.merge(df_nb_cell_types,\n",
    "                                     how = 'left',\n",
    "                                     on = 'nb_id')"
   ]
  },
  {
   "cell_type": "markdown",
   "metadata": {
    "comet_cell_id": "f3c3e52dc0c69"
   },
   "source": [
    "## 2. Plot figure regarding notebook length in various content measures"
   ]
  },
  {
   "cell_type": "code",
   "execution_count": 131,
   "metadata": {
    "comet_cell_id": "4891e352c5453"
   },
   "outputs": [
    {
     "data": {
      "image/png": "[encoded data removed]",
      "text/plain": [
       "<matplotlib.figure.Figure at 0x1371ceba8>"
      ]
     },
     "metadata": {},
     "output_type": "display_data"
    }
   ],
   "source": [
    "f, (ax1, ax2, ax3) = plt.subplots(nrows=3, ncols=1, gridspec_kw = {'height_ratios':[1, 1, 2]})\n",
    "f.set_size_inches(10, 3)\n",
    "plt.subplots_adjust(top=1.75)\n",
    "f.subplots_adjust(hspace=.5)\n",
    "\n",
    "df_nb_complete.num_cells = df_nb_complete.code + df_nb_complete.markdown + df_nb_complete.raw + df_nb_complete.other\n",
    "sns.distplot(df_nb_complete.num_cells, kde=False, ax = ax1, bins = np.append(0, np.logspace(0,4,30)))\n",
    "ax1.set_xscale('log')\n",
    "# ax1.set_title('Cells', fontsize = 16, position = [0.09, 0.66], color='#666666')\n",
    "ax1.set_xlabel('Cells')\n",
    "ax1.set_ylim([0,200000])\n",
    "#ax1.set_xlim([-1,10000])\n",
    "ax1.set(xticklabels=[])\n",
    "# ax1.title.set_position()\n",
    "# ax1.title.set_fontsize(18)\n",
    "\n",
    "sns.distplot(df_nb_complete.lines_of_code, kde=False, ax = ax2, bins = np.append(0, np.logspace(0,4,30)))\n",
    "ax2.set_xscale('log')\n",
    "# ax2.set_title('Lines of Code', fontsize = 16, position = [0.15, 0.66], color='#666666')\n",
    "ax2.set_ylabel('1,000s of Notebooks', color='grey')\n",
    "ax2.set_xlabel('Lines of Code', color='grey')\n",
    "# ax2.set_xlabel('')\n",
    "ax2.set_ylim([0,200000])\n",
    "# ax2.set_xlim([0,10000])\n",
    "ax2.yaxis.label.set_fontsize(16)\n",
    "\n",
    "sns.distplot(df_nb_complete.num_words, kde=False, ax = ax3, bins = np.append(0, np.logspace(0,4,30)))\n",
    "ax3.set_xscale('log')\n",
    "# ax3.set_title('Words of Markdown', fontsize = 16, position = [0.19, 0.81], color='#666666')\n",
    "ax3.set_xlabel('Words of Markdown')\n",
    "#ax3.set_xlim([0,10000])\n",
    "ax3.set_ylim([-1,400000])\n",
    "\n",
    "from matplotlib.ticker import ScalarFormatter\n",
    "import matplotlib.ticker as ticker\n",
    "ticks = ticker.FuncFormatter(lambda x, pos: '{0:g}'.format(x / 1000))\n",
    "for axis in [ax1, ax2, ax3]:\n",
    "    axis.xaxis.set_major_formatter(ScalarFormatter())\n",
    "    axis.yaxis.set_major_formatter(ticks)\n",
    "\n",
    "    \n",
    "for item in ([ax1.xaxis.label, ax1.yaxis.label] +\n",
    "             ax1.get_xticklabels() + ax1.get_yticklabels()):\n",
    "    item.set_fontsize(14)\n",
    "    item.set_color('grey')\n",
    "    \n",
    "for item in ([ax2.xaxis.label] +\n",
    "             ax2.get_xticklabels() + ax2.get_yticklabels()):\n",
    "    item.set_fontsize(14)\n",
    "    item.set_color('grey')\n",
    "    \n",
    "for item in ([ax3.xaxis.label, ax3.yaxis.label] +\n",
    "             ax3.get_xticklabels() + ax3.get_yticklabels()):\n",
    "    item.set_fontsize(14)\n",
    "    item.set_color('grey')"
   ]
  },
  {
   "cell_type": "markdown",
   "metadata": {
    "comet_cell_id": "329ad612e009e"
   },
   "source": [
    "## 3. Plot notebook content distribution\n",
    "Note that [another notebook](8_markdown_distribution.ipynb) was used to generate these numbers which are essentially the number of cells at each percentange of the notebook's length (1%, 2%, 3%, ...) that were markdown, code, or other. "
   ]
  },
  {
   "cell_type": "code",
   "execution_count": 21,
   "metadata": {
    "collapsed": true,
    "comet_cell_id": "775dedc36134f"
   },
   "outputs": [],
   "source": [
    "mc = np.array([ 681656.,  681448.,  654927.,  617157.,  568850.,  527187.,\n",
    "        505607.,  487427.,  473321.,  461993.,  443669.,  439591.,\n",
    "        413673.,  408015.,  406886.,  397629.,  395129.,  384040.,\n",
    "        383035.,  379163.,  376154.,  372965.,  374807.,  369496.,\n",
    "        372040.,  365137.,  360575.,  357654.,  359874.,  362077.,\n",
    "        357040.,  357851.,  356846.,  356890.,  354121.,  352277.,\n",
    "        348171.,  345510.,  345743.,  350173.,  354475.,  352324.,\n",
    "        352162.,  349882.,  349489.,  349945.,  348235.,  351741.,\n",
    "        347730.,  347244.,  343713.,  342874.,  342404.,  338813.,\n",
    "        341306.,  336659.,  337670.,  333627.,  327644.,  329946.,\n",
    "        335442.,  335609.,  329883.,  329418.,  330650.,  327157.,\n",
    "        328648.,  326520.,  329482.,  328495.,  327951.,  317874.,\n",
    "        317334.,  310725.,  310494.,  311195.,  309976.,  312215.,\n",
    "        313761.,  312618.,  313100.,  306846.,  304685.,  306701.,\n",
    "        302247.,  300559.,  295462.,  291385.,  285329.,  281401.,\n",
    "        278984.,  273352.,  271719.,  265017.,  263226.,  251645.,\n",
    "        239295.,  234972.,  223165.,  208233.])\n",
    "\n",
    "cc = np.array([ 514994.,  515200.,  541735.,  579666.,  628083.,  669691.,\n",
    "        691308.,  709530.,  723691.,  735056.,  753474.,  757596.,\n",
    "        783589.,  789194.,  790477.,  799787.,  802285.,  813441.,\n",
    "        814294.,  818300.,  821325.,  824478.,  822649.,  828030.,\n",
    "        825632.,  832488.,  837053.,  839998.,  837752.,  835481.,\n",
    "        840534.,  839665.,  840655.,  840677.,  843495.,  845396.,\n",
    "        849503.,  852141.,  851914.,  847449.,  843182.,  845286.,\n",
    "        845275.,  847589.,  848000.,  847586.,  849255.,  845752.,\n",
    "        849898.,  850378.,  853871.,  854733.,  855173.,  858797.,\n",
    "        856230.,  860940.,  859885.,  863936.,  869819.,  867485.,\n",
    "        862096.,  861969.,  867676.,  868129.,  866899.,  870316.,\n",
    "        868856.,  871076.,  868137.,  868989.,  869457.,  879736.,\n",
    "        880315.,  886935.,  887236.,  886444.,  887696.,  885323.,\n",
    "        883786.,  884833.,  884267.,  890520.,  892417.,  890549.,\n",
    "        895038.,  896762.,  901804.,  905843.,  911923.,  915912.,\n",
    "        918375.,  924275.,  925937.,  932627.,  934357.,  945898.,\n",
    "        958266.,  962513.,  974357.,  989261.])\n",
    "\n",
    "oc = np.array([ 3681.,  3683.,  3669.,  3508.,  3398.,  3453.,  3416.,  3374.,\n",
    "        3318.,  3281.,  3187.,  3143.,  3062.,  3115.,  2961.,  2908.,\n",
    "        2910.,  2843.,  2995.,  2861.,  2845.,  2881.,  2868.,  2796.,\n",
    "        2650.,  2697.,  2694.,  2670.,  2696.,  2764.,  2748.,  2806.,\n",
    "        2821.,  2755.,  2706.,  2649.,  2648.,  2671.,  2665.,  2700.,\n",
    "        2665.,  2712.,  2885.,  2851.,  2833.,  2791.,  2832.,  2829.,\n",
    "        2694.,  2700.,  2738.,  2715.,  2745.,  2712.,  2786.,  2723.,\n",
    "        2765.,  2757.,  2857.,  2889.,  2782.,  2742.,  2761.,  2773.,\n",
    "        2771.,  2847.,  2816.,  2724.,  2701.,  2836.,  2912.,  2710.,\n",
    "        2671.,  2660.,  2590.,  2681.,  2648.,  2782.,  2773.,  2869.,\n",
    "        2953.,  2954.,  3218.,  3070.,  3035.,  2999.,  3054.,  3092.,\n",
    "        3068.,  3005.,  2959.,  2691.,  2662.,  2673.,  2734.,  2774.,\n",
    "        2756.,  2832.,  2795.,  2823.])\n",
    "\n",
    "tt = mc + cc + oc"
   ]
  },
  {
   "cell_type": "code",
   "execution_count": 126,
   "metadata": {
    "comet_cell_id": "935f3d8972dee"
   },
   "outputs": [
    {
     "data": {
      "text/plain": [
       "([<matplotlib.axis.YTick at 0x13ada9400>,\n",
       "  <matplotlib.axis.YTick at 0x13b73bba8>,\n",
       "  <matplotlib.axis.YTick at 0x13ad524a8>,\n",
       "  <matplotlib.axis.YTick at 0x139f87748>,\n",
       "  <matplotlib.axis.YTick at 0x138c4dda0>,\n",
       "  <matplotlib.axis.YTick at 0x137990588>],\n",
       " <a list of 6 Text yticklabel objects>)"
      ]
     },
     "execution_count": 126,
     "metadata": {},
     "output_type": "execute_result"
    },
    {
     "data": {
      "image/png": "[encoded data removed]",
      "text/plain": [
       "<matplotlib.figure.Figure at 0x13b545128>"
      ]
     },
     "metadata": {},
     "output_type": "display_data"
    }
   ],
   "source": [
    "f, ax = plt.subplots(figsize=(8, 6))\n",
    "\n",
    "x = np.arange(100)\n",
    "y1 = cc / tt[0]\n",
    "\n",
    "ax.fill_between(x, 0, 1-y1, facecolor='steelblue')\n",
    "ax.fill_between(x, 1, 1-y1, facecolor='lightsteelblue')\n",
    "ax.yaxis.tick_right()\n",
    "\n",
    "f.text(0.48, 0.23,'Text', fontsize=17, rotation=90, color = 'white', fontweight=500)\n",
    "f.text(0.48, 0.56,'Code', fontsize=17, rotation=90, color=\"white\", fontweight=500)\n",
    "\n",
    "# ax.set_title(\"Distribution of Content Across All Notebooks\", fontsize = 16, color = 'grey', fontweight=600)\n",
    "# ax.set_xlabel('Section of Notebook', fontsize = 14, color = 'grey', fontweight=600)\n",
    "# ax.set_ylabel('Percent of Content Across All Notebooks', fontsize = 16, color = 'grey', fontweight=600)\n",
    "ax.set_ylim(0,1)\n",
    "ax.set_xlim(0,99)\n",
    "plt.xticks([0,49,99], ['Start','Middle', 'End'], rotation=90, color='grey', fontsize = 17)\n",
    "plt.yticks([0,0.2,0.4,0.6,0.8, 1], ['0%','20%','40%','60%','80%','100%'], rotation=90, color='grey', fontsize = 17)"
   ]
  },
  {
   "cell_type": "code",
   "execution_count": null,
   "metadata": {
    "collapsed": true,
    "comet_cell_id": "3deb7e4abc853"
   },
   "outputs": [],
   "source": []
  }
 ],
 "metadata": {
  "comet_paths": [
   [
    "d1dd24ab/Untitled.ipynb",
    1505242454421
   ],
   [
    "d1dd24ab/10_final_figures.ipynb",
    1507671945933
   ]
  ],
  "comet_tracking": true,
  "kernelspec": {
   "display_name": "Python 3",
   "language": "python",
   "name": "python3"
  },
  "language_info": {
   "codemirror_mode": {
    "name": "ipython",
    "version": 3
   },
   "file_extension": ".py",
   "mimetype": "text/x-python",
   "name": "python",
   "nbconvert_exporter": "python",
   "pygments_lexer": "ipython3",
   "version": "3.6.4"
  }
 },
 "nbformat": 4,
 "nbformat_minor": 2
}
