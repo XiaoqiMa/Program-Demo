{
 "cells": [
  {
   "cell_type": "markdown",
   "metadata": {
    "comet_cell_id": "1243bc48c9c0f"
   },
   "source": [
    "# Profiling Notebooks\n",
    "\n",
    "This notebook checks for the completeness and quality of the 1.25 million notebook files we have downloaded."
   ]
  },
  {
   "cell_type": "code",
   "execution_count": 1,
   "metadata": {
    "collapsed": true,
    "comet_cell_id": "58f5ecb5096fb"
   },
   "outputs": [],
   "source": [
    "import os\n",
    "import time\n",
    "import json\n",
    "import datetime\n",
    "import requests\n",
    "import shutil\n",
    "\n",
    "import numpy as np\n",
    "import pandas as pd\n",
    "import seaborn as sns\n",
    "\n",
    "%matplotlib inline"
   ]
  },
  {
   "cell_type": "markdown",
   "metadata": {
    "comet_cell_id": "12a2543d2aeeb"
   },
   "source": [
    "## Get list of unique nbs we should have downloaded"
   ]
  },
  {
   "cell_type": "code",
   "execution_count": 4,
   "metadata": {
    "comet_cell_id": "bacff9c07fe1a"
   },
   "outputs": [
    {
     "name": "stdout",
     "output_type": "stream",
     "text": [
      "(1253620, 16)\n"
     ]
    },
    {
     "data": {
      "text/html": [
       "<div>\n",
       "<style>\n",
       "    .dataframe thead tr:only-child th {\n",
       "        text-align: right;\n",
       "    }\n",
       "\n",
       "    .dataframe thead th {\n",
       "        text-align: left;\n",
       "    }\n",
       "\n",
       "    .dataframe tbody tr th {\n",
       "        vertical-align: top;\n",
       "    }\n",
       "</style>\n",
       "<table border=\"1\" class=\"dataframe\">\n",
       "  <thead>\n",
       "    <tr style=\"text-align: right;\">\n",
       "      <th></th>\n",
       "      <th>nb_id</th>\n",
       "      <th>html_url</th>\n",
       "      <th>max_filesize</th>\n",
       "      <th>min_filesize</th>\n",
       "      <th>name</th>\n",
       "      <th>owner_html_url</th>\n",
       "      <th>owner_id</th>\n",
       "      <th>owner_login</th>\n",
       "      <th>path</th>\n",
       "      <th>query_page</th>\n",
       "      <th>repo_description</th>\n",
       "      <th>repo_fork</th>\n",
       "      <th>repo_html_url</th>\n",
       "      <th>repo_id</th>\n",
       "      <th>repo_name</th>\n",
       "      <th>repo_private</th>\n",
       "    </tr>\n",
       "  </thead>\n",
       "  <tbody>\n",
       "    <tr>\n",
       "      <th>0</th>\n",
       "      <td>0</td>\n",
       "      <td>https://github.com/dalequark/emotivExperiment/...</td>\n",
       "      <td>10</td>\n",
       "      <td>0</td>\n",
       "      <td>EmotivDataAnalysis.ipynb</td>\n",
       "      <td>https://github.com/dalequark</td>\n",
       "      <td>2328571</td>\n",
       "      <td>dalequark</td>\n",
       "      <td>ipynb/EmotivDataAnalysis.ipynb</td>\n",
       "      <td>1</td>\n",
       "      <td>NaN</td>\n",
       "      <td>False</td>\n",
       "      <td>https://github.com/dalequark/emotivExperiment</td>\n",
       "      <td>26093748</td>\n",
       "      <td>emotivExperiment</td>\n",
       "      <td>False</td>\n",
       "    </tr>\n",
       "    <tr>\n",
       "      <th>1</th>\n",
       "      <td>1</td>\n",
       "      <td>https://github.com/kevcisme/madelon_redux/blob...</td>\n",
       "      <td>10</td>\n",
       "      <td>0</td>\n",
       "      <td>Part_IV_Project_3-checkpoint_BASE_63907.ipynb</td>\n",
       "      <td>https://github.com/kevcisme</td>\n",
       "      <td>24496260</td>\n",
       "      <td>kevcisme</td>\n",
       "      <td>ipynb/.ipynb_checkpoints/Part_IV_Project_3-che...</td>\n",
       "      <td>1</td>\n",
       "      <td>NaN</td>\n",
       "      <td>False</td>\n",
       "      <td>https://github.com/kevcisme/madelon_redux</td>\n",
       "      <td>95729593</td>\n",
       "      <td>madelon_redux</td>\n",
       "      <td>False</td>\n",
       "    </tr>\n",
       "    <tr>\n",
       "      <th>2</th>\n",
       "      <td>2</td>\n",
       "      <td>https://github.com/HaraldoFilho/DLND-Projects/...</td>\n",
       "      <td>10</td>\n",
       "      <td>0</td>\n",
       "      <td>_.ipynb</td>\n",
       "      <td>https://github.com/HaraldoFilho</td>\n",
       "      <td>15271881</td>\n",
       "      <td>HaraldoFilho</td>\n",
       "      <td>_.ipynb</td>\n",
       "      <td>1</td>\n",
       "      <td>Index for the projects of the Udacity's \"Deep ...</td>\n",
       "      <td>False</td>\n",
       "      <td>https://github.com/HaraldoFilho/DLND-Projects</td>\n",
       "      <td>88182909</td>\n",
       "      <td>DLND-Projects</td>\n",
       "      <td>False</td>\n",
       "    </tr>\n",
       "    <tr>\n",
       "      <th>3</th>\n",
       "      <td>3</td>\n",
       "      <td>https://github.com/mhjensen/CPMLS/blob/4a5b37e...</td>\n",
       "      <td>10</td>\n",
       "      <td>0</td>\n",
       "      <td>csexmas2015.ipynb</td>\n",
       "      <td>https://github.com/mhjensen</td>\n",
       "      <td>2732953</td>\n",
       "      <td>mhjensen</td>\n",
       "      <td>doc/pub/CSETalks/csexmas2015/ipynb/csexmas2015...</td>\n",
       "      <td>1</td>\n",
       "      <td>Master program in Computational Science. The l...</td>\n",
       "      <td>False</td>\n",
       "      <td>https://github.com/mhjensen/CPMLS</td>\n",
       "      <td>35169104</td>\n",
       "      <td>CPMLS</td>\n",
       "      <td>False</td>\n",
       "    </tr>\n",
       "    <tr>\n",
       "      <th>4</th>\n",
       "      <td>4</td>\n",
       "      <td>https://github.com/freqn/atom_configuration/bl...</td>\n",
       "      <td>10</td>\n",
       "      <td>0</td>\n",
       "      <td>jupyter.ipynb</td>\n",
       "      <td>https://github.com/freqn</td>\n",
       "      <td>3611075</td>\n",
       "      <td>freqn</td>\n",
       "      <td>packages/file-icons/examples/jupyter.ipynb</td>\n",
       "      <td>1</td>\n",
       "      <td>Atom Config</td>\n",
       "      <td>False</td>\n",
       "      <td>https://github.com/freqn/atom_configuration</td>\n",
       "      <td>57460377</td>\n",
       "      <td>atom_configuration</td>\n",
       "      <td>False</td>\n",
       "    </tr>\n",
       "  </tbody>\n",
       "</table>\n",
       "</div>"
      ],
      "text/plain": [
       "   nb_id                                           html_url  max_filesize  \\\n",
       "0      0  https://github.com/dalequark/emotivExperiment/...            10   \n",
       "1      1  https://github.com/kevcisme/madelon_redux/blob...            10   \n",
       "2      2  https://github.com/HaraldoFilho/DLND-Projects/...            10   \n",
       "3      3  https://github.com/mhjensen/CPMLS/blob/4a5b37e...            10   \n",
       "4      4  https://github.com/freqn/atom_configuration/bl...            10   \n",
       "\n",
       "   min_filesize                                           name  \\\n",
       "0             0                       EmotivDataAnalysis.ipynb   \n",
       "1             0  Part_IV_Project_3-checkpoint_BASE_63907.ipynb   \n",
       "2             0                                        _.ipynb   \n",
       "3             0                              csexmas2015.ipynb   \n",
       "4             0                                  jupyter.ipynb   \n",
       "\n",
       "                    owner_html_url  owner_id   owner_login  \\\n",
       "0     https://github.com/dalequark   2328571     dalequark   \n",
       "1      https://github.com/kevcisme  24496260      kevcisme   \n",
       "2  https://github.com/HaraldoFilho  15271881  HaraldoFilho   \n",
       "3      https://github.com/mhjensen   2732953      mhjensen   \n",
       "4         https://github.com/freqn   3611075         freqn   \n",
       "\n",
       "                                                path  query_page  \\\n",
       "0                     ipynb/EmotivDataAnalysis.ipynb           1   \n",
       "1  ipynb/.ipynb_checkpoints/Part_IV_Project_3-che...           1   \n",
       "2                                            _.ipynb           1   \n",
       "3  doc/pub/CSETalks/csexmas2015/ipynb/csexmas2015...           1   \n",
       "4         packages/file-icons/examples/jupyter.ipynb           1   \n",
       "\n",
       "                                    repo_description  repo_fork  \\\n",
       "0                                                NaN      False   \n",
       "1                                                NaN      False   \n",
       "2  Index for the projects of the Udacity's \"Deep ...      False   \n",
       "3  Master program in Computational Science. The l...      False   \n",
       "4                                        Atom Config      False   \n",
       "\n",
       "                                   repo_html_url   repo_id  \\\n",
       "0  https://github.com/dalequark/emotivExperiment  26093748   \n",
       "1      https://github.com/kevcisme/madelon_redux  95729593   \n",
       "2  https://github.com/HaraldoFilho/DLND-Projects  88182909   \n",
       "3              https://github.com/mhjensen/CPMLS  35169104   \n",
       "4    https://github.com/freqn/atom_configuration  57460377   \n",
       "\n",
       "            repo_name  repo_private  \n",
       "0    emotivExperiment         False  \n",
       "1       madelon_redux         False  \n",
       "2       DLND-Projects         False  \n",
       "3               CPMLS         False  \n",
       "4  atom_configuration         False  "
      ]
     },
     "execution_count": 4,
     "metadata": {},
     "output_type": "execute_result"
    }
   ],
   "source": [
    "df = pd.read_csv('../data/csv/nb_metadata.csv')\n",
    "df.rename(columns = {'Unnamed: 0':'nb_id'}, inplace = True)\n",
    "print(df.shape)\n",
    "df.head()"
   ]
  },
  {
   "cell_type": "markdown",
   "metadata": {
    "comet_cell_id": "230127285d59f"
   },
   "source": [
    "First check that we have no duplicate notebook ids"
   ]
  },
  {
   "cell_type": "code",
   "execution_count": 5,
   "metadata": {
    "comet_cell_id": "11b2e14c565a9"
   },
   "outputs": [
    {
     "data": {
      "text/plain": [
       "1"
      ]
     },
     "execution_count": 5,
     "metadata": {},
     "output_type": "execute_result"
    }
   ],
   "source": [
    "df['nb_id'].value_counts().max()"
   ]
  },
  {
   "cell_type": "markdown",
   "metadata": {
    "comet_cell_id": "a0d5d4be024e6"
   },
   "source": [
    "## Check if we downloaded file for each notebook"
   ]
  },
  {
   "cell_type": "markdown",
   "metadata": {
    "comet_cell_id": "9a9224a1224c2"
   },
   "source": [
    "Then check that we have a nb file for every notebook in here. For speed, we will want a sorted list of ints for the filenames to be able to compare our nb list to."
   ]
  },
  {
   "cell_type": "code",
   "execution_count": 7,
   "metadata": {
    "comet_cell_id": "358dc1087879e"
   },
   "outputs": [
    {
     "data": {
      "text/plain": [
       "1253620"
      ]
     },
     "execution_count": 7,
     "metadata": {},
     "output_type": "execute_result"
    }
   ],
   "source": [
    "all_nbs = [f for f in os.listdir('../data/notebooks') if f.endswith('.ipynb')]\n",
    "len(all_nbs)"
   ]
  },
  {
   "cell_type": "markdown",
   "metadata": {
    "comet_cell_id": "2bc6dddd0552c"
   },
   "source": [
    "This number matches the number of rows in our dataframe, so that is a good sign, now to compare the ids of the notebooks we downloaded with those in our dataframe."
   ]
  },
  {
   "cell_type": "code",
   "execution_count": 8,
   "metadata": {
    "collapsed": true,
    "comet_cell_id": "d47fe5d8c7cc4"
   },
   "outputs": [],
   "source": [
    "# create sorted list of ints\n",
    "all_nb_ints = [int(f.split('_')[1].split('.')[0]) for f in all_nbs]\n",
    "all_nb_ints.sort()"
   ]
  },
  {
   "cell_type": "code",
   "execution_count": 9,
   "metadata": {
    "collapsed": true,
    "comet_cell_id": "0e455aeed84e9"
   },
   "outputs": [],
   "source": [
    "def write_to_log(msg):\n",
    "    f = '../logs/nb_cleaning_log.txt'\n",
    "    log_file = open(f, \"a\")\n",
    "    log_file.write(msg + \"\\n\")\n",
    "    log_file.close()"
   ]
  },
  {
   "cell_type": "code",
   "execution_count": 11,
   "metadata": {
    "comet_cell_id": "4a6a763e67b91"
   },
   "outputs": [
    {
     "name": "stdout",
     "output_type": "stream",
     "text": [
      "0 at 0.6025972366333008\n",
      "100000 at 6.051319122314453\n",
      "200000 at 11.501553297042847\n",
      "300000 at 17.03659224510193\n",
      "400000 at 22.630461931228638\n",
      "500000 at 28.15279531478882\n",
      "600000 at 33.680891275405884\n",
      "700000 at 39.16721820831299\n",
      "800000 at 44.61939096450806\n",
      "900000 at 50.07477021217346\n",
      "1000000 at 55.532562255859375\n",
      "1100000 at 60.98104405403137\n",
      "1200000 at 66.43209505081177\n",
      "69.36901021003723\n",
      "there were 0 missing notebooks\n"
     ]
    }
   ],
   "source": [
    "time1 = time.time()\n",
    "\n",
    "offset = 0\n",
    "\n",
    "for i, row in df.iterrows():\n",
    "    if i % 100000 == 0:\n",
    "        print('%s at %s' % (i, time.time() - time1))\n",
    "        \n",
    "    if all_nb_ints[i - offset] != row['nb_id']:\n",
    "        msg = \"nb %s not found\" % row['nb_id']\n",
    "        write_to_log(msg)\n",
    "        offset += 1\n",
    "        \n",
    "time2 = time.time()\n",
    "print(time2 - time1)\n",
    "print('there were %s missing notebooks' % offset)"
   ]
  },
  {
   "cell_type": "markdown",
   "metadata": {
    "comet_cell_id": "b5f3624027eec"
   },
   "source": [
    "It appears we have a file for every nb we attempted to download!"
   ]
  },
  {
   "cell_type": "markdown",
   "metadata": {
    "comet_cell_id": "cd2fe406dfd4a"
   },
   "source": [
    "## Check for files that did not download\n",
    "\n",
    "Now we should check for files that did not download. This could be because they moved or were renamed. A reasonable check would be to look for files outside their expected size range. It could be that we are just missing files with an expected small bytes size (i.e. empty or malformatted files)"
   ]
  },
  {
   "cell_type": "code",
   "execution_count": 12,
   "metadata": {
    "collapsed": true,
    "comet_cell_id": "4273705f73dde"
   },
   "outputs": [],
   "source": [
    "df['filesize'] = df.apply(lambda x: os.path.getsize('../data/notebooks/nb_%s.ipynb' % x['nb_id']), axis=1)"
   ]
  },
  {
   "cell_type": "code",
   "execution_count": 13,
   "metadata": {
    "comet_cell_id": "25c762488debe"
   },
   "outputs": [
    {
     "data": {
      "text/plain": [
       "True     1246996\n",
       "False       6624\n",
       "Name: filesize_in_range, dtype: int64"
      ]
     },
     "execution_count": 13,
     "metadata": {},
     "output_type": "execute_result"
    }
   ],
   "source": [
    "df['filesize_in_range'] = (np.logical_and(df['filesize'] <= df['max_filesize'], df['filesize'] >= df['min_filesize']))\n",
    "df['filesize_in_range'].value_counts()"
   ]
  },
  {
   "cell_type": "code",
   "execution_count": 18,
   "metadata": {
    "collapsed": true,
    "comet_cell_id": "98b3b3b7769f9"
   },
   "outputs": [],
   "source": [
    "df_out_of_range = df[~df['filesize_in_range']]"
   ]
  },
  {
   "cell_type": "code",
   "execution_count": 20,
   "metadata": {
    "comet_cell_id": "ad4f77fe26c92"
   },
   "outputs": [
    {
     "data": {
      "image/png": "[encoded data removed]",
      "text/plain": [
       "<matplotlib.figure.Figure at 0x169c34c88>"
      ]
     },
     "metadata": {},
     "output_type": "display_data"
    }
   ],
   "source": [
    "ax = sns.distplot(df_out_of_range['max_filesize'], kde=False, bins = np.logspace(0,9,25))\n",
    "ax.set_xscale('log')"
   ]
  },
  {
   "cell_type": "markdown",
   "metadata": {
    "comet_cell_id": "f7c4082a7ac1c"
   },
   "source": [
    "We have a healthy distribution here, meaning that we are missing files from all over the byte size spectrum. Let's look at a couple examples. My guess is we got 404 responses since the file moved."
   ]
  },
  {
   "cell_type": "code",
   "execution_count": 22,
   "metadata": {
    "comet_cell_id": "529ffe6d904d6"
   },
   "outputs": [
    {
     "name": "stdout",
     "output_type": "stream",
     "text": [
      "404: Not Found\n",
      "\n"
     ]
    }
   ],
   "source": [
    "f = '../data/notebooks/nb_%s.ipynb' % df_out_of_range.iloc[200]['nb_id']\n",
    "with open(f, 'r') as nb_file:\n",
    "    for l in nb_file:\n",
    "        print(l)"
   ]
  },
  {
   "cell_type": "markdown",
   "metadata": {
    "comet_cell_id": "5363386680a68"
   },
   "source": [
    "That is indeed the case. So it appears we are missing about 6,524 files here. This is not a large part of our sample, but still significant. We will not attempt to re-download these, assuming they were missing due to being renamed, moved, or deleted in the time between getting the notebook metadata from our Github API query, and actually trying to download the notebook files later.\n",
    "\n",
    "That is it for checking the nb downloads. Now to download [metadata about their repos](4_repo_readme_metadata_download.ipynb)."
   ]
  },
  {
   "cell_type": "code",
   "execution_count": null,
   "metadata": {
    "collapsed": true,
    "comet_cell_id": "491b5a6fc7447"
   },
   "outputs": [],
   "source": []
  }
 ],
 "metadata": {
  "comet_paths": [
   [
    "b47baa7f/Untitled.ipynb",
    1500584406095
   ],
   [
    "b47baa7f/4_analyzing_notebooks.ipynb",
    1500652675938
   ],
   [
    "b47baa7f/4_profiling_notebooks.ipynb",
    1500652709809
   ],
   [
    "d1dd24ab/4_profiling_notebooks.ipynb",
    1501096380566
   ],
   [
    "d1dd24ab/3_nb_cleaning.ipynb",
    1501097197011
   ]
  ],
  "comet_tracking": true,
  "kernelspec": {
   "display_name": "Python 3",
   "language": "python",
   "name": "python3"
  },
  "language_info": {
   "codemirror_mode": {
    "name": "ipython",
    "version": 3
   },
   "file_extension": ".py",
   "mimetype": "text/x-python",
   "name": "python",
   "nbconvert_exporter": "python",
   "pygments_lexer": "ipython3",
   "version": "3.6.4"
  }
 },
 "nbformat": 4,
 "nbformat_minor": 2
}
