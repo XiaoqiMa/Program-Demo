{
 "cells": [
  {
   "cell_type": "markdown",
   "metadata": {
    "comet_cell_id": "9ca85b43996ac"
   },
   "source": [
    "# Markdown Distribution\n",
    "\n",
    "The goal of this notebook is to determine where markdown cells are in the notebook.\n",
    "\n",
    "This analysis was a little messy and took a long time to run so we won't clean it up here."
   ]
  },
  {
   "cell_type": "code",
   "execution_count": 1,
   "metadata": {
    "collapsed": true,
    "comet_cell_id": "abd31f8f10e19"
   },
   "outputs": [],
   "source": [
    "import os\n",
    "import ast\n",
    "import time\n",
    "import json\n",
    "import datetime\n",
    "import math\n",
    "\n",
    "import numpy as np\n",
    "import pandas as pd\n",
    "import seaborn as sns\n",
    "import matplotlib.pyplot as plt\n",
    "\n",
    "%matplotlib inline"
   ]
  },
  {
   "cell_type": "markdown",
   "metadata": {
    "comet_cell_id": "29448fa139659"
   },
   "source": [
    "## 0. Import Data"
   ]
  },
  {
   "cell_type": "code",
   "execution_count": 3,
   "metadata": {
    "comet_cell_id": "0265f5c11c135"
   },
   "outputs": [],
   "source": [
    "# read data from CSV files\n",
    "df_cell = pd.read_csv('../data/csv/cell_metadata.csv')"
   ]
  },
  {
   "cell_type": "code",
   "execution_count": 4,
   "metadata": {
    "collapsed": true,
    "comet_cell_id": "8c768a243ee4d"
   },
   "outputs": [],
   "source": [
    "df_nb = pd.read_csv('../data/csv/nb_metadata.csv')"
   ]
  },
  {
   "cell_type": "markdown",
   "metadata": {
    "comet_cell_id": "c3c5b6ce75c0e"
   },
   "source": [
    "# 1. Profile NB length\n",
    "\n",
    "The overall goal is to find where markdown is more likely to occur. For now, let's calculate the number of cells and amount of content for each notebook we were abel to get cell data for"
   ]
  },
  {
   "cell_type": "code",
   "execution_count": 8,
   "metadata": {
    "comet_cell_id": "c72ef40ccefdc"
   },
   "outputs": [
    {
     "data": {
      "text/html": [
       "<div>\n",
       "<style>\n",
       "    .dataframe thead tr:only-child th {\n",
       "        text-align: right;\n",
       "    }\n",
       "\n",
       "    .dataframe thead th {\n",
       "        text-align: left;\n",
       "    }\n",
       "\n",
       "    .dataframe tbody tr th {\n",
       "        vertical-align: top;\n",
       "    }\n",
       "</style>\n",
       "<table border=\"1\" class=\"dataframe\">\n",
       "  <thead>\n",
       "    <tr style=\"text-align: right;\">\n",
       "      <th></th>\n",
       "      <th>num_cells</th>\n",
       "      <th>num_markdown_cells</th>\n",
       "      <th>num_words</th>\n",
       "      <th>num_code_cells</th>\n",
       "      <th>lines_of_code</th>\n",
       "      <th>nb_id</th>\n",
       "    </tr>\n",
       "    <tr>\n",
       "      <th>nb_id</th>\n",
       "      <th></th>\n",
       "      <th></th>\n",
       "      <th></th>\n",
       "      <th></th>\n",
       "      <th></th>\n",
       "      <th></th>\n",
       "    </tr>\n",
       "  </thead>\n",
       "  <tbody>\n",
       "    <tr>\n",
       "      <th>1261700</th>\n",
       "      <td>24</td>\n",
       "      <td>17</td>\n",
       "      <td>690.0</td>\n",
       "      <td>7</td>\n",
       "      <td>21.0</td>\n",
       "      <td>1261700</td>\n",
       "    </tr>\n",
       "    <tr>\n",
       "      <th>1261701</th>\n",
       "      <td>29</td>\n",
       "      <td>15</td>\n",
       "      <td>552.0</td>\n",
       "      <td>14</td>\n",
       "      <td>55.0</td>\n",
       "      <td>1261701</td>\n",
       "    </tr>\n",
       "    <tr>\n",
       "      <th>1261702</th>\n",
       "      <td>41</td>\n",
       "      <td>8</td>\n",
       "      <td>25.0</td>\n",
       "      <td>33</td>\n",
       "      <td>87.0</td>\n",
       "      <td>1261702</td>\n",
       "    </tr>\n",
       "    <tr>\n",
       "      <th>1261703</th>\n",
       "      <td>14</td>\n",
       "      <td>0</td>\n",
       "      <td>NaN</td>\n",
       "      <td>14</td>\n",
       "      <td>171.0</td>\n",
       "      <td>1261703</td>\n",
       "    </tr>\n",
       "    <tr>\n",
       "      <th>1261704</th>\n",
       "      <td>14</td>\n",
       "      <td>0</td>\n",
       "      <td>NaN</td>\n",
       "      <td>14</td>\n",
       "      <td>171.0</td>\n",
       "      <td>1261704</td>\n",
       "    </tr>\n",
       "  </tbody>\n",
       "</table>\n",
       "</div>"
      ],
      "text/plain": [
       "         num_cells  num_markdown_cells  num_words  num_code_cells  \\\n",
       "nb_id                                                               \n",
       "1261700         24                  17      690.0               7   \n",
       "1261701         29                  15      552.0              14   \n",
       "1261702         41                   8       25.0              33   \n",
       "1261703         14                   0        NaN              14   \n",
       "1261704         14                   0        NaN              14   \n",
       "\n",
       "         lines_of_code    nb_id  \n",
       "nb_id                            \n",
       "1261700           21.0  1261700  \n",
       "1261701           55.0  1261701  \n",
       "1261702           87.0  1261702  \n",
       "1261703          171.0  1261703  \n",
       "1261704          171.0  1261704  "
      ]
     },
     "execution_count": 8,
     "metadata": {},
     "output_type": "execute_result"
    }
   ],
   "source": [
    "nb_stats = df_cell[['nb_id','cell_index', 'num_words', 'lines_of_code']].groupby('nb_id').agg(['count', 'sum'])\n",
    "nb_stats.columns = ['num_cells', 'cell_sum', 'num_markdown_cells', 'num_words', 'num_code_cells', 'lines_of_code']\n",
    "del nb_stats['cell_sum']\n",
    "nb_stats['nb_id'] = nb_stats.index\n",
    "nb_stats.tail()"
   ]
  },
  {
   "cell_type": "code",
   "execution_count": 9,
   "metadata": {
    "comet_cell_id": "581d6c5fc6944"
   },
   "outputs": [
    {
     "data": {
      "text/html": [
       "<div>\n",
       "<style>\n",
       "    .dataframe thead tr:only-child th {\n",
       "        text-align: right;\n",
       "    }\n",
       "\n",
       "    .dataframe thead th {\n",
       "        text-align: left;\n",
       "    }\n",
       "\n",
       "    .dataframe tbody tr th {\n",
       "        vertical-align: top;\n",
       "    }\n",
       "</style>\n",
       "<table border=\"1\" class=\"dataframe\">\n",
       "  <thead>\n",
       "    <tr style=\"text-align: right;\">\n",
       "      <th></th>\n",
       "      <th>Unnamed: 0</th>\n",
       "      <th>Unnamed: 0.1</th>\n",
       "      <th>cell_index</th>\n",
       "      <th>cell_type</th>\n",
       "      <th>display_data_keys</th>\n",
       "      <th>error_names</th>\n",
       "      <th>error_values</th>\n",
       "      <th>execute_result_keys</th>\n",
       "      <th>lines_of_code_x</th>\n",
       "      <th>nb_id</th>\n",
       "      <th>...</th>\n",
       "      <th>name_functions</th>\n",
       "      <th>num_classes</th>\n",
       "      <th>name_classes</th>\n",
       "      <th>num_comment_lines</th>\n",
       "      <th>num_comment_words</th>\n",
       "      <th>num_cells</th>\n",
       "      <th>num_markdown_cells</th>\n",
       "      <th>num_words_y</th>\n",
       "      <th>num_code_cells</th>\n",
       "      <th>lines_of_code_y</th>\n",
       "    </tr>\n",
       "  </thead>\n",
       "  <tbody>\n",
       "    <tr>\n",
       "      <th>0</th>\n",
       "      <td>0</td>\n",
       "      <td>0</td>\n",
       "      <td>0</td>\n",
       "      <td>heading</td>\n",
       "      <td>[]</td>\n",
       "      <td>[]</td>\n",
       "      <td>[]</td>\n",
       "      <td>[]</td>\n",
       "      <td>NaN</td>\n",
       "      <td>609</td>\n",
       "      <td>...</td>\n",
       "      <td>[]</td>\n",
       "      <td>0</td>\n",
       "      <td>[]</td>\n",
       "      <td>0</td>\n",
       "      <td>0</td>\n",
       "      <td>12</td>\n",
       "      <td>4</td>\n",
       "      <td>33.0</td>\n",
       "      <td>8</td>\n",
       "      <td>7.0</td>\n",
       "    </tr>\n",
       "    <tr>\n",
       "      <th>1</th>\n",
       "      <td>1</td>\n",
       "      <td>1</td>\n",
       "      <td>1</td>\n",
       "      <td>markdown</td>\n",
       "      <td>[]</td>\n",
       "      <td>[]</td>\n",
       "      <td>[]</td>\n",
       "      <td>[]</td>\n",
       "      <td>NaN</td>\n",
       "      <td>609</td>\n",
       "      <td>...</td>\n",
       "      <td>[]</td>\n",
       "      <td>0</td>\n",
       "      <td>[]</td>\n",
       "      <td>0</td>\n",
       "      <td>0</td>\n",
       "      <td>12</td>\n",
       "      <td>4</td>\n",
       "      <td>33.0</td>\n",
       "      <td>8</td>\n",
       "      <td>7.0</td>\n",
       "    </tr>\n",
       "    <tr>\n",
       "      <th>2</th>\n",
       "      <td>2</td>\n",
       "      <td>2</td>\n",
       "      <td>2</td>\n",
       "      <td>code</td>\n",
       "      <td>[]</td>\n",
       "      <td>[]</td>\n",
       "      <td>[]</td>\n",
       "      <td>[]</td>\n",
       "      <td>1.0</td>\n",
       "      <td>609</td>\n",
       "      <td>...</td>\n",
       "      <td>[]</td>\n",
       "      <td>0</td>\n",
       "      <td>[]</td>\n",
       "      <td>0</td>\n",
       "      <td>0</td>\n",
       "      <td>12</td>\n",
       "      <td>4</td>\n",
       "      <td>33.0</td>\n",
       "      <td>8</td>\n",
       "      <td>7.0</td>\n",
       "    </tr>\n",
       "    <tr>\n",
       "      <th>3</th>\n",
       "      <td>3</td>\n",
       "      <td>3</td>\n",
       "      <td>3</td>\n",
       "      <td>code</td>\n",
       "      <td>[]</td>\n",
       "      <td>[]</td>\n",
       "      <td>[]</td>\n",
       "      <td>[]</td>\n",
       "      <td>1.0</td>\n",
       "      <td>609</td>\n",
       "      <td>...</td>\n",
       "      <td>[]</td>\n",
       "      <td>0</td>\n",
       "      <td>[]</td>\n",
       "      <td>0</td>\n",
       "      <td>0</td>\n",
       "      <td>12</td>\n",
       "      <td>4</td>\n",
       "      <td>33.0</td>\n",
       "      <td>8</td>\n",
       "      <td>7.0</td>\n",
       "    </tr>\n",
       "    <tr>\n",
       "      <th>4</th>\n",
       "      <td>4</td>\n",
       "      <td>4</td>\n",
       "      <td>4</td>\n",
       "      <td>markdown</td>\n",
       "      <td>[]</td>\n",
       "      <td>[]</td>\n",
       "      <td>[]</td>\n",
       "      <td>[]</td>\n",
       "      <td>NaN</td>\n",
       "      <td>609</td>\n",
       "      <td>...</td>\n",
       "      <td>[]</td>\n",
       "      <td>0</td>\n",
       "      <td>[]</td>\n",
       "      <td>0</td>\n",
       "      <td>0</td>\n",
       "      <td>12</td>\n",
       "      <td>4</td>\n",
       "      <td>33.0</td>\n",
       "      <td>8</td>\n",
       "      <td>7.0</td>\n",
       "    </tr>\n",
       "  </tbody>\n",
       "</table>\n",
       "<p>5 rows × 33 columns</p>\n",
       "</div>"
      ],
      "text/plain": [
       "   Unnamed: 0  Unnamed: 0.1  cell_index cell_type display_data_keys  \\\n",
       "0           0             0           0   heading                []   \n",
       "1           1             1           1  markdown                []   \n",
       "2           2             2           2      code                []   \n",
       "3           3             3           3      code                []   \n",
       "4           4             4           4  markdown                []   \n",
       "\n",
       "  error_names error_values execute_result_keys  lines_of_code_x  nb_id  \\\n",
       "0          []           []                  []              NaN    609   \n",
       "1          []           []                  []              NaN    609   \n",
       "2          []           []                  []              1.0    609   \n",
       "3          []           []                  []              1.0    609   \n",
       "4          []           []                  []              NaN    609   \n",
       "\n",
       "        ...        name_functions  num_classes  name_classes  \\\n",
       "0       ...                    []            0            []   \n",
       "1       ...                    []            0            []   \n",
       "2       ...                    []            0            []   \n",
       "3       ...                    []            0            []   \n",
       "4       ...                    []            0            []   \n",
       "\n",
       "   num_comment_lines  num_comment_words  num_cells  num_markdown_cells  \\\n",
       "0                  0                  0         12                   4   \n",
       "1                  0                  0         12                   4   \n",
       "2                  0                  0         12                   4   \n",
       "3                  0                  0         12                   4   \n",
       "4                  0                  0         12                   4   \n",
       "\n",
       "  num_words_y  num_code_cells lines_of_code_y  \n",
       "0        33.0               8             7.0  \n",
       "1        33.0               8             7.0  \n",
       "2        33.0               8             7.0  \n",
       "3        33.0               8             7.0  \n",
       "4        33.0               8             7.0  \n",
       "\n",
       "[5 rows x 33 columns]"
      ]
     },
     "execution_count": 9,
     "metadata": {},
     "output_type": "execute_result"
    }
   ],
   "source": [
    "df_cell_w_stats = df_cell.merge(nb_stats, how='left', on='nb_id')\n",
    "df_cell_w_stats.head()"
   ]
  },
  {
   "cell_type": "code",
   "execution_count": 10,
   "metadata": {
    "collapsed": true,
    "comet_cell_id": "efe632b604d7d"
   },
   "outputs": [],
   "source": [
    "df_cell_w_stats.fillna(0, inplace=True)"
   ]
  },
  {
   "cell_type": "markdown",
   "metadata": {
    "comet_cell_id": "45e23417ec5ae"
   },
   "source": [
    "# 2. Test Calucluations on nbs 100 cells or less\n",
    "\n",
    "It is easier to do the calculations for notebooks under 100 cells, at least for the binning I am doing. I may clean up this code later, but for now, I'll drop all notebooks longer than 100 cells, which is only 40,000 of the 1.25 million."
   ]
  },
  {
   "cell_type": "code",
   "execution_count": 9,
   "metadata": {
    "comet_cell_id": "6508b2b2c7e9a"
   },
   "outputs": [
    {
     "name": "stdout",
     "output_type": "stream",
     "text": [
      "39033\n",
      "1200322\n"
     ]
    }
   ],
   "source": [
    "print(nb_stats[nb_stats['num_cells'] > 100].shape[0])\n",
    "print(nb_stats[nb_stats['num_cells'] <= 100].shape[0])"
   ]
  },
  {
   "cell_type": "code",
   "execution_count": 10,
   "metadata": {
    "comet_cell_id": "d0b2dc1e6f658"
   },
   "outputs": [
    {
     "data": {
      "text/plain": [
       "(28764608, 26)"
      ]
     },
     "execution_count": 10,
     "metadata": {},
     "output_type": "execute_result"
    }
   ],
   "source": [
    "df_cell_w_stats_100 = df_cell_w_stats[df_cell_w_stats.num_cells <= 100]\n",
    "df_cell_w_stats_100.shape"
   ]
  },
  {
   "cell_type": "code",
   "execution_count": 40,
   "metadata": {
    "collapsed": true,
    "comet_cell_id": "9e3162b45b244"
   },
   "outputs": [],
   "source": [
    "def count_types(df):\n",
    "    # create a master count array for code and for markdown\n",
    "    markdown_counts = np.zeros(100)\n",
    "    code_counts = np.zeros(100)\n",
    "\n",
    "    for i, row in df.iterrows():\n",
    "        ci = row['cell_index']\n",
    "        nc = float(row['num_cells'])\n",
    "        if row['cell_type'] in ['heading', 'markdown']:\n",
    "            if ci == 0:\n",
    "                start = 0\n",
    "            else:\n",
    "                start = int(math.ceil((ci) / nc * 100))\n",
    "            end = int(math.floor((ci + 1) / nc * 100))\n",
    "            for j in range(start, end):\n",
    "                markdown_counts[j] += 1\n",
    "\n",
    "        elif row['cell_type'] == 'code':\n",
    "            if ci == 0:\n",
    "                start = 0\n",
    "            else:\n",
    "                start = int(math.ceil((ci) / nc * 100))\n",
    "            end = int(math.floor((ci + 1) / nc * 100))\n",
    "            for j in range(start, end):\n",
    "                code_counts[j] += 1\n",
    "    return markdown_counts, code_counts"
   ]
  },
  {
   "cell_type": "code",
   "execution_count": 50,
   "metadata": {
    "collapsed": true,
    "comet_cell_id": "ab3a0b5b49786"
   },
   "outputs": [],
   "source": [
    "mc, cc = count_types(df_cell_len_under_100)"
   ]
  },
  {
   "cell_type": "code",
   "execution_count": 55,
   "metadata": {
    "comet_cell_id": "59da8758b9826"
   },
   "outputs": [
    {
     "data": {
      "text/html": [
       "<div>\n",
       "<style>\n",
       "    .dataframe thead tr:only-child th {\n",
       "        text-align: right;\n",
       "    }\n",
       "\n",
       "    .dataframe thead th {\n",
       "        text-align: left;\n",
       "    }\n",
       "\n",
       "    .dataframe tbody tr th {\n",
       "        vertical-align: top;\n",
       "    }\n",
       "</style>\n",
       "<table border=\"1\" class=\"dataframe\">\n",
       "  <thead>\n",
       "    <tr style=\"text-align: right;\">\n",
       "      <th></th>\n",
       "      <th>markdown</th>\n",
       "      <th>code</th>\n",
       "    </tr>\n",
       "  </thead>\n",
       "  <tbody>\n",
       "    <tr>\n",
       "      <th>0</th>\n",
       "      <td>681656.0</td>\n",
       "      <td>514994.0</td>\n",
       "    </tr>\n",
       "    <tr>\n",
       "      <th>1</th>\n",
       "      <td>572628.0</td>\n",
       "      <td>485104.0</td>\n",
       "    </tr>\n",
       "    <tr>\n",
       "      <th>2</th>\n",
       "      <td>500821.0</td>\n",
       "      <td>476132.0</td>\n",
       "    </tr>\n",
       "    <tr>\n",
       "      <th>3</th>\n",
       "      <td>466836.0</td>\n",
       "      <td>494837.0</td>\n",
       "    </tr>\n",
       "    <tr>\n",
       "      <th>4</th>\n",
       "      <td>432969.0</td>\n",
       "      <td>527000.0</td>\n",
       "    </tr>\n",
       "  </tbody>\n",
       "</table>\n",
       "</div>"
      ],
      "text/plain": [
       "   markdown      code\n",
       "0  681656.0  514994.0\n",
       "1  572628.0  485104.0\n",
       "2  500821.0  476132.0\n",
       "3  466836.0  494837.0\n",
       "4  432969.0  527000.0"
      ]
     },
     "execution_count": 55,
     "metadata": {},
     "output_type": "execute_result"
    }
   ],
   "source": [
    "cell_type_counts = pd.DataFrame(mc)\n",
    "cell_type_counts.columns = ['markdown']\n",
    "cell_type_counts['code'] = cc\n",
    "cell_type_counts.head()"
   ]
  },
  {
   "cell_type": "code",
   "execution_count": 61,
   "metadata": {
    "collapsed": true,
    "comet_cell_id": "b7ad98119bd62"
   },
   "outputs": [],
   "source": [
    "cell_type_counts['markdown_pct'] = cell_type_counts['markdown'] / (cell_type_counts['markdown'] + cell_type_counts['code'])\n",
    "cell_type_counts['code_pct'] = cell_type_counts['code'] / (cell_type_counts['markdown'] + cell_type_counts['code'])"
   ]
  },
  {
   "cell_type": "code",
   "execution_count": 64,
   "metadata": {
    "collapsed": true,
    "comet_cell_id": "69ee9d2a1de1b"
   },
   "outputs": [],
   "source": [
    "cell_type_counts['total'] = cell_type_counts['markdown'] + cell_type_counts['code']"
   ]
  },
  {
   "cell_type": "code",
   "execution_count": 65,
   "metadata": {
    "comet_cell_id": "ecbc13112099c"
   },
   "outputs": [
    {
     "data": {
      "text/plain": [
       "<matplotlib.axes._subplots.AxesSubplot at 0x1d94cdac8>"
      ]
     },
     "execution_count": 65,
     "metadata": {},
     "output_type": "execute_result"
    },
    {
     "data": {
      "image/png": "[encoded data removed]",
      "text/plain": [
       "<matplotlib.figure.Figure at 0x1d9432320>"
      ]
     },
     "metadata": {},
     "output_type": "display_data"
    }
   ],
   "source": [
    "sns.tsplot(cell_type_counts['total'])"
   ]
  },
  {
   "cell_type": "code",
   "execution_count": 62,
   "metadata": {
    "comet_cell_id": "fff309d1e2c2"
   },
   "outputs": [
    {
     "data": {
      "text/plain": [
       "<matplotlib.axes._subplots.AxesSubplot at 0x1d9697828>"
      ]
     },
     "execution_count": 62,
     "metadata": {},
     "output_type": "execute_result"
    },
    {
     "data": {
      "image/png": "[encoded data removed]",
      "text/plain": [
       "<matplotlib.figure.Figure at 0x11d9b8780>"
      ]
     },
     "metadata": {},
     "output_type": "display_data"
    }
   ],
   "source": [
    "sns.tsplot(cell_type_counts['markdown_pct'])"
   ]
  },
  {
   "cell_type": "code",
   "execution_count": 63,
   "metadata": {
    "comet_cell_id": "5256f47cdcf6e"
   },
   "outputs": [
    {
     "data": {
      "text/plain": [
       "<matplotlib.axes._subplots.AxesSubplot at 0x1d96eee10>"
      ]
     },
     "execution_count": 63,
     "metadata": {},
     "output_type": "execute_result"
    },
    {
     "data": {
      "image/png": "[encoded data removed]",
      "text/plain": [
       "<matplotlib.figure.Figure at 0x1d95f8128>"
      ]
     },
     "metadata": {},
     "output_type": "display_data"
    }
   ],
   "source": [
    "sns.tsplot(cell_type_counts['code_pct'])"
   ]
  },
  {
   "cell_type": "code",
   "execution_count": 14,
   "metadata": {
    "collapsed": true,
    "comet_cell_id": "4bdce9f7f743c"
   },
   "outputs": [],
   "source": [
    "# cell_type_dist = df_cell.iloc[0:100].groupby('cell_index')['cell_type'].value_counts()\n",
    "# cell_type_dist = df_cell.groupby(['cell_index', 'cell_type']).size().unstack(fill_value=0)"
   ]
  },
  {
   "cell_type": "markdown",
   "metadata": {
    "collapsed": true,
    "comet_cell_id": "ae79942eeb4f1"
   },
   "source": [
    "# 3. Debug Code\n",
    "\n",
    "There is an issues with the boundaries in my binning above. Let's fix that, and redo the analysis, also considering the amount of code or markdown in each cell."
   ]
  },
  {
   "cell_type": "code",
   "execution_count": 14,
   "metadata": {
    "collapsed": true,
    "comet_cell_id": "7c117fe84e29"
   },
   "outputs": [],
   "source": [
    "def count_types(df):\n",
    "    # create a master count array for code and for markdown\n",
    "    markdown_counts = np.zeros(100)\n",
    "    code_counts = np.zeros(100)\n",
    "    other_counts = np.zeros(100)\n",
    "    \n",
    "    markdown_counts_prop = np.zeros(100)\n",
    "    code_counts_prop = np.zeros(100)\n",
    "\n",
    "    for i, row in df.iterrows():\n",
    "        \n",
    "        ci = row['cell_index']\n",
    "        nc = float(row['num_cells'])\n",
    "        \n",
    "        start = int(math.ceil((ci) / nc * 100))\n",
    "        end = int(math.ceil((ci + 1) / nc * 100))\n",
    "        \n",
    "        if row['cell_type'] in ['heading', 'markdown']:\n",
    "            markdown_counts[start: end] += 1\n",
    "            if row['num_words_x'] > 0 and row['num_words_y'] > 0:\n",
    "                markdown_counts_prop[start: end] += (row['num_words_x'] / row['num_words_y'])\n",
    "\n",
    "        elif row['cell_type'] == 'code':\n",
    "            code_counts[start: end] += 1\n",
    "            if row['lines_of_code_x'] > 0 and row['lines_of_code_y'] > 0:\n",
    "                code_counts_prop[start: end] += (row['lines_of_code_x'] / row['lines_of_code_y'])\n",
    "        \n",
    "        else:\n",
    "            other_counts[start:end] += 1\n",
    "            \n",
    "        # print(\"%s : %s\" % (start, end))\n",
    "        \n",
    "    return markdown_counts, code_counts, other_counts, markdown_counts_prop, code_counts_prop"
   ]
  },
  {
   "cell_type": "code",
   "execution_count": 15,
   "metadata": {
    "comet_cell_id": "76b60a8b409a4"
   },
   "outputs": [
    {
     "ename": "KeyboardInterrupt",
     "evalue": "",
     "output_type": "error",
     "traceback": [
      "\u001b[0;31m---------------------------------------------------------------------------\u001b[0m",
      "\u001b[0;31mKeyboardInterrupt\u001b[0m                         Traceback (most recent call last)",
      "\u001b[0;32m<ipython-input-15-072fa5d4421b>\u001b[0m in \u001b[0;36m<module>\u001b[0;34m()\u001b[0m\n\u001b[0;32m----> 1\u001b[0;31m \u001b[0mmc\u001b[0m\u001b[0;34m,\u001b[0m \u001b[0mcc\u001b[0m\u001b[0;34m,\u001b[0m \u001b[0moc\u001b[0m\u001b[0;34m,\u001b[0m \u001b[0mmcp\u001b[0m\u001b[0;34m,\u001b[0m \u001b[0mccp\u001b[0m \u001b[0;34m=\u001b[0m \u001b[0mcount_types\u001b[0m\u001b[0;34m(\u001b[0m\u001b[0mdf_cell_w_stats_100\u001b[0m\u001b[0;34m)\u001b[0m\u001b[0;34m\u001b[0m\u001b[0m\n\u001b[0m",
      "\u001b[0;32m<ipython-input-14-66cb61aaf18f>\u001b[0m in \u001b[0;36mcount_types\u001b[0;34m(df)\u001b[0m\n\u001b[1;32m      8\u001b[0m     \u001b[0mcode_counts_prop\u001b[0m \u001b[0;34m=\u001b[0m \u001b[0mnp\u001b[0m\u001b[0;34m.\u001b[0m\u001b[0mzeros\u001b[0m\u001b[0;34m(\u001b[0m\u001b[0;36m100\u001b[0m\u001b[0;34m)\u001b[0m\u001b[0;34m\u001b[0m\u001b[0m\n\u001b[1;32m      9\u001b[0m \u001b[0;34m\u001b[0m\u001b[0m\n\u001b[0;32m---> 10\u001b[0;31m     \u001b[0;32mfor\u001b[0m \u001b[0mi\u001b[0m\u001b[0;34m,\u001b[0m \u001b[0mrow\u001b[0m \u001b[0;32min\u001b[0m \u001b[0mdf\u001b[0m\u001b[0;34m.\u001b[0m\u001b[0miterrows\u001b[0m\u001b[0;34m(\u001b[0m\u001b[0;34m)\u001b[0m\u001b[0;34m:\u001b[0m\u001b[0;34m\u001b[0m\u001b[0m\n\u001b[0m\u001b[1;32m     11\u001b[0m \u001b[0;34m\u001b[0m\u001b[0m\n\u001b[1;32m     12\u001b[0m         \u001b[0mci\u001b[0m \u001b[0;34m=\u001b[0m \u001b[0mrow\u001b[0m\u001b[0;34m[\u001b[0m\u001b[0;34m'cell_index'\u001b[0m\u001b[0;34m]\u001b[0m\u001b[0;34m\u001b[0m\u001b[0m\n",
      "\u001b[0;32m/Users/doug/anaconda/lib/python3.6/site-packages/pandas/core/frame.py\u001b[0m in \u001b[0;36miterrows\u001b[0;34m(self)\u001b[0m\n\u001b[1;32m    706\u001b[0m         \u001b[0mklass\u001b[0m \u001b[0;34m=\u001b[0m \u001b[0mself\u001b[0m\u001b[0;34m.\u001b[0m\u001b[0m_constructor_sliced\u001b[0m\u001b[0;34m\u001b[0m\u001b[0m\n\u001b[1;32m    707\u001b[0m         \u001b[0;32mfor\u001b[0m \u001b[0mk\u001b[0m\u001b[0;34m,\u001b[0m \u001b[0mv\u001b[0m \u001b[0;32min\u001b[0m \u001b[0mzip\u001b[0m\u001b[0;34m(\u001b[0m\u001b[0mself\u001b[0m\u001b[0;34m.\u001b[0m\u001b[0mindex\u001b[0m\u001b[0;34m,\u001b[0m \u001b[0mself\u001b[0m\u001b[0;34m.\u001b[0m\u001b[0mvalues\u001b[0m\u001b[0;34m)\u001b[0m\u001b[0;34m:\u001b[0m\u001b[0;34m\u001b[0m\u001b[0m\n\u001b[0;32m--> 708\u001b[0;31m             \u001b[0ms\u001b[0m \u001b[0;34m=\u001b[0m \u001b[0mklass\u001b[0m\u001b[0;34m(\u001b[0m\u001b[0mv\u001b[0m\u001b[0;34m,\u001b[0m \u001b[0mindex\u001b[0m\u001b[0;34m=\u001b[0m\u001b[0mcolumns\u001b[0m\u001b[0;34m,\u001b[0m \u001b[0mname\u001b[0m\u001b[0;34m=\u001b[0m\u001b[0mk\u001b[0m\u001b[0;34m)\u001b[0m\u001b[0;34m\u001b[0m\u001b[0m\n\u001b[0m\u001b[1;32m    709\u001b[0m             \u001b[0;32myield\u001b[0m \u001b[0mk\u001b[0m\u001b[0;34m,\u001b[0m \u001b[0ms\u001b[0m\u001b[0;34m\u001b[0m\u001b[0m\n\u001b[1;32m    710\u001b[0m \u001b[0;34m\u001b[0m\u001b[0m\n",
      "\u001b[0;32m/Users/doug/anaconda/lib/python3.6/site-packages/pandas/core/series.py\u001b[0m in \u001b[0;36m__init__\u001b[0;34m(self, data, index, dtype, name, copy, fastpath)\u001b[0m\n\u001b[1;32m    248\u001b[0m                                        raise_cast_failure=True)\n\u001b[1;32m    249\u001b[0m \u001b[0;34m\u001b[0m\u001b[0m\n\u001b[0;32m--> 250\u001b[0;31m                 \u001b[0mdata\u001b[0m \u001b[0;34m=\u001b[0m \u001b[0mSingleBlockManager\u001b[0m\u001b[0;34m(\u001b[0m\u001b[0mdata\u001b[0m\u001b[0;34m,\u001b[0m \u001b[0mindex\u001b[0m\u001b[0;34m,\u001b[0m \u001b[0mfastpath\u001b[0m\u001b[0;34m=\u001b[0m\u001b[0;32mTrue\u001b[0m\u001b[0;34m)\u001b[0m\u001b[0;34m\u001b[0m\u001b[0m\n\u001b[0m\u001b[1;32m    251\u001b[0m \u001b[0;34m\u001b[0m\u001b[0m\n\u001b[1;32m    252\u001b[0m         \u001b[0mgeneric\u001b[0m\u001b[0;34m.\u001b[0m\u001b[0mNDFrame\u001b[0m\u001b[0;34m.\u001b[0m\u001b[0m__init__\u001b[0m\u001b[0;34m(\u001b[0m\u001b[0mself\u001b[0m\u001b[0;34m,\u001b[0m \u001b[0mdata\u001b[0m\u001b[0;34m,\u001b[0m \u001b[0mfastpath\u001b[0m\u001b[0;34m=\u001b[0m\u001b[0;32mTrue\u001b[0m\u001b[0;34m)\u001b[0m\u001b[0;34m\u001b[0m\u001b[0m\n",
      "\u001b[0;32m/Users/doug/anaconda/lib/python3.6/site-packages/pandas/core/internals.py\u001b[0m in \u001b[0;36m__init__\u001b[0;34m(self, block, axis, do_integrity_check, fastpath)\u001b[0m\n\u001b[1;32m   4086\u001b[0m         \u001b[0;31m# passed from constructor, single block, single axis\u001b[0m\u001b[0;34m\u001b[0m\u001b[0;34m\u001b[0m\u001b[0m\n\u001b[1;32m   4087\u001b[0m         \u001b[0;32mif\u001b[0m \u001b[0mfastpath\u001b[0m\u001b[0;34m:\u001b[0m\u001b[0;34m\u001b[0m\u001b[0m\n\u001b[0;32m-> 4088\u001b[0;31m             \u001b[0mself\u001b[0m\u001b[0;34m.\u001b[0m\u001b[0maxes\u001b[0m \u001b[0;34m=\u001b[0m \u001b[0;34m[\u001b[0m\u001b[0maxis\u001b[0m\u001b[0;34m]\u001b[0m\u001b[0;34m\u001b[0m\u001b[0m\n\u001b[0m\u001b[1;32m   4089\u001b[0m             \u001b[0;32mif\u001b[0m \u001b[0misinstance\u001b[0m\u001b[0;34m(\u001b[0m\u001b[0mblock\u001b[0m\u001b[0;34m,\u001b[0m \u001b[0mlist\u001b[0m\u001b[0;34m)\u001b[0m\u001b[0;34m:\u001b[0m\u001b[0;34m\u001b[0m\u001b[0m\n\u001b[1;32m   4090\u001b[0m \u001b[0;34m\u001b[0m\u001b[0m\n",
      "\u001b[0;31mKeyboardInterrupt\u001b[0m: "
     ]
    }
   ],
   "source": [
    "mc, cc, oc, mcp, ccp = count_types(df_cell_w_stats_100)"
   ]
  },
  {
   "cell_type": "code",
   "execution_count": null,
   "metadata": {
    "collapsed": true,
    "comet_cell_id": "944757b4de78"
   },
   "outputs": [],
   "source": [
    "tt = mc + cc + oc"
   ]
  },
  {
   "cell_type": "code",
   "execution_count": 153,
   "metadata": {
    "comet_cell_id": "dba6c01b47ed1"
   },
   "outputs": [
    {
     "data": {
      "text/plain": [
       "<matplotlib.axes._subplots.AxesSubplot at 0x11f53dbe0>"
      ]
     },
     "execution_count": 153,
     "metadata": {},
     "output_type": "execute_result"
    },
    {
     "data": {
      "image/png": "[encoded data removed]",
      "text/plain": [
       "<matplotlib.figure.Figure at 0x11f5514a8>"
      ]
     },
     "metadata": {},
     "output_type": "display_data"
    }
   ],
   "source": [
    "sns.tsplot(tt)"
   ]
  },
  {
   "cell_type": "code",
   "execution_count": 156,
   "metadata": {
    "comet_cell_id": "21feaec37f381"
   },
   "outputs": [
    {
     "data": {
      "text/plain": [
       "1200331.0"
      ]
     },
     "execution_count": 156,
     "metadata": {},
     "output_type": "execute_result"
    }
   ],
   "source": [
    "tt[0]"
   ]
  },
  {
   "cell_type": "markdown",
   "metadata": {
    "comet_cell_id": "dcc98628f07af"
   },
   "source": [
    "Okay, so it looks like we have fairly complete data, with only 14 notebooks not being accounted for across the whole range. This should not throw off our analysis much. Overall we have cell data for 1.2 million notebooks"
   ]
  },
  {
   "cell_type": "markdown",
   "metadata": {
    "comet_cell_id": "8e823b08b6d7c"
   },
   "source": [
    "## 4. Markdown vs. Code Distribution Code\n",
    "\n",
    "We see dramatic dropoff in the proportion of the notebook devoted to code versus markdown."
   ]
  },
  {
   "cell_type": "code",
   "execution_count": null,
   "metadata": {
    "collapsed": true,
    "comet_cell_id": "0e29a45dc438f"
   },
   "outputs": [],
   "source": [
    "f, ax = plt.subplots(figsize=(16, 6))\n",
    "sns.tsplot(cc / tt[0], ax = ax)\n",
    "sns.tsplot(mc/ tt[0], ax = ax, color='green')\n",
    "\n",
    "ax.set_title(\"Probability Cell will be Markdown (green) or Code (blue)\")\n",
    "ax.set_xlabel('% of nb length')\n",
    "ax.set_ylabel('% of cells')\n",
    "ax.set_ylim(0,1)"
   ]
  },
  {
   "cell_type": "markdown",
   "metadata": {
    "comet_cell_id": "ee04afe743fb3"
   },
   "source": [
    "## Content\n",
    "\n",
    "I had attempted to account for the amount of content in each cell (e.g. if a markdown cell at the beginning has most of the words in it, and the later cells have far fewer words. However, looking at these plots it seems I messed something up with my normalization of the data. I think I need to account for the size of the range. "
   ]
  },
  {
   "cell_type": "code",
   "execution_count": 159,
   "metadata": {
    "comet_cell_id": "2d17ba6e60a67"
   },
   "outputs": [
    {
     "data": {
      "text/plain": [
       "<matplotlib.axes._subplots.AxesSubplot at 0x246ac77f0>"
      ]
     },
     "execution_count": 159,
     "metadata": {},
     "output_type": "execute_result"
    },
    {
     "data": {
      "image/png": "[encoded data removed]",
      "text/plain": [
       "<matplotlib.figure.Figure at 0x2469f85c0>"
      ]
     },
     "metadata": {},
     "output_type": "display_data"
    }
   ],
   "source": [
    "sns.tsplot(mcp)"
   ]
  },
  {
   "cell_type": "code",
   "execution_count": 160,
   "metadata": {
    "comet_cell_id": "3f828050c03"
   },
   "outputs": [
    {
     "data": {
      "text/plain": [
       "<matplotlib.axes._subplots.AxesSubplot at 0x246a14ac8>"
      ]
     },
     "execution_count": 160,
     "metadata": {},
     "output_type": "execute_result"
    },
    {
     "data": {
      "image/png": "[encoded data removed]",
      "text/plain": [
       "<matplotlib.figure.Figure at 0x2469c15c0>"
      ]
     },
     "metadata": {},
     "output_type": "display_data"
    }
   ],
   "source": [
    "sns.tsplot(ccp)"
   ]
  },
  {
   "cell_type": "markdown",
   "metadata": {
    "comet_cell_id": "1571fed779c16"
   },
   "source": [
    "## 5.0 Fix Content normalization\n",
    "\n",
    "Let's see if I can fix that accounting now. The main change will be dividing the factor by the length of area being covered."
   ]
  },
  {
   "cell_type": "code",
   "execution_count": 11,
   "metadata": {
    "collapsed": true,
    "comet_cell_id": "daf68e1066848"
   },
   "outputs": [],
   "source": [
    "def count_types(df):\n",
    "    # create a master count array for code and for markdown\n",
    "    markdown_counts = np.zeros(100)\n",
    "    code_counts = np.zeros(100)\n",
    "    other_counts = np.zeros(100)\n",
    "    \n",
    "    markdown_counts_prop = np.zeros(100)\n",
    "    code_counts_prop = np.zeros(100)\n",
    "\n",
    "    for i, row in df.iterrows():\n",
    "        \n",
    "        ci = row['cell_index']\n",
    "        nc = float(row['num_cells'])\n",
    "        \n",
    "        start = int(math.ceil((ci) / nc * 100))\n",
    "        end = int(math.ceil((ci + 1) / nc * 100))\n",
    "        \n",
    "        if row['cell_type'] in ['heading', 'markdown']:\n",
    "            markdown_counts[start: end] += 1\n",
    "            if row['num_words_x'] > 0 and row['num_words_y'] > 0 and (end - start) > 0:\n",
    "                markdown_counts_prop[start: end] += (row['num_words_x'] / row['num_words_y'] / (end-start))\n",
    "\n",
    "        elif row['cell_type'] == 'code':\n",
    "            code_counts[start: end] += 1\n",
    "            if row['lines_of_code_x'] > 0 and row['lines_of_code_y'] > 0 and (end - start) > 0:\n",
    "                code_counts_prop[start: end] += (row['lines_of_code_x'] / row['lines_of_code_y'] / (end-start))\n",
    "        \n",
    "        else:\n",
    "            other_counts[start:end] += 1\n",
    "            \n",
    "        # print(\"%s : %s\" % (start, end))\n",
    "        \n",
    "    return markdown_counts, code_counts, other_counts, markdown_counts_prop, code_counts_prop"
   ]
  },
  {
   "cell_type": "code",
   "execution_count": 32,
   "metadata": {
    "collapsed": true,
    "comet_cell_id": "47d76bf5c3842"
   },
   "outputs": [],
   "source": [
    "mc2, cc2, oc2, mcp2, ccp2 = count_types(df_cell_w_stats_100)"
   ]
  },
  {
   "cell_type": "code",
   "execution_count": 33,
   "metadata": {
    "collapsed": true,
    "comet_cell_id": "c8bfd2fa6846e"
   },
   "outputs": [],
   "source": [
    "tt = mc2 + cc2 + oc2"
   ]
  },
  {
   "cell_type": "code",
   "execution_count": 34,
   "metadata": {
    "comet_cell_id": "b6b6bb51ab45"
   },
   "outputs": [
    {
     "data": {
      "text/plain": [
       "<matplotlib.axes._subplots.AxesSubplot at 0x11a53aeb8>"
      ]
     },
     "execution_count": 34,
     "metadata": {},
     "output_type": "execute_result"
    },
    {
     "data": {
      "image/png": "[encoded data removed]",
      "text/plain": [
       "<matplotlib.figure.Figure at 0x11a2b2470>"
      ]
     },
     "metadata": {},
     "output_type": "display_data"
    }
   ],
   "source": [
    "sns.tsplot(tt)"
   ]
  },
  {
   "cell_type": "code",
   "execution_count": 37,
   "metadata": {
    "comet_cell_id": "f11a4f97464c3"
   },
   "outputs": [
    {
     "data": {
      "text/plain": [
       "array([ 681656.,  681448.,  654927.,  617157.,  568850.,  527187.,\n",
       "        505607.,  487427.,  473321.,  461993.,  443669.,  439591.,\n",
       "        413673.,  408015.,  406886.,  397629.,  395129.,  384040.,\n",
       "        383035.,  379163.,  376154.,  372965.,  374807.,  369496.,\n",
       "        372040.,  365137.,  360575.,  357654.,  359874.,  362077.,\n",
       "        357040.,  357851.,  356846.,  356890.,  354121.,  352277.,\n",
       "        348171.,  345510.,  345743.,  350173.,  354475.,  352324.,\n",
       "        352162.,  349882.,  349489.,  349945.,  348235.,  351741.,\n",
       "        347730.,  347244.,  343713.,  342874.,  342404.,  338813.,\n",
       "        341306.,  336659.,  337670.,  333627.,  327644.,  329946.,\n",
       "        335442.,  335609.,  329883.,  329418.,  330650.,  327157.,\n",
       "        328648.,  326520.,  329482.,  328495.,  327951.,  317874.,\n",
       "        317334.,  310725.,  310494.,  311195.,  309976.,  312215.,\n",
       "        313761.,  312618.,  313100.,  306846.,  304685.,  306701.,\n",
       "        302247.,  300559.,  295462.,  291385.,  285329.,  281401.,\n",
       "        278984.,  273352.,  271719.,  265017.,  263226.,  251645.,\n",
       "        239295.,  234972.,  223165.,  208233.])"
      ]
     },
     "execution_count": 37,
     "metadata": {},
     "output_type": "execute_result"
    }
   ],
   "source": [
    "mc2"
   ]
  },
  {
   "cell_type": "code",
   "execution_count": 36,
   "metadata": {
    "comet_cell_id": "0afb6579fd261"
   },
   "outputs": [
    {
     "data": {
      "text/plain": [
       "array([ 514994.,  515200.,  541735.,  579666.,  628083.,  669691.,\n",
       "        691308.,  709530.,  723691.,  735056.,  753474.,  757596.,\n",
       "        783589.,  789194.,  790477.,  799787.,  802285.,  813441.,\n",
       "        814294.,  818300.,  821325.,  824478.,  822649.,  828030.,\n",
       "        825632.,  832488.,  837053.,  839998.,  837752.,  835481.,\n",
       "        840534.,  839665.,  840655.,  840677.,  843495.,  845396.,\n",
       "        849503.,  852141.,  851914.,  847449.,  843182.,  845286.,\n",
       "        845275.,  847589.,  848000.,  847586.,  849255.,  845752.,\n",
       "        849898.,  850378.,  853871.,  854733.,  855173.,  858797.,\n",
       "        856230.,  860940.,  859885.,  863936.,  869819.,  867485.,\n",
       "        862096.,  861969.,  867676.,  868129.,  866899.,  870316.,\n",
       "        868856.,  871076.,  868137.,  868989.,  869457.,  879736.,\n",
       "        880315.,  886935.,  887236.,  886444.,  887696.,  885323.,\n",
       "        883786.,  884833.,  884267.,  890520.,  892417.,  890549.,\n",
       "        895038.,  896762.,  901804.,  905843.,  911923.,  915912.,\n",
       "        918375.,  924275.,  925937.,  932627.,  934357.,  945898.,\n",
       "        958266.,  962513.,  974357.,  989261.])"
      ]
     },
     "execution_count": 36,
     "metadata": {},
     "output_type": "execute_result"
    }
   ],
   "source": [
    "cc2"
   ]
  },
  {
   "cell_type": "code",
   "execution_count": 38,
   "metadata": {
    "comet_cell_id": "8c21d7f46085f"
   },
   "outputs": [
    {
     "data": {
      "text/plain": [
       "array([ 3681.,  3683.,  3669.,  3508.,  3398.,  3453.,  3416.,  3374.,\n",
       "        3318.,  3281.,  3187.,  3143.,  3062.,  3115.,  2961.,  2908.,\n",
       "        2910.,  2843.,  2995.,  2861.,  2845.,  2881.,  2868.,  2796.,\n",
       "        2650.,  2697.,  2694.,  2670.,  2696.,  2764.,  2748.,  2806.,\n",
       "        2821.,  2755.,  2706.,  2649.,  2648.,  2671.,  2665.,  2700.,\n",
       "        2665.,  2712.,  2885.,  2851.,  2833.,  2791.,  2832.,  2829.,\n",
       "        2694.,  2700.,  2738.,  2715.,  2745.,  2712.,  2786.,  2723.,\n",
       "        2765.,  2757.,  2857.,  2889.,  2782.,  2742.,  2761.,  2773.,\n",
       "        2771.,  2847.,  2816.,  2724.,  2701.,  2836.,  2912.,  2710.,\n",
       "        2671.,  2660.,  2590.,  2681.,  2648.,  2782.,  2773.,  2869.,\n",
       "        2953.,  2954.,  3218.,  3070.,  3035.,  2999.,  3054.,  3092.,\n",
       "        3068.,  3005.,  2959.,  2691.,  2662.,  2673.,  2734.,  2774.,\n",
       "        2756.,  2832.,  2795.,  2823.])"
      ]
     },
     "execution_count": 38,
     "metadata": {},
     "output_type": "execute_result"
    }
   ],
   "source": [
    "oc2"
   ]
  },
  {
   "cell_type": "code",
   "execution_count": 78,
   "metadata": {
    "comet_cell_id": "18d08d218b02f"
   },
   "outputs": [
    {
     "data": {
      "text/plain": [
       "(100,)"
      ]
     },
     "execution_count": 78,
     "metadata": {},
     "output_type": "execute_result"
    }
   ],
   "source": [
    "x = np.arange(100)\n",
    "x.shape\n",
    "\n",
    "y = cc2/tt[0]\n",
    "y.shape"
   ]
  },
  {
   "cell_type": "code",
   "execution_count": 1,
   "metadata": {
    "comet_cell_id": "2ef739cfa7129"
   },
   "outputs": [
    {
     "ename": "NameError",
     "evalue": "name 'plt' is not defined",
     "output_type": "error",
     "traceback": [
      "\u001b[0;31m---------------------------------------------------------------------------\u001b[0m",
      "\u001b[0;31mNameError\u001b[0m                                 Traceback (most recent call last)",
      "\u001b[0;32m<ipython-input-1-2776e0d4e431>\u001b[0m in \u001b[0;36m<module>\u001b[0;34m()\u001b[0m\n\u001b[0;32m----> 1\u001b[0;31m \u001b[0mf\u001b[0m\u001b[0;34m,\u001b[0m \u001b[0max\u001b[0m \u001b[0;34m=\u001b[0m \u001b[0mplt\u001b[0m\u001b[0;34m.\u001b[0m\u001b[0msubplots\u001b[0m\u001b[0;34m(\u001b[0m\u001b[0mfigsize\u001b[0m\u001b[0;34m=\u001b[0m\u001b[0;34m(\u001b[0m\u001b[0;36m8\u001b[0m\u001b[0;34m,\u001b[0m \u001b[0;36m6\u001b[0m\u001b[0;34m)\u001b[0m\u001b[0;34m)\u001b[0m\u001b[0;34m\u001b[0m\u001b[0m\n\u001b[0m\u001b[1;32m      2\u001b[0m \u001b[0;34m\u001b[0m\u001b[0m\n\u001b[1;32m      3\u001b[0m \u001b[0;34m\u001b[0m\u001b[0m\n\u001b[1;32m      4\u001b[0m \u001b[0mx\u001b[0m \u001b[0;34m=\u001b[0m \u001b[0mnp\u001b[0m\u001b[0;34m.\u001b[0m\u001b[0marange\u001b[0m\u001b[0;34m(\u001b[0m\u001b[0;36m100\u001b[0m\u001b[0;34m)\u001b[0m\u001b[0;34m\u001b[0m\u001b[0m\n\u001b[1;32m      5\u001b[0m \u001b[0my1\u001b[0m \u001b[0;34m=\u001b[0m \u001b[0mcc2\u001b[0m \u001b[0;34m/\u001b[0m \u001b[0mtt\u001b[0m\u001b[0;34m[\u001b[0m\u001b[0;36m0\u001b[0m\u001b[0;34m]\u001b[0m\u001b[0;34m\u001b[0m\u001b[0m\n",
      "\u001b[0;31mNameError\u001b[0m: name 'plt' is not defined"
     ]
    }
   ],
   "source": [
    "f, ax = plt.subplots(figsize=(8, 6))\n",
    "\n",
    "\n",
    "x = np.arange(100)\n",
    "y1 = cc2 / tt[0]\n",
    "\n",
    "ax.fill_between(x, 0, 1-y1, facecolor='steelblue')\n",
    "ax.fill_between(x, 1, 1-y1, facecolor='lightsteelblue')\n",
    "\n",
    "# sns.tsplot(cc2 / tt[0] * 100, ax = ax)\n",
    "# sns.tsplot(mc2 /tt[0] * 100, ax = ax, color='green')\n",
    "\n",
    "f.text(0.48, 0.2,'Text', fontsize=14, rotation=0, color = 'white')\n",
    "f.text(0.48, 0.55,'Code', fontsize=14, rotation=0, color=\"white\")\n",
    "\n",
    "ax.set_title(\"Distribution of Notebook Content\", fontsize = 16, color = 'grey', fontweight=600)\n",
    "ax.set_xlabel('Section of Notebook', fontsize = 14, color = 'grey', fontweight=600)\n",
    "ax.set_ylabel('Percent of Notebook Content', fontsize = 14, color = 'grey', fontweight=600)\n",
    "ax.yaxis.tick_right()\n",
    "ax.set_ylim(0,1)\n",
    "ax.set_xlim(0,99)\n",
    "plt.xticks([0,49,99], ['Start','Middle', 'End'], rotation=0, color='grey', fontsize = 14)\n",
    "plt.yticks([0,0.2,0.4,0.6,0.8, 1], ['0%','20%','40%','60%','80%','100%'], rotation=0, color='grey', fontsize = 14)"
   ]
  },
  {
   "cell_type": "code",
   "execution_count": 77,
   "metadata": {
    "comet_cell_id": "cdd19ee2cd7ff"
   },
   "outputs": [
    {
     "data": {
      "text/plain": [
       "(200,)"
      ]
     },
     "execution_count": 77,
     "metadata": {},
     "output_type": "execute_result"
    }
   ],
   "source": [
    "y1.shape"
   ]
  },
  {
   "cell_type": "code",
   "execution_count": 53,
   "metadata": {
    "comet_cell_id": "c7839d6aa16ed"
   },
   "outputs": [
    {
     "data": {
      "text/plain": [
       "array([ 0,  1,  2,  3,  4,  5,  6,  7,  8,  9, 10, 11, 12, 13, 14, 15, 16,\n",
       "       17, 18, 19, 20, 21, 22, 23, 24, 25, 26, 27, 28, 29, 30, 31, 32, 33,\n",
       "       34, 35, 36, 37, 38, 39, 40, 41, 42, 43, 44, 45, 46, 47, 48, 49, 50,\n",
       "       51, 52, 53, 54, 55, 56, 57, 58, 59, 60, 61, 62, 63, 64, 65, 66, 67,\n",
       "       68, 69, 70, 71, 72, 73, 74, 75, 76, 77, 78, 79, 80, 81, 82, 83, 84,\n",
       "       85, 86, 87, 88, 89, 90, 91, 92, 93, 94, 95, 96, 97, 98, 99])"
      ]
     },
     "execution_count": 53,
     "metadata": {},
     "output_type": "execute_result"
    }
   ],
   "source": [
    "np.arange(101)"
   ]
  },
  {
   "cell_type": "code",
   "execution_count": 187,
   "metadata": {
    "comet_cell_id": "2ba59e23e2386"
   },
   "outputs": [
    {
     "data": {
      "text/plain": [
       "<matplotlib.axes._subplots.AxesSubplot at 0x38a2b5e48>"
      ]
     },
     "execution_count": 187,
     "metadata": {},
     "output_type": "execute_result"
    },
    {
     "data": {
      "image/png": "[encoded data removed]",
      "text/plain": [
       "<matplotlib.figure.Figure at 0x11ce51f98>"
      ]
     },
     "metadata": {},
     "output_type": "display_data"
    }
   ],
   "source": [
    "sns.tsplot(mcp2)"
   ]
  },
  {
   "cell_type": "code",
   "execution_count": 188,
   "metadata": {
    "comet_cell_id": "f1b9149cc228a"
   },
   "outputs": [
    {
     "data": {
      "text/plain": [
       "<matplotlib.axes._subplots.AxesSubplot at 0x38a38bc50>"
      ]
     },
     "execution_count": 188,
     "metadata": {},
     "output_type": "execute_result"
    },
    {
     "data": {
      "image/png": "[encoded data removed]",
      "text/plain": [
       "<matplotlib.figure.Figure at 0x38a37cb38>"
      ]
     },
     "metadata": {},
     "output_type": "display_data"
    }
   ],
   "source": [
    "sns.tsplot(ccp2)"
   ]
  },
  {
   "cell_type": "markdown",
   "metadata": {
    "comet_cell_id": "aee0f5d60f519"
   },
   "source": [
    "Hmm, these plots don't have the correct scale yet. I would have done well to count the number of notebooks that had markdown or code in them. I think I can calculate that now and redo the graphs."
   ]
  },
  {
   "cell_type": "code",
   "execution_count": 190,
   "metadata": {
    "comet_cell_id": "4fb740b9662d3"
   },
   "outputs": [
    {
     "name": "stdout",
     "output_type": "stream",
     "text": [
      "855559 notebooks with markdown\n",
      "1144626 notebooks with code\n"
     ]
    }
   ],
   "source": [
    "nbs_w_markdown = df_cell_w_stats_100[df_cell_w_stats_100.num_words_y > 0]['nb_id'].unique().shape[0]\n",
    "nbs_w_code = df_cell_w_stats_100[df_cell_w_stats_100.lines_of_code_y > 0]['nb_id'].unique().shape[0]\n",
    "\n",
    "print('%s notebooks with markdown' % nbs_w_markdown)\n",
    "print('%s notebooks with code' % nbs_w_code)"
   ]
  },
  {
   "cell_type": "code",
   "execution_count": 193,
   "metadata": {
    "comet_cell_id": "1a9069bda8efc"
   },
   "outputs": [
    {
     "data": {
      "text/plain": [
       "(0, 0.03)"
      ]
     },
     "execution_count": 193,
     "metadata": {},
     "output_type": "execute_result"
    },
    {
     "data": {
      "image/png": "[encoded data removed]",
      "text/plain": [
       "<matplotlib.figure.Figure at 0x11f564a20>"
      ]
     },
     "metadata": {},
     "output_type": "display_data"
    }
   ],
   "source": [
    "ax = sns.tsplot(mcp2 / nbs_w_markdown)\n",
    "ax.set_ylim(0,0.03)"
   ]
  },
  {
   "cell_type": "code",
   "execution_count": 194,
   "metadata": {
    "comet_cell_id": "e3b12bfafcb05"
   },
   "outputs": [
    {
     "data": {
      "text/plain": [
       "(0, 0.012)"
      ]
     },
     "execution_count": 194,
     "metadata": {},
     "output_type": "execute_result"
    },
    {
     "data": {
      "image/png": "[encoded data removed]",
      "text/plain": [
       "<matplotlib.figure.Figure at 0x140f897b8>"
      ]
     },
     "metadata": {},
     "output_type": "display_data"
    }
   ],
   "source": [
    "ax = sns.tsplot(ccp2 / nbs_w_code)\n",
    "ax.set_ylim(0,0.012)"
   ]
  },
  {
   "cell_type": "markdown",
   "metadata": {
    "comet_cell_id": "b3d4534aa42b5"
   },
   "source": [
    "And to check that our normalization worked reasonably well, we can take the sum of the arrays."
   ]
  },
  {
   "cell_type": "code",
   "execution_count": 195,
   "metadata": {
    "comet_cell_id": "b115a95a7b6d"
   },
   "outputs": [
    {
     "data": {
      "text/plain": [
       "0.9889004254600533"
      ]
     },
     "execution_count": 195,
     "metadata": {},
     "output_type": "execute_result"
    }
   ],
   "source": [
    "mcp2.sum() / nbs_w_markdown"
   ]
  },
  {
   "cell_type": "code",
   "execution_count": 196,
   "metadata": {
    "comet_cell_id": "5083eb8e903a7"
   },
   "outputs": [
    {
     "data": {
      "text/plain": [
       "0.99995656616987849"
      ]
     },
     "execution_count": 196,
     "metadata": {},
     "output_type": "execute_result"
    }
   ],
   "source": [
    "ccp2.sum() / nbs_w_code"
   ]
  },
  {
   "cell_type": "markdown",
   "metadata": {
    "comet_cell_id": "be2ebed66f54b"
   },
   "source": [
    "The markdown is a little off, but still reasonably close. The code is really close. now let's put the two togeter"
   ]
  },
  {
   "cell_type": "markdown",
   "metadata": {
    "comet_cell_id": "083ea1b445bcc"
   },
   "source": [
    "## Final Plots"
   ]
  },
  {
   "cell_type": "code",
   "execution_count": 220,
   "metadata": {
    "comet_cell_id": "cb9f97f9f16c"
   },
   "outputs": [
    {
     "data": {
      "text/plain": [
       "(0, 100)"
      ]
     },
     "execution_count": 220,
     "metadata": {},
     "output_type": "execute_result"
    },
    {
     "data": {
      "image/png": "[encoded data removed]",
      "text/plain": [
       "<matplotlib.figure.Figure at 0x155067f98>"
      ]
     },
     "metadata": {},
     "output_type": "display_data"
    }
   ],
   "source": [
    "f, ax = plt.subplots(figsize=(8, 6))\n",
    "sns.tsplot(cc / tt[0] * 100, ax = ax)\n",
    "sns.tsplot(mc/ tt[0] * 100, ax = ax, color='green')\n",
    "\n",
    "ax.set_title(\"Probability Cell will be Markdown (green) or Code (blue)\")\n",
    "ax.set_xlabel('% of nb length')\n",
    "ax.set_ylabel('% of cells')\n",
    "ax.set_ylim(0,100)"
   ]
  },
  {
   "cell_type": "code",
   "execution_count": 219,
   "metadata": {
    "comet_cell_id": "f7ed28d370313"
   },
   "outputs": [
    {
     "data": {
      "text/plain": [
       "(0, 3)"
      ]
     },
     "execution_count": 219,
     "metadata": {},
     "output_type": "execute_result"
    },
    {
     "data": {
      "image/png": "[encoded data removed]",
      "text/plain": [
       "<matplotlib.figure.Figure at 0x15612a470>"
      ]
     },
     "metadata": {},
     "output_type": "display_data"
    }
   ],
   "source": [
    "f, ax = plt.subplots(figsize=(8, 6))\n",
    "sns.tsplot(mcp2 / nbs_w_markdown * 100, ax = ax, color='green')\n",
    "sns.tsplot(ccp2 / nbs_w_code * 100, ax = ax)\n",
    "\n",
    "ax.set_title(\"Distribution Markdown (green) or Code (blue) content throughout the notebook\")\n",
    "ax.set_xlabel('% of nb length')\n",
    "ax.set_ylabel('% of content')\n",
    "ax.set_ylim(0,3)"
   ]
  },
  {
   "cell_type": "code",
   "execution_count": 218,
   "metadata": {
    "comet_cell_id": "6d6199ab6ae24"
   },
   "outputs": [
    {
     "data": {
      "text/plain": [
       "5.9560252922110095"
      ]
     },
     "execution_count": 218,
     "metadata": {},
     "output_type": "execute_result"
    }
   ],
   "source": [
    "mcp2[91:100].sum() / nbs_w_markdown * 100"
   ]
  },
  {
   "cell_type": "markdown",
   "metadata": {
    "collapsed": true,
    "comet_cell_id": "c02999f5e3dd5"
   },
   "source": [
    "These final plots ended up being reused."
   ]
  },
  {
   "cell_type": "code",
   "execution_count": null,
   "metadata": {
    "collapsed": true,
    "comet_cell_id": "be60e217a86f9"
   },
   "outputs": [],
   "source": []
  }
 ],
 "metadata": {
  "comet_paths": [
   [
    "d10c47a2/10_markdown_distribution.ipynb",
    1502494791419
   ],
   [
    "d1dd24ab/10_markdown_distribution.ipynb",
    1502734513290
   ],
   [
    "d1dd24ab/8_markdown_distribution.ipynb",
    1507671774485
   ]
  ],
  "comet_tracking": true,
  "kernelspec": {
   "display_name": "Python 3",
   "language": "python",
   "name": "python3"
  },
  "language_info": {
   "codemirror_mode": {
    "name": "ipython",
    "version": 3
   },
   "file_extension": ".py",
   "mimetype": "text/x-python",
   "name": "python",
   "nbconvert_exporter": "python",
   "pygments_lexer": "ipython3",
   "version": "3.6.1"
  }
 },
 "nbformat": 4,
 "nbformat_minor": 2
}
