{
 "cells": [
  {
   "cell_type": "code",
   "execution_count": 3,
   "metadata": {},
   "outputs": [
    {
     "name": "stdout",
     "output_type": "stream",
     "text": [
      "_fbln[hNfbhs\n"
     ]
    }
   ],
   "source": [
    "def encrypt(plain_text, key):\n",
    "    key_len = len(key)\n",
    "    plain_len = len(plain_text)\n",
    "    cipher_list = list()\n",
    "    cipher_text = ''\n",
    "    new_key = ''\n",
    "    if key_len >= plain_len:\n",
    "        for i in range(plain_len):\n",
    "            cipher_numeric = (ord(plain_text[i]) + ord(key[i]) - 64 * 2)\n",
    "            # Gap between 'A' to 'z': ASCII 65-122\n",
    "            if cipher_numeric > 58:\n",
    "                cipher_numeric %= 58\n",
    "            cipher_list.append(cipher_numeric)\n",
    "    else:\n",
    "\n",
    "        round = plain_len // key_len\n",
    "        remain = plain_len % key_len\n",
    "        for r in range(round):\n",
    "            new_key += key\n",
    "        for m in range(remain):\n",
    "            new_key += key[m]\n",
    "        for i in range(plain_len):\n",
    "            cipher_numeric = (ord(plain_text[i]) + ord(new_key[i]) - 64 * 2)\n",
    "            if cipher_numeric > 58:\n",
    "                cipher_numeric %= 58\n",
    "            cipher_list.append(cipher_numeric)\n",
    "    for letter in cipher_list:\n",
    "        cipher_text += chr(letter + 64)\n",
    "    return cipher_text\n",
    "#     print(cipher_text)\n",
    "\n",
    "plain_text = 'trytoencrypt'\n",
    "key = 'encrypt'\n",
    "test_text = encrypt(plain_text, key)\n",
    "print(test_text)"
   ]
  },
  {
   "cell_type": "code",
   "execution_count": 4,
   "metadata": {
    "scrolled": false
   },
   "outputs": [
    {
     "name": "stdout",
     "output_type": "stream",
     "text": [
      "trytoencrypt\n"
     ]
    }
   ],
   "source": [
    "def decrypt(cipher_text, key):\n",
    "    cipher_len = len(cipher_text)\n",
    "    key_len = len(key)\n",
    "    new_key = ''\n",
    "    plain_text = ''\n",
    "    plain_list = list()\n",
    "    if cipher_len <= key_len:\n",
    "        for i in range(cipher_len):\n",
    "            plain_numeric = (ord(cipher_text[i]) - ord(key[i]))\n",
    "            if plain_numeric < 0:\n",
    "                plain_numeric %= 58\n",
    "            plain_list.append(plain_numeric)\n",
    "    else:\n",
    "        round = cipher_len // key_len\n",
    "        remain = cipher_len % key_len\n",
    "        for r in range(round):\n",
    "            new_key += key\n",
    "        for m in range(remain):\n",
    "            new_key += key[m]\n",
    "        for i in range(cipher_len):\n",
    "            plain_numeric = (ord(cipher_text[i]) - ord(new_key[i]))\n",
    "            if plain_numeric < 0:\n",
    "                plain_numeric %= 58\n",
    "            plain_list.append(plain_numeric)\n",
    "    for number in plain_list:\n",
    "        plain_text += chr(number + 64)\n",
    "    return plain_text\n",
    "#     print(plain_text)\n",
    "text = decrypt(\"_fbln[hNfbhs\",'encrypt')\n",
    "print(text)\n"
   ]
  },
  {
   "cell_type": "code",
   "execution_count": null,
   "metadata": {},
   "outputs": [],
   "source": []
  }
 ],
 "metadata": {
  "kernelspec": {
   "display_name": "Python 3",
   "language": "python",
   "name": "python3"
  },
  "language_info": {
   "codemirror_mode": {
    "name": "ipython",
    "version": 3
   },
   "file_extension": ".py",
   "mimetype": "text/x-python",
   "name": "python",
   "nbconvert_exporter": "python",
   "pygments_lexer": "ipython3",
   "version": "3.6.2"
  }
 },
 "nbformat": 4,
 "nbformat_minor": 2
}
