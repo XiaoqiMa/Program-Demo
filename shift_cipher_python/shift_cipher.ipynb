{
 "cells": [
  {
   "cell_type": "code",
   "execution_count": 127,
   "metadata": {},
   "outputs": [
    {
     "name": "stdout",
     "output_type": "stream",
     "text": [
      "g^Yjo\n"
     ]
    }
   ],
   "source": [
    "def encrypt(plain_text, key):\n",
    "    key_len = len(key)\n",
    "    plain_len = len(plain_text)\n",
    "    cipher_list = list()\n",
    "    cipher_text = ''\n",
    "    new_key = ''\n",
    "    if key_len >= plain_len:\n",
    "        for i in range(plain_len):\n",
    "            cipher_numeric = (ord(plain_text[i]) + ord(key[i]) - 64 * 2)\n",
    "            if cipher_numeric > 52:\n",
    "                cipher_numeric %= 52\n",
    "            cipher_list.append(cipher_numeric)\n",
    "    else:\n",
    "        \n",
    "        round = plain_len // key_len\n",
    "        remain = plain_len % key_len\n",
    "        for r in range(round):\n",
    "            new_key += key\n",
    "        for m in range(remain):\n",
    "            new_key += key[m]\n",
    "        for i in range(plain_len):\n",
    "            cipher_numeric = (ord(plain_text[i]) + ord(new_key[i]) - 64 * 2)\n",
    "            if cipher_numeric > 52:\n",
    "                cipher_numeric %= 52\n",
    "            cipher_list.append(cipher_numeric)\n",
    "    for letter in cipher_list:\n",
    "        cipher_text += chr(letter + 64)\n",
    "    return cipher_text\n",
    "\n",
    "text = encrypt('hello', 'smart')\n",
    "print(text)"
   ]
  },
  {
   "cell_type": "code",
   "execution_count": 121,
   "metadata": {},
   "outputs": [
    {
     "name": "stdout",
     "output_type": "stream",
     "text": [
      "8\n",
      "passpasspa\n",
      "10\n"
     ]
    }
   ],
   "source": [
    "key='pass'\n",
    "new_key=''\n",
    "plain_len = 10\n",
    "key_len = len(key)\n",
    "round = plain_len // key_len\n",
    "remain = plain_len % key_len\n",
    "for r in range(round):\n",
    "    new_key += key\n",
    "print(len(new_key))\n",
    "for m in range(remain):\n",
    "    new_key += key[m]\n",
    "print(new_key)\n",
    "print(len(new_key))"
   ]
  },
  {
   "cell_type": "code",
   "execution_count": 78,
   "metadata": {},
   "outputs": [
    {
     "name": "stdout",
     "output_type": "stream",
     "text": [
      "2\n",
      "24\n"
     ]
    }
   ],
   "source": [
    "n = 2\n",
    "m = -2\n",
    "print(n%26)\n",
    "print(m%26)"
   ]
  },
  {
   "cell_type": "code",
   "execution_count": 129,
   "metadata": {
    "scrolled": false
   },
   "outputs": [
    {
     "name": "stdout",
     "output_type": "stream",
     "text": [
      "\n",
      "[40, 37, 44, 44, 47]\n",
      "hello\n"
     ]
    }
   ],
   "source": [
    "def decrypt(cipher_text, key):\n",
    "    cipher_len = len(cipher_text)\n",
    "    key_len = len(key)\n",
    "    cipher = ''\n",
    "    new_key = ''\n",
    "    plain_text = ''\n",
    "    plain_list = list()\n",
    "    if cipher_len <= key_len:\n",
    "        for i in range(cipher_len):\n",
    "            plain_numeric = (ord(cipher_text[i]) - ord(key[i]))\n",
    "            if plain_numeric < 0:\n",
    "                plain_numeric %= 52\n",
    "            plain_list.append(plain_numeric)\n",
    "    else:\n",
    "        round = cipher_len // key_len\n",
    "        remain = cipher_len % key_len\n",
    "        for r in range(round):\n",
    "            new_key += key\n",
    "        for m in range(remain):\n",
    "            new_key += key[m]\n",
    "        for i in range(cipher_len):\n",
    "            plain_numeric = (ord(cipher_text[i]) - ord(new_key[i])) \n",
    "            if plain_numeric < 0:\n",
    "                plain_numeric %= 52\n",
    "            plain_list.append(plain_numeric)\n",
    "    for number in plain_list:\n",
    "        plain_text += chr(number + 64)\n",
    "    print(new_key)\n",
    "    print(plain_list)\n",
    "    return plain_text\n",
    "text = decrypt('g^Yjo','smart')\n",
    "print(text)\n",
    "#'[', '\\', ']', '^', '_', '`'"
   ]
  },
  {
   "cell_type": "code",
   "execution_count": 140,
   "metadata": {},
   "outputs": [
    {
     "name": "stdout",
     "output_type": "stream",
     "text": [
      "91\n"
     ]
    }
   ],
   "source": [
    "print(ord('['))"
   ]
  },
  {
   "cell_type": "code",
   "execution_count": null,
   "metadata": {},
   "outputs": [],
   "source": []
  }
 ],
 "metadata": {
  "kernelspec": {
   "display_name": "Python 3",
   "language": "python",
   "name": "python3"
  },
  "language_info": {
   "codemirror_mode": {
    "name": "ipython",
    "version": 3
   },
   "file_extension": ".py",
   "mimetype": "text/x-python",
   "name": "python",
   "nbconvert_exporter": "python",
   "pygments_lexer": "ipython3",
   "version": "3.6.2"
  }
 },
 "nbformat": 4,
 "nbformat_minor": 2
}
